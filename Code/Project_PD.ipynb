{
 "cells": [
  {
   "cell_type": "markdown",
   "id": "3212023b",
   "metadata": {},
   "source": [
    "# Detecting Parkinson's Disease using Machine Learning Algorithms"
   ]
  },
  {
   "cell_type": "markdown",
   "id": "6ba4555a",
   "metadata": {},
   "source": [
    "By: Najmeh Moazzen"
   ]
  },
  {
   "cell_type": "markdown",
   "id": "4f5bdc77",
   "metadata": {},
   "source": [
    "Student ID: 961309"
   ]
  },
  {
   "cell_type": "markdown",
   "id": "07e4a891",
   "metadata": {},
   "source": [
    "Date: 1400.10.10\n"
   ]
  },
  {
   "cell_type": "markdown",
   "id": "7e662acc",
   "metadata": {},
   "source": [
    "Version: Python 3.9.6"
   ]
  },
  {
   "cell_type": "markdown",
   "id": "49a3dbae",
   "metadata": {},
   "source": [
    "## Get the data from PC"
   ]
  },
  {
   "cell_type": "code",
   "execution_count": 1,
   "id": "85ca8676",
   "metadata": {},
   "outputs": [],
   "source": [
    "# make dataframe\n",
    "\n",
    "import numpy as np\n",
    "import pandas as pd\n",
    "df= pd.read_csv (r\"C:\\Users\\Njm\\Downloads\\parkinsons\\parkinsons.data\")"
   ]
  },
  {
   "cell_type": "code",
   "execution_count": 2,
   "id": "e8ff6faa",
   "metadata": {},
   "outputs": [
    {
     "data": {
      "text/html": [
       "<div>\n",
       "<style scoped>\n",
       "    .dataframe tbody tr th:only-of-type {\n",
       "        vertical-align: middle;\n",
       "    }\n",
       "\n",
       "    .dataframe tbody tr th {\n",
       "        vertical-align: top;\n",
       "    }\n",
       "\n",
       "    .dataframe thead th {\n",
       "        text-align: right;\n",
       "    }\n",
       "</style>\n",
       "<table border=\"1\" class=\"dataframe\">\n",
       "  <thead>\n",
       "    <tr style=\"text-align: right;\">\n",
       "      <th></th>\n",
       "      <th>name</th>\n",
       "      <th>MDVP:Fo(Hz)</th>\n",
       "      <th>MDVP:Fhi(Hz)</th>\n",
       "      <th>MDVP:Flo(Hz)</th>\n",
       "      <th>MDVP:Jitter(%)</th>\n",
       "      <th>MDVP:Jitter(Abs)</th>\n",
       "      <th>MDVP:RAP</th>\n",
       "      <th>MDVP:PPQ</th>\n",
       "      <th>Jitter:DDP</th>\n",
       "      <th>MDVP:Shimmer</th>\n",
       "      <th>...</th>\n",
       "      <th>Shimmer:DDA</th>\n",
       "      <th>NHR</th>\n",
       "      <th>HNR</th>\n",
       "      <th>status</th>\n",
       "      <th>RPDE</th>\n",
       "      <th>DFA</th>\n",
       "      <th>spread1</th>\n",
       "      <th>spread2</th>\n",
       "      <th>D2</th>\n",
       "      <th>PPE</th>\n",
       "    </tr>\n",
       "  </thead>\n",
       "  <tbody>\n",
       "    <tr>\n",
       "      <th>0</th>\n",
       "      <td>phon_R01_S01_1</td>\n",
       "      <td>119.992</td>\n",
       "      <td>157.302</td>\n",
       "      <td>74.997</td>\n",
       "      <td>0.00784</td>\n",
       "      <td>0.00007</td>\n",
       "      <td>0.00370</td>\n",
       "      <td>0.00554</td>\n",
       "      <td>0.01109</td>\n",
       "      <td>0.04374</td>\n",
       "      <td>...</td>\n",
       "      <td>0.06545</td>\n",
       "      <td>0.02211</td>\n",
       "      <td>21.033</td>\n",
       "      <td>1</td>\n",
       "      <td>0.414783</td>\n",
       "      <td>0.815285</td>\n",
       "      <td>-4.813031</td>\n",
       "      <td>0.266482</td>\n",
       "      <td>2.301442</td>\n",
       "      <td>0.284654</td>\n",
       "    </tr>\n",
       "    <tr>\n",
       "      <th>1</th>\n",
       "      <td>phon_R01_S01_2</td>\n",
       "      <td>122.400</td>\n",
       "      <td>148.650</td>\n",
       "      <td>113.819</td>\n",
       "      <td>0.00968</td>\n",
       "      <td>0.00008</td>\n",
       "      <td>0.00465</td>\n",
       "      <td>0.00696</td>\n",
       "      <td>0.01394</td>\n",
       "      <td>0.06134</td>\n",
       "      <td>...</td>\n",
       "      <td>0.09403</td>\n",
       "      <td>0.01929</td>\n",
       "      <td>19.085</td>\n",
       "      <td>1</td>\n",
       "      <td>0.458359</td>\n",
       "      <td>0.819521</td>\n",
       "      <td>-4.075192</td>\n",
       "      <td>0.335590</td>\n",
       "      <td>2.486855</td>\n",
       "      <td>0.368674</td>\n",
       "    </tr>\n",
       "    <tr>\n",
       "      <th>2</th>\n",
       "      <td>phon_R01_S01_3</td>\n",
       "      <td>116.682</td>\n",
       "      <td>131.111</td>\n",
       "      <td>111.555</td>\n",
       "      <td>0.01050</td>\n",
       "      <td>0.00009</td>\n",
       "      <td>0.00544</td>\n",
       "      <td>0.00781</td>\n",
       "      <td>0.01633</td>\n",
       "      <td>0.05233</td>\n",
       "      <td>...</td>\n",
       "      <td>0.08270</td>\n",
       "      <td>0.01309</td>\n",
       "      <td>20.651</td>\n",
       "      <td>1</td>\n",
       "      <td>0.429895</td>\n",
       "      <td>0.825288</td>\n",
       "      <td>-4.443179</td>\n",
       "      <td>0.311173</td>\n",
       "      <td>2.342259</td>\n",
       "      <td>0.332634</td>\n",
       "    </tr>\n",
       "    <tr>\n",
       "      <th>3</th>\n",
       "      <td>phon_R01_S01_4</td>\n",
       "      <td>116.676</td>\n",
       "      <td>137.871</td>\n",
       "      <td>111.366</td>\n",
       "      <td>0.00997</td>\n",
       "      <td>0.00009</td>\n",
       "      <td>0.00502</td>\n",
       "      <td>0.00698</td>\n",
       "      <td>0.01505</td>\n",
       "      <td>0.05492</td>\n",
       "      <td>...</td>\n",
       "      <td>0.08771</td>\n",
       "      <td>0.01353</td>\n",
       "      <td>20.644</td>\n",
       "      <td>1</td>\n",
       "      <td>0.434969</td>\n",
       "      <td>0.819235</td>\n",
       "      <td>-4.117501</td>\n",
       "      <td>0.334147</td>\n",
       "      <td>2.405554</td>\n",
       "      <td>0.368975</td>\n",
       "    </tr>\n",
       "    <tr>\n",
       "      <th>4</th>\n",
       "      <td>phon_R01_S01_5</td>\n",
       "      <td>116.014</td>\n",
       "      <td>141.781</td>\n",
       "      <td>110.655</td>\n",
       "      <td>0.01284</td>\n",
       "      <td>0.00011</td>\n",
       "      <td>0.00655</td>\n",
       "      <td>0.00908</td>\n",
       "      <td>0.01966</td>\n",
       "      <td>0.06425</td>\n",
       "      <td>...</td>\n",
       "      <td>0.10470</td>\n",
       "      <td>0.01767</td>\n",
       "      <td>19.649</td>\n",
       "      <td>1</td>\n",
       "      <td>0.417356</td>\n",
       "      <td>0.823484</td>\n",
       "      <td>-3.747787</td>\n",
       "      <td>0.234513</td>\n",
       "      <td>2.332180</td>\n",
       "      <td>0.410335</td>\n",
       "    </tr>\n",
       "  </tbody>\n",
       "</table>\n",
       "<p>5 rows × 24 columns</p>\n",
       "</div>"
      ],
      "text/plain": [
       "             name  MDVP:Fo(Hz)  MDVP:Fhi(Hz)  MDVP:Flo(Hz)  MDVP:Jitter(%)  \\\n",
       "0  phon_R01_S01_1      119.992       157.302        74.997         0.00784   \n",
       "1  phon_R01_S01_2      122.400       148.650       113.819         0.00968   \n",
       "2  phon_R01_S01_3      116.682       131.111       111.555         0.01050   \n",
       "3  phon_R01_S01_4      116.676       137.871       111.366         0.00997   \n",
       "4  phon_R01_S01_5      116.014       141.781       110.655         0.01284   \n",
       "\n",
       "   MDVP:Jitter(Abs)  MDVP:RAP  MDVP:PPQ  Jitter:DDP  MDVP:Shimmer  ...  \\\n",
       "0           0.00007   0.00370   0.00554     0.01109       0.04374  ...   \n",
       "1           0.00008   0.00465   0.00696     0.01394       0.06134  ...   \n",
       "2           0.00009   0.00544   0.00781     0.01633       0.05233  ...   \n",
       "3           0.00009   0.00502   0.00698     0.01505       0.05492  ...   \n",
       "4           0.00011   0.00655   0.00908     0.01966       0.06425  ...   \n",
       "\n",
       "   Shimmer:DDA      NHR     HNR  status      RPDE       DFA   spread1  \\\n",
       "0      0.06545  0.02211  21.033       1  0.414783  0.815285 -4.813031   \n",
       "1      0.09403  0.01929  19.085       1  0.458359  0.819521 -4.075192   \n",
       "2      0.08270  0.01309  20.651       1  0.429895  0.825288 -4.443179   \n",
       "3      0.08771  0.01353  20.644       1  0.434969  0.819235 -4.117501   \n",
       "4      0.10470  0.01767  19.649       1  0.417356  0.823484 -3.747787   \n",
       "\n",
       "    spread2        D2       PPE  \n",
       "0  0.266482  2.301442  0.284654  \n",
       "1  0.335590  2.486855  0.368674  \n",
       "2  0.311173  2.342259  0.332634  \n",
       "3  0.334147  2.405554  0.368975  \n",
       "4  0.234513  2.332180  0.410335  \n",
       "\n",
       "[5 rows x 24 columns]"
      ]
     },
     "execution_count": 2,
     "metadata": {},
     "output_type": "execute_result"
    }
   ],
   "source": [
    "df.head()"
   ]
  },
  {
   "cell_type": "code",
   "execution_count": 3,
   "id": "58061f69",
   "metadata": {},
   "outputs": [
    {
     "data": {
      "text/html": [
       "<div>\n",
       "<style scoped>\n",
       "    .dataframe tbody tr th:only-of-type {\n",
       "        vertical-align: middle;\n",
       "    }\n",
       "\n",
       "    .dataframe tbody tr th {\n",
       "        vertical-align: top;\n",
       "    }\n",
       "\n",
       "    .dataframe thead th {\n",
       "        text-align: right;\n",
       "    }\n",
       "</style>\n",
       "<table border=\"1\" class=\"dataframe\">\n",
       "  <thead>\n",
       "    <tr style=\"text-align: right;\">\n",
       "      <th></th>\n",
       "      <th>name</th>\n",
       "      <th>MDVP:Fo(Hz)</th>\n",
       "      <th>MDVP:Fhi(Hz)</th>\n",
       "      <th>MDVP:Flo(Hz)</th>\n",
       "      <th>MDVP:Jitter(%)</th>\n",
       "      <th>MDVP:Jitter(Abs)</th>\n",
       "      <th>MDVP:RAP</th>\n",
       "      <th>MDVP:PPQ</th>\n",
       "      <th>Jitter:DDP</th>\n",
       "      <th>MDVP:Shimmer</th>\n",
       "      <th>...</th>\n",
       "      <th>Shimmer:DDA</th>\n",
       "      <th>NHR</th>\n",
       "      <th>HNR</th>\n",
       "      <th>status</th>\n",
       "      <th>RPDE</th>\n",
       "      <th>DFA</th>\n",
       "      <th>spread1</th>\n",
       "      <th>spread2</th>\n",
       "      <th>D2</th>\n",
       "      <th>PPE</th>\n",
       "    </tr>\n",
       "  </thead>\n",
       "  <tbody>\n",
       "    <tr>\n",
       "      <th>190</th>\n",
       "      <td>phon_R01_S50_2</td>\n",
       "      <td>174.188</td>\n",
       "      <td>230.978</td>\n",
       "      <td>94.261</td>\n",
       "      <td>0.00459</td>\n",
       "      <td>0.00003</td>\n",
       "      <td>0.00263</td>\n",
       "      <td>0.00259</td>\n",
       "      <td>0.00790</td>\n",
       "      <td>0.04087</td>\n",
       "      <td>...</td>\n",
       "      <td>0.07008</td>\n",
       "      <td>0.02764</td>\n",
       "      <td>19.517</td>\n",
       "      <td>0</td>\n",
       "      <td>0.448439</td>\n",
       "      <td>0.657899</td>\n",
       "      <td>-6.538586</td>\n",
       "      <td>0.121952</td>\n",
       "      <td>2.657476</td>\n",
       "      <td>0.133050</td>\n",
       "    </tr>\n",
       "    <tr>\n",
       "      <th>191</th>\n",
       "      <td>phon_R01_S50_3</td>\n",
       "      <td>209.516</td>\n",
       "      <td>253.017</td>\n",
       "      <td>89.488</td>\n",
       "      <td>0.00564</td>\n",
       "      <td>0.00003</td>\n",
       "      <td>0.00331</td>\n",
       "      <td>0.00292</td>\n",
       "      <td>0.00994</td>\n",
       "      <td>0.02751</td>\n",
       "      <td>...</td>\n",
       "      <td>0.04812</td>\n",
       "      <td>0.01810</td>\n",
       "      <td>19.147</td>\n",
       "      <td>0</td>\n",
       "      <td>0.431674</td>\n",
       "      <td>0.683244</td>\n",
       "      <td>-6.195325</td>\n",
       "      <td>0.129303</td>\n",
       "      <td>2.784312</td>\n",
       "      <td>0.168895</td>\n",
       "    </tr>\n",
       "    <tr>\n",
       "      <th>192</th>\n",
       "      <td>phon_R01_S50_4</td>\n",
       "      <td>174.688</td>\n",
       "      <td>240.005</td>\n",
       "      <td>74.287</td>\n",
       "      <td>0.01360</td>\n",
       "      <td>0.00008</td>\n",
       "      <td>0.00624</td>\n",
       "      <td>0.00564</td>\n",
       "      <td>0.01873</td>\n",
       "      <td>0.02308</td>\n",
       "      <td>...</td>\n",
       "      <td>0.03804</td>\n",
       "      <td>0.10715</td>\n",
       "      <td>17.883</td>\n",
       "      <td>0</td>\n",
       "      <td>0.407567</td>\n",
       "      <td>0.655683</td>\n",
       "      <td>-6.787197</td>\n",
       "      <td>0.158453</td>\n",
       "      <td>2.679772</td>\n",
       "      <td>0.131728</td>\n",
       "    </tr>\n",
       "    <tr>\n",
       "      <th>193</th>\n",
       "      <td>phon_R01_S50_5</td>\n",
       "      <td>198.764</td>\n",
       "      <td>396.961</td>\n",
       "      <td>74.904</td>\n",
       "      <td>0.00740</td>\n",
       "      <td>0.00004</td>\n",
       "      <td>0.00370</td>\n",
       "      <td>0.00390</td>\n",
       "      <td>0.01109</td>\n",
       "      <td>0.02296</td>\n",
       "      <td>...</td>\n",
       "      <td>0.03794</td>\n",
       "      <td>0.07223</td>\n",
       "      <td>19.020</td>\n",
       "      <td>0</td>\n",
       "      <td>0.451221</td>\n",
       "      <td>0.643956</td>\n",
       "      <td>-6.744577</td>\n",
       "      <td>0.207454</td>\n",
       "      <td>2.138608</td>\n",
       "      <td>0.123306</td>\n",
       "    </tr>\n",
       "    <tr>\n",
       "      <th>194</th>\n",
       "      <td>phon_R01_S50_6</td>\n",
       "      <td>214.289</td>\n",
       "      <td>260.277</td>\n",
       "      <td>77.973</td>\n",
       "      <td>0.00567</td>\n",
       "      <td>0.00003</td>\n",
       "      <td>0.00295</td>\n",
       "      <td>0.00317</td>\n",
       "      <td>0.00885</td>\n",
       "      <td>0.01884</td>\n",
       "      <td>...</td>\n",
       "      <td>0.03078</td>\n",
       "      <td>0.04398</td>\n",
       "      <td>21.209</td>\n",
       "      <td>0</td>\n",
       "      <td>0.462803</td>\n",
       "      <td>0.664357</td>\n",
       "      <td>-5.724056</td>\n",
       "      <td>0.190667</td>\n",
       "      <td>2.555477</td>\n",
       "      <td>0.148569</td>\n",
       "    </tr>\n",
       "  </tbody>\n",
       "</table>\n",
       "<p>5 rows × 24 columns</p>\n",
       "</div>"
      ],
      "text/plain": [
       "               name  MDVP:Fo(Hz)  MDVP:Fhi(Hz)  MDVP:Flo(Hz)  MDVP:Jitter(%)  \\\n",
       "190  phon_R01_S50_2      174.188       230.978        94.261         0.00459   \n",
       "191  phon_R01_S50_3      209.516       253.017        89.488         0.00564   \n",
       "192  phon_R01_S50_4      174.688       240.005        74.287         0.01360   \n",
       "193  phon_R01_S50_5      198.764       396.961        74.904         0.00740   \n",
       "194  phon_R01_S50_6      214.289       260.277        77.973         0.00567   \n",
       "\n",
       "     MDVP:Jitter(Abs)  MDVP:RAP  MDVP:PPQ  Jitter:DDP  MDVP:Shimmer  ...  \\\n",
       "190           0.00003   0.00263   0.00259     0.00790       0.04087  ...   \n",
       "191           0.00003   0.00331   0.00292     0.00994       0.02751  ...   \n",
       "192           0.00008   0.00624   0.00564     0.01873       0.02308  ...   \n",
       "193           0.00004   0.00370   0.00390     0.01109       0.02296  ...   \n",
       "194           0.00003   0.00295   0.00317     0.00885       0.01884  ...   \n",
       "\n",
       "     Shimmer:DDA      NHR     HNR  status      RPDE       DFA   spread1  \\\n",
       "190      0.07008  0.02764  19.517       0  0.448439  0.657899 -6.538586   \n",
       "191      0.04812  0.01810  19.147       0  0.431674  0.683244 -6.195325   \n",
       "192      0.03804  0.10715  17.883       0  0.407567  0.655683 -6.787197   \n",
       "193      0.03794  0.07223  19.020       0  0.451221  0.643956 -6.744577   \n",
       "194      0.03078  0.04398  21.209       0  0.462803  0.664357 -5.724056   \n",
       "\n",
       "      spread2        D2       PPE  \n",
       "190  0.121952  2.657476  0.133050  \n",
       "191  0.129303  2.784312  0.168895  \n",
       "192  0.158453  2.679772  0.131728  \n",
       "193  0.207454  2.138608  0.123306  \n",
       "194  0.190667  2.555477  0.148569  \n",
       "\n",
       "[5 rows x 24 columns]"
      ]
     },
     "execution_count": 3,
     "metadata": {},
     "output_type": "execute_result"
    }
   ],
   "source": [
    "df.tail()"
   ]
  },
  {
   "cell_type": "code",
   "execution_count": 4,
   "id": "d194cb7f",
   "metadata": {},
   "outputs": [
    {
     "data": {
      "text/html": [
       "<div>\n",
       "<style scoped>\n",
       "    .dataframe tbody tr th:only-of-type {\n",
       "        vertical-align: middle;\n",
       "    }\n",
       "\n",
       "    .dataframe tbody tr th {\n",
       "        vertical-align: top;\n",
       "    }\n",
       "\n",
       "    .dataframe thead th {\n",
       "        text-align: right;\n",
       "    }\n",
       "</style>\n",
       "<table border=\"1\" class=\"dataframe\">\n",
       "  <thead>\n",
       "    <tr style=\"text-align: right;\">\n",
       "      <th></th>\n",
       "      <th>name</th>\n",
       "      <th>MDVP:Fo(Hz)</th>\n",
       "      <th>MDVP:Fhi(Hz)</th>\n",
       "      <th>MDVP:Flo(Hz)</th>\n",
       "      <th>MDVP:Jitter(%)</th>\n",
       "      <th>MDVP:Jitter(Abs)</th>\n",
       "      <th>MDVP:RAP</th>\n",
       "      <th>MDVP:PPQ</th>\n",
       "      <th>Jitter:DDP</th>\n",
       "      <th>MDVP:Shimmer</th>\n",
       "      <th>...</th>\n",
       "      <th>Shimmer:DDA</th>\n",
       "      <th>NHR</th>\n",
       "      <th>HNR</th>\n",
       "      <th>status</th>\n",
       "      <th>RPDE</th>\n",
       "      <th>DFA</th>\n",
       "      <th>spread1</th>\n",
       "      <th>spread2</th>\n",
       "      <th>D2</th>\n",
       "      <th>PPE</th>\n",
       "    </tr>\n",
       "  </thead>\n",
       "  <tbody>\n",
       "    <tr>\n",
       "      <th>0</th>\n",
       "      <td>phon_R01_S01_1</td>\n",
       "      <td>119.992</td>\n",
       "      <td>157.302</td>\n",
       "      <td>74.997</td>\n",
       "      <td>0.00784</td>\n",
       "      <td>0.00007</td>\n",
       "      <td>0.00370</td>\n",
       "      <td>0.00554</td>\n",
       "      <td>0.01109</td>\n",
       "      <td>0.04374</td>\n",
       "      <td>...</td>\n",
       "      <td>0.06545</td>\n",
       "      <td>0.02211</td>\n",
       "      <td>21.033</td>\n",
       "      <td>1</td>\n",
       "      <td>0.414783</td>\n",
       "      <td>0.815285</td>\n",
       "      <td>-4.813031</td>\n",
       "      <td>0.266482</td>\n",
       "      <td>2.301442</td>\n",
       "      <td>0.284654</td>\n",
       "    </tr>\n",
       "    <tr>\n",
       "      <th>1</th>\n",
       "      <td>phon_R01_S01_2</td>\n",
       "      <td>122.400</td>\n",
       "      <td>148.650</td>\n",
       "      <td>113.819</td>\n",
       "      <td>0.00968</td>\n",
       "      <td>0.00008</td>\n",
       "      <td>0.00465</td>\n",
       "      <td>0.00696</td>\n",
       "      <td>0.01394</td>\n",
       "      <td>0.06134</td>\n",
       "      <td>...</td>\n",
       "      <td>0.09403</td>\n",
       "      <td>0.01929</td>\n",
       "      <td>19.085</td>\n",
       "      <td>1</td>\n",
       "      <td>0.458359</td>\n",
       "      <td>0.819521</td>\n",
       "      <td>-4.075192</td>\n",
       "      <td>0.335590</td>\n",
       "      <td>2.486855</td>\n",
       "      <td>0.368674</td>\n",
       "    </tr>\n",
       "    <tr>\n",
       "      <th>2</th>\n",
       "      <td>phon_R01_S01_3</td>\n",
       "      <td>116.682</td>\n",
       "      <td>131.111</td>\n",
       "      <td>111.555</td>\n",
       "      <td>0.01050</td>\n",
       "      <td>0.00009</td>\n",
       "      <td>0.00544</td>\n",
       "      <td>0.00781</td>\n",
       "      <td>0.01633</td>\n",
       "      <td>0.05233</td>\n",
       "      <td>...</td>\n",
       "      <td>0.08270</td>\n",
       "      <td>0.01309</td>\n",
       "      <td>20.651</td>\n",
       "      <td>1</td>\n",
       "      <td>0.429895</td>\n",
       "      <td>0.825288</td>\n",
       "      <td>-4.443179</td>\n",
       "      <td>0.311173</td>\n",
       "      <td>2.342259</td>\n",
       "      <td>0.332634</td>\n",
       "    </tr>\n",
       "    <tr>\n",
       "      <th>3</th>\n",
       "      <td>phon_R01_S01_4</td>\n",
       "      <td>116.676</td>\n",
       "      <td>137.871</td>\n",
       "      <td>111.366</td>\n",
       "      <td>0.00997</td>\n",
       "      <td>0.00009</td>\n",
       "      <td>0.00502</td>\n",
       "      <td>0.00698</td>\n",
       "      <td>0.01505</td>\n",
       "      <td>0.05492</td>\n",
       "      <td>...</td>\n",
       "      <td>0.08771</td>\n",
       "      <td>0.01353</td>\n",
       "      <td>20.644</td>\n",
       "      <td>1</td>\n",
       "      <td>0.434969</td>\n",
       "      <td>0.819235</td>\n",
       "      <td>-4.117501</td>\n",
       "      <td>0.334147</td>\n",
       "      <td>2.405554</td>\n",
       "      <td>0.368975</td>\n",
       "    </tr>\n",
       "    <tr>\n",
       "      <th>4</th>\n",
       "      <td>phon_R01_S01_5</td>\n",
       "      <td>116.014</td>\n",
       "      <td>141.781</td>\n",
       "      <td>110.655</td>\n",
       "      <td>0.01284</td>\n",
       "      <td>0.00011</td>\n",
       "      <td>0.00655</td>\n",
       "      <td>0.00908</td>\n",
       "      <td>0.01966</td>\n",
       "      <td>0.06425</td>\n",
       "      <td>...</td>\n",
       "      <td>0.10470</td>\n",
       "      <td>0.01767</td>\n",
       "      <td>19.649</td>\n",
       "      <td>1</td>\n",
       "      <td>0.417356</td>\n",
       "      <td>0.823484</td>\n",
       "      <td>-3.747787</td>\n",
       "      <td>0.234513</td>\n",
       "      <td>2.332180</td>\n",
       "      <td>0.410335</td>\n",
       "    </tr>\n",
       "    <tr>\n",
       "      <th>...</th>\n",
       "      <td>...</td>\n",
       "      <td>...</td>\n",
       "      <td>...</td>\n",
       "      <td>...</td>\n",
       "      <td>...</td>\n",
       "      <td>...</td>\n",
       "      <td>...</td>\n",
       "      <td>...</td>\n",
       "      <td>...</td>\n",
       "      <td>...</td>\n",
       "      <td>...</td>\n",
       "      <td>...</td>\n",
       "      <td>...</td>\n",
       "      <td>...</td>\n",
       "      <td>...</td>\n",
       "      <td>...</td>\n",
       "      <td>...</td>\n",
       "      <td>...</td>\n",
       "      <td>...</td>\n",
       "      <td>...</td>\n",
       "      <td>...</td>\n",
       "    </tr>\n",
       "    <tr>\n",
       "      <th>190</th>\n",
       "      <td>phon_R01_S50_2</td>\n",
       "      <td>174.188</td>\n",
       "      <td>230.978</td>\n",
       "      <td>94.261</td>\n",
       "      <td>0.00459</td>\n",
       "      <td>0.00003</td>\n",
       "      <td>0.00263</td>\n",
       "      <td>0.00259</td>\n",
       "      <td>0.00790</td>\n",
       "      <td>0.04087</td>\n",
       "      <td>...</td>\n",
       "      <td>0.07008</td>\n",
       "      <td>0.02764</td>\n",
       "      <td>19.517</td>\n",
       "      <td>0</td>\n",
       "      <td>0.448439</td>\n",
       "      <td>0.657899</td>\n",
       "      <td>-6.538586</td>\n",
       "      <td>0.121952</td>\n",
       "      <td>2.657476</td>\n",
       "      <td>0.133050</td>\n",
       "    </tr>\n",
       "    <tr>\n",
       "      <th>191</th>\n",
       "      <td>phon_R01_S50_3</td>\n",
       "      <td>209.516</td>\n",
       "      <td>253.017</td>\n",
       "      <td>89.488</td>\n",
       "      <td>0.00564</td>\n",
       "      <td>0.00003</td>\n",
       "      <td>0.00331</td>\n",
       "      <td>0.00292</td>\n",
       "      <td>0.00994</td>\n",
       "      <td>0.02751</td>\n",
       "      <td>...</td>\n",
       "      <td>0.04812</td>\n",
       "      <td>0.01810</td>\n",
       "      <td>19.147</td>\n",
       "      <td>0</td>\n",
       "      <td>0.431674</td>\n",
       "      <td>0.683244</td>\n",
       "      <td>-6.195325</td>\n",
       "      <td>0.129303</td>\n",
       "      <td>2.784312</td>\n",
       "      <td>0.168895</td>\n",
       "    </tr>\n",
       "    <tr>\n",
       "      <th>192</th>\n",
       "      <td>phon_R01_S50_4</td>\n",
       "      <td>174.688</td>\n",
       "      <td>240.005</td>\n",
       "      <td>74.287</td>\n",
       "      <td>0.01360</td>\n",
       "      <td>0.00008</td>\n",
       "      <td>0.00624</td>\n",
       "      <td>0.00564</td>\n",
       "      <td>0.01873</td>\n",
       "      <td>0.02308</td>\n",
       "      <td>...</td>\n",
       "      <td>0.03804</td>\n",
       "      <td>0.10715</td>\n",
       "      <td>17.883</td>\n",
       "      <td>0</td>\n",
       "      <td>0.407567</td>\n",
       "      <td>0.655683</td>\n",
       "      <td>-6.787197</td>\n",
       "      <td>0.158453</td>\n",
       "      <td>2.679772</td>\n",
       "      <td>0.131728</td>\n",
       "    </tr>\n",
       "    <tr>\n",
       "      <th>193</th>\n",
       "      <td>phon_R01_S50_5</td>\n",
       "      <td>198.764</td>\n",
       "      <td>396.961</td>\n",
       "      <td>74.904</td>\n",
       "      <td>0.00740</td>\n",
       "      <td>0.00004</td>\n",
       "      <td>0.00370</td>\n",
       "      <td>0.00390</td>\n",
       "      <td>0.01109</td>\n",
       "      <td>0.02296</td>\n",
       "      <td>...</td>\n",
       "      <td>0.03794</td>\n",
       "      <td>0.07223</td>\n",
       "      <td>19.020</td>\n",
       "      <td>0</td>\n",
       "      <td>0.451221</td>\n",
       "      <td>0.643956</td>\n",
       "      <td>-6.744577</td>\n",
       "      <td>0.207454</td>\n",
       "      <td>2.138608</td>\n",
       "      <td>0.123306</td>\n",
       "    </tr>\n",
       "    <tr>\n",
       "      <th>194</th>\n",
       "      <td>phon_R01_S50_6</td>\n",
       "      <td>214.289</td>\n",
       "      <td>260.277</td>\n",
       "      <td>77.973</td>\n",
       "      <td>0.00567</td>\n",
       "      <td>0.00003</td>\n",
       "      <td>0.00295</td>\n",
       "      <td>0.00317</td>\n",
       "      <td>0.00885</td>\n",
       "      <td>0.01884</td>\n",
       "      <td>...</td>\n",
       "      <td>0.03078</td>\n",
       "      <td>0.04398</td>\n",
       "      <td>21.209</td>\n",
       "      <td>0</td>\n",
       "      <td>0.462803</td>\n",
       "      <td>0.664357</td>\n",
       "      <td>-5.724056</td>\n",
       "      <td>0.190667</td>\n",
       "      <td>2.555477</td>\n",
       "      <td>0.148569</td>\n",
       "    </tr>\n",
       "  </tbody>\n",
       "</table>\n",
       "<p>195 rows × 24 columns</p>\n",
       "</div>"
      ],
      "text/plain": [
       "               name  MDVP:Fo(Hz)  MDVP:Fhi(Hz)  MDVP:Flo(Hz)  MDVP:Jitter(%)  \\\n",
       "0    phon_R01_S01_1      119.992       157.302        74.997         0.00784   \n",
       "1    phon_R01_S01_2      122.400       148.650       113.819         0.00968   \n",
       "2    phon_R01_S01_3      116.682       131.111       111.555         0.01050   \n",
       "3    phon_R01_S01_4      116.676       137.871       111.366         0.00997   \n",
       "4    phon_R01_S01_5      116.014       141.781       110.655         0.01284   \n",
       "..              ...          ...           ...           ...             ...   \n",
       "190  phon_R01_S50_2      174.188       230.978        94.261         0.00459   \n",
       "191  phon_R01_S50_3      209.516       253.017        89.488         0.00564   \n",
       "192  phon_R01_S50_4      174.688       240.005        74.287         0.01360   \n",
       "193  phon_R01_S50_5      198.764       396.961        74.904         0.00740   \n",
       "194  phon_R01_S50_6      214.289       260.277        77.973         0.00567   \n",
       "\n",
       "     MDVP:Jitter(Abs)  MDVP:RAP  MDVP:PPQ  Jitter:DDP  MDVP:Shimmer  ...  \\\n",
       "0             0.00007   0.00370   0.00554     0.01109       0.04374  ...   \n",
       "1             0.00008   0.00465   0.00696     0.01394       0.06134  ...   \n",
       "2             0.00009   0.00544   0.00781     0.01633       0.05233  ...   \n",
       "3             0.00009   0.00502   0.00698     0.01505       0.05492  ...   \n",
       "4             0.00011   0.00655   0.00908     0.01966       0.06425  ...   \n",
       "..                ...       ...       ...         ...           ...  ...   \n",
       "190           0.00003   0.00263   0.00259     0.00790       0.04087  ...   \n",
       "191           0.00003   0.00331   0.00292     0.00994       0.02751  ...   \n",
       "192           0.00008   0.00624   0.00564     0.01873       0.02308  ...   \n",
       "193           0.00004   0.00370   0.00390     0.01109       0.02296  ...   \n",
       "194           0.00003   0.00295   0.00317     0.00885       0.01884  ...   \n",
       "\n",
       "     Shimmer:DDA      NHR     HNR  status      RPDE       DFA   spread1  \\\n",
       "0        0.06545  0.02211  21.033       1  0.414783  0.815285 -4.813031   \n",
       "1        0.09403  0.01929  19.085       1  0.458359  0.819521 -4.075192   \n",
       "2        0.08270  0.01309  20.651       1  0.429895  0.825288 -4.443179   \n",
       "3        0.08771  0.01353  20.644       1  0.434969  0.819235 -4.117501   \n",
       "4        0.10470  0.01767  19.649       1  0.417356  0.823484 -3.747787   \n",
       "..           ...      ...     ...     ...       ...       ...       ...   \n",
       "190      0.07008  0.02764  19.517       0  0.448439  0.657899 -6.538586   \n",
       "191      0.04812  0.01810  19.147       0  0.431674  0.683244 -6.195325   \n",
       "192      0.03804  0.10715  17.883       0  0.407567  0.655683 -6.787197   \n",
       "193      0.03794  0.07223  19.020       0  0.451221  0.643956 -6.744577   \n",
       "194      0.03078  0.04398  21.209       0  0.462803  0.664357 -5.724056   \n",
       "\n",
       "      spread2        D2       PPE  \n",
       "0    0.266482  2.301442  0.284654  \n",
       "1    0.335590  2.486855  0.368674  \n",
       "2    0.311173  2.342259  0.332634  \n",
       "3    0.334147  2.405554  0.368975  \n",
       "4    0.234513  2.332180  0.410335  \n",
       "..        ...       ...       ...  \n",
       "190  0.121952  2.657476  0.133050  \n",
       "191  0.129303  2.784312  0.168895  \n",
       "192  0.158453  2.679772  0.131728  \n",
       "193  0.207454  2.138608  0.123306  \n",
       "194  0.190667  2.555477  0.148569  \n",
       "\n",
       "[195 rows x 24 columns]"
      ]
     },
     "execution_count": 4,
     "metadata": {},
     "output_type": "execute_result"
    }
   ],
   "source": [
    "df"
   ]
  },
  {
   "cell_type": "code",
   "execution_count": 5,
   "id": "c64a69d1",
   "metadata": {},
   "outputs": [
    {
     "name": "stdout",
     "output_type": "stream",
     "text": [
      "<class 'pandas.core.frame.DataFrame'>\n",
      "RangeIndex: 195 entries, 0 to 194\n",
      "Data columns (total 24 columns):\n",
      " #   Column            Non-Null Count  Dtype  \n",
      "---  ------            --------------  -----  \n",
      " 0   name              195 non-null    object \n",
      " 1   MDVP:Fo(Hz)       195 non-null    float64\n",
      " 2   MDVP:Fhi(Hz)      195 non-null    float64\n",
      " 3   MDVP:Flo(Hz)      195 non-null    float64\n",
      " 4   MDVP:Jitter(%)    195 non-null    float64\n",
      " 5   MDVP:Jitter(Abs)  195 non-null    float64\n",
      " 6   MDVP:RAP          195 non-null    float64\n",
      " 7   MDVP:PPQ          195 non-null    float64\n",
      " 8   Jitter:DDP        195 non-null    float64\n",
      " 9   MDVP:Shimmer      195 non-null    float64\n",
      " 10  MDVP:Shimmer(dB)  195 non-null    float64\n",
      " 11  Shimmer:APQ3      195 non-null    float64\n",
      " 12  Shimmer:APQ5      195 non-null    float64\n",
      " 13  MDVP:APQ          195 non-null    float64\n",
      " 14  Shimmer:DDA       195 non-null    float64\n",
      " 15  NHR               195 non-null    float64\n",
      " 16  HNR               195 non-null    float64\n",
      " 17  status            195 non-null    int64  \n",
      " 18  RPDE              195 non-null    float64\n",
      " 19  DFA               195 non-null    float64\n",
      " 20  spread1           195 non-null    float64\n",
      " 21  spread2           195 non-null    float64\n",
      " 22  D2                195 non-null    float64\n",
      " 23  PPE               195 non-null    float64\n",
      "dtypes: float64(22), int64(1), object(1)\n",
      "memory usage: 36.7+ KB\n"
     ]
    }
   ],
   "source": [
    "df.info()"
   ]
  },
  {
   "cell_type": "code",
   "execution_count": 6,
   "id": "c0829ee3",
   "metadata": {},
   "outputs": [
    {
     "name": "stdout",
     "output_type": "stream",
     "text": [
      " MDVP:Fo(Hz) : Average vocal fundamental frequency\n",
      " MDVP:Fhi(Hz) : Maximum vocal fundamental frequency\n",
      " MDVP:Flo(Hz) : Minimum vocal fundamental frequency\n",
      " MDVP:Jitter(%) : Five measures of variation in fundamental frequency\n",
      " MDVP:Jitter(Abs) \n",
      " MDVP:RAP \n",
      " MDVP:PPQ \n",
      " Jitter:DDP \n",
      " MDVP:Shimmer : six measures of variation in amplitude\n",
      " MDVP:Shimmer (db)\n",
      " Shimmer:APQ3\n",
      " Shimmer:APQ5\n",
      " MDVP:APQ\n",
      " Shimmer:DDA\n",
      " NHR : two measures of ratio of noise to tonal components in the voice\n",
      " HNR\n",
      " RPDE : two nonlinear dynamical complexity measures\n",
      " D2\n",
      " DFA : signal fractal scaling exponent\n",
      " Spread1 : three nonlinear measures of fundamental frequncy variation\n",
      " Spread2\n",
      " PPE\n",
      " Status : Health state of the subject: Parkinson's ---> 1\n",
      "                                       Healthy     ---> 0 \n"
     ]
    }
   ],
   "source": [
    "#features name\n",
    "\n",
    "print (\" MDVP:Fo(Hz) : Average vocal fundamental frequency\\n\"+\n",
    "       \" MDVP:Fhi(Hz) : Maximum vocal fundamental frequency\\n\"+\n",
    "       \" MDVP:Flo(Hz) : Minimum vocal fundamental frequency\\n\"+\n",
    "       \" MDVP:Jitter(%) : Five measures of variation in fundamental frequency\\n\"\n",
    "       \" MDVP:Jitter(Abs) \\n\"+\n",
    "       \" MDVP:RAP \\n\"+\n",
    "       \" MDVP:PPQ \\n\"+\n",
    "       \" Jitter:DDP \\n\"+\n",
    "       \" MDVP:Shimmer : six measures of variation in amplitude\\n\"+\n",
    "       \" MDVP:Shimmer (db)\\n\"+\n",
    "       \" Shimmer:APQ3\\n\"+\n",
    "       \" Shimmer:APQ5\\n\"+\n",
    "       \" MDVP:APQ\\n\"+\n",
    "       \" Shimmer:DDA\\n\"+\n",
    "       \" NHR : two measures of ratio of noise to tonal components in the voice\\n\"+\n",
    "       \" HNR\\n\"\n",
    "       \" RPDE : two nonlinear dynamical complexity measures\\n\"+\n",
    "       \" D2\\n\"+\n",
    "       \" DFA : signal fractal scaling exponent\\n\"+\n",
    "       \" Spread1 : three nonlinear measures of fundamental frequncy variation\\n\"+\n",
    "       \" Spread2\\n\"+\n",
    "       \" PPE\\n\"+\n",
    "       \" Status : Health state of the subject: Parkinson's ---> 1\\n\"+\n",
    "       \"                                       Healthy     ---> 0 \"\n",
    ")"
   ]
  },
  {
   "cell_type": "code",
   "execution_count": 7,
   "id": "89bcb4fa",
   "metadata": {},
   "outputs": [
    {
     "data": {
      "text/plain": [
       "0.00507    3\n",
       "0.01109    2\n",
       "0.00780    2\n",
       "0.00750    2\n",
       "0.00731    2\n",
       "          ..\n",
       "0.01941    1\n",
       "0.01400    1\n",
       "0.01407    1\n",
       "0.01601    1\n",
       "0.00885    1\n",
       "Name: Jitter:DDP, Length: 180, dtype: int64"
      ]
     },
     "execution_count": 7,
     "metadata": {},
     "output_type": "execute_result"
    }
   ],
   "source": [
    "df[\"Jitter:DDP\"].value_counts()"
   ]
  },
  {
   "cell_type": "code",
   "execution_count": 8,
   "id": "c41702f3",
   "metadata": {},
   "outputs": [
    {
     "data": {
      "text/plain": [
       "1    147\n",
       "0     48\n",
       "Name: status, dtype: int64"
      ]
     },
     "execution_count": 8,
     "metadata": {},
     "output_type": "execute_result"
    }
   ],
   "source": [
    "#Number of Parkinson's and healthy cases\n",
    "\n",
    "df[\"status\"].value_counts()"
   ]
  },
  {
   "cell_type": "markdown",
   "id": "ba28b41d",
   "metadata": {},
   "source": [
    "### 1 ---> Parkinson's Positive\n",
    "\n",
    "\n",
    "### 0 ---> Healthy"
   ]
  },
  {
   "cell_type": "code",
   "execution_count": 9,
   "id": "e7706b4e",
   "metadata": {
    "scrolled": true
   },
   "outputs": [
    {
     "data": {
      "text/html": [
       "<div>\n",
       "<style scoped>\n",
       "    .dataframe tbody tr th:only-of-type {\n",
       "        vertical-align: middle;\n",
       "    }\n",
       "\n",
       "    .dataframe tbody tr th {\n",
       "        vertical-align: top;\n",
       "    }\n",
       "\n",
       "    .dataframe thead th {\n",
       "        text-align: right;\n",
       "    }\n",
       "</style>\n",
       "<table border=\"1\" class=\"dataframe\">\n",
       "  <thead>\n",
       "    <tr style=\"text-align: right;\">\n",
       "      <th></th>\n",
       "      <th>MDVP:Fo(Hz)</th>\n",
       "      <th>MDVP:Fhi(Hz)</th>\n",
       "      <th>MDVP:Flo(Hz)</th>\n",
       "      <th>MDVP:Jitter(%)</th>\n",
       "      <th>MDVP:Jitter(Abs)</th>\n",
       "      <th>MDVP:RAP</th>\n",
       "      <th>MDVP:PPQ</th>\n",
       "      <th>Jitter:DDP</th>\n",
       "      <th>MDVP:Shimmer</th>\n",
       "      <th>MDVP:Shimmer(dB)</th>\n",
       "      <th>...</th>\n",
       "      <th>Shimmer:DDA</th>\n",
       "      <th>NHR</th>\n",
       "      <th>HNR</th>\n",
       "      <th>status</th>\n",
       "      <th>RPDE</th>\n",
       "      <th>DFA</th>\n",
       "      <th>spread1</th>\n",
       "      <th>spread2</th>\n",
       "      <th>D2</th>\n",
       "      <th>PPE</th>\n",
       "    </tr>\n",
       "  </thead>\n",
       "  <tbody>\n",
       "    <tr>\n",
       "      <th>count</th>\n",
       "      <td>195.000000</td>\n",
       "      <td>195.000000</td>\n",
       "      <td>195.000000</td>\n",
       "      <td>195.000000</td>\n",
       "      <td>195.000000</td>\n",
       "      <td>195.000000</td>\n",
       "      <td>195.000000</td>\n",
       "      <td>195.000000</td>\n",
       "      <td>195.000000</td>\n",
       "      <td>195.000000</td>\n",
       "      <td>...</td>\n",
       "      <td>195.000000</td>\n",
       "      <td>195.000000</td>\n",
       "      <td>195.000000</td>\n",
       "      <td>195.000000</td>\n",
       "      <td>195.000000</td>\n",
       "      <td>195.000000</td>\n",
       "      <td>195.000000</td>\n",
       "      <td>195.000000</td>\n",
       "      <td>195.000000</td>\n",
       "      <td>195.000000</td>\n",
       "    </tr>\n",
       "    <tr>\n",
       "      <th>mean</th>\n",
       "      <td>154.228641</td>\n",
       "      <td>197.104918</td>\n",
       "      <td>116.324631</td>\n",
       "      <td>0.006220</td>\n",
       "      <td>0.000044</td>\n",
       "      <td>0.003306</td>\n",
       "      <td>0.003446</td>\n",
       "      <td>0.009920</td>\n",
       "      <td>0.029709</td>\n",
       "      <td>0.282251</td>\n",
       "      <td>...</td>\n",
       "      <td>0.046993</td>\n",
       "      <td>0.024847</td>\n",
       "      <td>21.885974</td>\n",
       "      <td>0.753846</td>\n",
       "      <td>0.498536</td>\n",
       "      <td>0.718099</td>\n",
       "      <td>-5.684397</td>\n",
       "      <td>0.226510</td>\n",
       "      <td>2.381826</td>\n",
       "      <td>0.206552</td>\n",
       "    </tr>\n",
       "    <tr>\n",
       "      <th>std</th>\n",
       "      <td>41.390065</td>\n",
       "      <td>91.491548</td>\n",
       "      <td>43.521413</td>\n",
       "      <td>0.004848</td>\n",
       "      <td>0.000035</td>\n",
       "      <td>0.002968</td>\n",
       "      <td>0.002759</td>\n",
       "      <td>0.008903</td>\n",
       "      <td>0.018857</td>\n",
       "      <td>0.194877</td>\n",
       "      <td>...</td>\n",
       "      <td>0.030459</td>\n",
       "      <td>0.040418</td>\n",
       "      <td>4.425764</td>\n",
       "      <td>0.431878</td>\n",
       "      <td>0.103942</td>\n",
       "      <td>0.055336</td>\n",
       "      <td>1.090208</td>\n",
       "      <td>0.083406</td>\n",
       "      <td>0.382799</td>\n",
       "      <td>0.090119</td>\n",
       "    </tr>\n",
       "    <tr>\n",
       "      <th>min</th>\n",
       "      <td>88.333000</td>\n",
       "      <td>102.145000</td>\n",
       "      <td>65.476000</td>\n",
       "      <td>0.001680</td>\n",
       "      <td>0.000007</td>\n",
       "      <td>0.000680</td>\n",
       "      <td>0.000920</td>\n",
       "      <td>0.002040</td>\n",
       "      <td>0.009540</td>\n",
       "      <td>0.085000</td>\n",
       "      <td>...</td>\n",
       "      <td>0.013640</td>\n",
       "      <td>0.000650</td>\n",
       "      <td>8.441000</td>\n",
       "      <td>0.000000</td>\n",
       "      <td>0.256570</td>\n",
       "      <td>0.574282</td>\n",
       "      <td>-7.964984</td>\n",
       "      <td>0.006274</td>\n",
       "      <td>1.423287</td>\n",
       "      <td>0.044539</td>\n",
       "    </tr>\n",
       "    <tr>\n",
       "      <th>25%</th>\n",
       "      <td>117.572000</td>\n",
       "      <td>134.862500</td>\n",
       "      <td>84.291000</td>\n",
       "      <td>0.003460</td>\n",
       "      <td>0.000020</td>\n",
       "      <td>0.001660</td>\n",
       "      <td>0.001860</td>\n",
       "      <td>0.004985</td>\n",
       "      <td>0.016505</td>\n",
       "      <td>0.148500</td>\n",
       "      <td>...</td>\n",
       "      <td>0.024735</td>\n",
       "      <td>0.005925</td>\n",
       "      <td>19.198000</td>\n",
       "      <td>1.000000</td>\n",
       "      <td>0.421306</td>\n",
       "      <td>0.674758</td>\n",
       "      <td>-6.450096</td>\n",
       "      <td>0.174351</td>\n",
       "      <td>2.099125</td>\n",
       "      <td>0.137451</td>\n",
       "    </tr>\n",
       "    <tr>\n",
       "      <th>50%</th>\n",
       "      <td>148.790000</td>\n",
       "      <td>175.829000</td>\n",
       "      <td>104.315000</td>\n",
       "      <td>0.004940</td>\n",
       "      <td>0.000030</td>\n",
       "      <td>0.002500</td>\n",
       "      <td>0.002690</td>\n",
       "      <td>0.007490</td>\n",
       "      <td>0.022970</td>\n",
       "      <td>0.221000</td>\n",
       "      <td>...</td>\n",
       "      <td>0.038360</td>\n",
       "      <td>0.011660</td>\n",
       "      <td>22.085000</td>\n",
       "      <td>1.000000</td>\n",
       "      <td>0.495954</td>\n",
       "      <td>0.722254</td>\n",
       "      <td>-5.720868</td>\n",
       "      <td>0.218885</td>\n",
       "      <td>2.361532</td>\n",
       "      <td>0.194052</td>\n",
       "    </tr>\n",
       "    <tr>\n",
       "      <th>75%</th>\n",
       "      <td>182.769000</td>\n",
       "      <td>224.205500</td>\n",
       "      <td>140.018500</td>\n",
       "      <td>0.007365</td>\n",
       "      <td>0.000060</td>\n",
       "      <td>0.003835</td>\n",
       "      <td>0.003955</td>\n",
       "      <td>0.011505</td>\n",
       "      <td>0.037885</td>\n",
       "      <td>0.350000</td>\n",
       "      <td>...</td>\n",
       "      <td>0.060795</td>\n",
       "      <td>0.025640</td>\n",
       "      <td>25.075500</td>\n",
       "      <td>1.000000</td>\n",
       "      <td>0.587562</td>\n",
       "      <td>0.761881</td>\n",
       "      <td>-5.046192</td>\n",
       "      <td>0.279234</td>\n",
       "      <td>2.636456</td>\n",
       "      <td>0.252980</td>\n",
       "    </tr>\n",
       "    <tr>\n",
       "      <th>max</th>\n",
       "      <td>260.105000</td>\n",
       "      <td>592.030000</td>\n",
       "      <td>239.170000</td>\n",
       "      <td>0.033160</td>\n",
       "      <td>0.000260</td>\n",
       "      <td>0.021440</td>\n",
       "      <td>0.019580</td>\n",
       "      <td>0.064330</td>\n",
       "      <td>0.119080</td>\n",
       "      <td>1.302000</td>\n",
       "      <td>...</td>\n",
       "      <td>0.169420</td>\n",
       "      <td>0.314820</td>\n",
       "      <td>33.047000</td>\n",
       "      <td>1.000000</td>\n",
       "      <td>0.685151</td>\n",
       "      <td>0.825288</td>\n",
       "      <td>-2.434031</td>\n",
       "      <td>0.450493</td>\n",
       "      <td>3.671155</td>\n",
       "      <td>0.527367</td>\n",
       "    </tr>\n",
       "  </tbody>\n",
       "</table>\n",
       "<p>8 rows × 23 columns</p>\n",
       "</div>"
      ],
      "text/plain": [
       "       MDVP:Fo(Hz)  MDVP:Fhi(Hz)  MDVP:Flo(Hz)  MDVP:Jitter(%)  \\\n",
       "count   195.000000    195.000000    195.000000      195.000000   \n",
       "mean    154.228641    197.104918    116.324631        0.006220   \n",
       "std      41.390065     91.491548     43.521413        0.004848   \n",
       "min      88.333000    102.145000     65.476000        0.001680   \n",
       "25%     117.572000    134.862500     84.291000        0.003460   \n",
       "50%     148.790000    175.829000    104.315000        0.004940   \n",
       "75%     182.769000    224.205500    140.018500        0.007365   \n",
       "max     260.105000    592.030000    239.170000        0.033160   \n",
       "\n",
       "       MDVP:Jitter(Abs)    MDVP:RAP    MDVP:PPQ  Jitter:DDP  MDVP:Shimmer  \\\n",
       "count        195.000000  195.000000  195.000000  195.000000    195.000000   \n",
       "mean           0.000044    0.003306    0.003446    0.009920      0.029709   \n",
       "std            0.000035    0.002968    0.002759    0.008903      0.018857   \n",
       "min            0.000007    0.000680    0.000920    0.002040      0.009540   \n",
       "25%            0.000020    0.001660    0.001860    0.004985      0.016505   \n",
       "50%            0.000030    0.002500    0.002690    0.007490      0.022970   \n",
       "75%            0.000060    0.003835    0.003955    0.011505      0.037885   \n",
       "max            0.000260    0.021440    0.019580    0.064330      0.119080   \n",
       "\n",
       "       MDVP:Shimmer(dB)  ...  Shimmer:DDA         NHR         HNR      status  \\\n",
       "count        195.000000  ...   195.000000  195.000000  195.000000  195.000000   \n",
       "mean           0.282251  ...     0.046993    0.024847   21.885974    0.753846   \n",
       "std            0.194877  ...     0.030459    0.040418    4.425764    0.431878   \n",
       "min            0.085000  ...     0.013640    0.000650    8.441000    0.000000   \n",
       "25%            0.148500  ...     0.024735    0.005925   19.198000    1.000000   \n",
       "50%            0.221000  ...     0.038360    0.011660   22.085000    1.000000   \n",
       "75%            0.350000  ...     0.060795    0.025640   25.075500    1.000000   \n",
       "max            1.302000  ...     0.169420    0.314820   33.047000    1.000000   \n",
       "\n",
       "             RPDE         DFA     spread1     spread2          D2         PPE  \n",
       "count  195.000000  195.000000  195.000000  195.000000  195.000000  195.000000  \n",
       "mean     0.498536    0.718099   -5.684397    0.226510    2.381826    0.206552  \n",
       "std      0.103942    0.055336    1.090208    0.083406    0.382799    0.090119  \n",
       "min      0.256570    0.574282   -7.964984    0.006274    1.423287    0.044539  \n",
       "25%      0.421306    0.674758   -6.450096    0.174351    2.099125    0.137451  \n",
       "50%      0.495954    0.722254   -5.720868    0.218885    2.361532    0.194052  \n",
       "75%      0.587562    0.761881   -5.046192    0.279234    2.636456    0.252980  \n",
       "max      0.685151    0.825288   -2.434031    0.450493    3.671155    0.527367  \n",
       "\n",
       "[8 rows x 23 columns]"
      ]
     },
     "execution_count": 9,
     "metadata": {},
     "output_type": "execute_result"
    }
   ],
   "source": [
    "df.describe()"
   ]
  },
  {
   "cell_type": "code",
   "execution_count": 10,
   "id": "d266dba0",
   "metadata": {},
   "outputs": [
    {
     "data": {
      "text/html": [
       "<div>\n",
       "<style scoped>\n",
       "    .dataframe tbody tr th:only-of-type {\n",
       "        vertical-align: middle;\n",
       "    }\n",
       "\n",
       "    .dataframe tbody tr th {\n",
       "        vertical-align: top;\n",
       "    }\n",
       "\n",
       "    .dataframe thead th {\n",
       "        text-align: right;\n",
       "    }\n",
       "</style>\n",
       "<table border=\"1\" class=\"dataframe\">\n",
       "  <thead>\n",
       "    <tr style=\"text-align: right;\">\n",
       "      <th></th>\n",
       "      <th>MDVP:Fo(Hz)</th>\n",
       "      <th>MDVP:Fhi(Hz)</th>\n",
       "      <th>MDVP:Flo(Hz)</th>\n",
       "      <th>MDVP:Jitter(%)</th>\n",
       "      <th>MDVP:Jitter(Abs)</th>\n",
       "      <th>MDVP:RAP</th>\n",
       "      <th>MDVP:PPQ</th>\n",
       "      <th>Jitter:DDP</th>\n",
       "      <th>MDVP:Shimmer</th>\n",
       "      <th>MDVP:Shimmer(dB)</th>\n",
       "      <th>...</th>\n",
       "      <th>MDVP:APQ</th>\n",
       "      <th>Shimmer:DDA</th>\n",
       "      <th>NHR</th>\n",
       "      <th>HNR</th>\n",
       "      <th>RPDE</th>\n",
       "      <th>DFA</th>\n",
       "      <th>spread1</th>\n",
       "      <th>spread2</th>\n",
       "      <th>D2</th>\n",
       "      <th>PPE</th>\n",
       "    </tr>\n",
       "    <tr>\n",
       "      <th>status</th>\n",
       "      <th></th>\n",
       "      <th></th>\n",
       "      <th></th>\n",
       "      <th></th>\n",
       "      <th></th>\n",
       "      <th></th>\n",
       "      <th></th>\n",
       "      <th></th>\n",
       "      <th></th>\n",
       "      <th></th>\n",
       "      <th></th>\n",
       "      <th></th>\n",
       "      <th></th>\n",
       "      <th></th>\n",
       "      <th></th>\n",
       "      <th></th>\n",
       "      <th></th>\n",
       "      <th></th>\n",
       "      <th></th>\n",
       "      <th></th>\n",
       "      <th></th>\n",
       "    </tr>\n",
       "  </thead>\n",
       "  <tbody>\n",
       "    <tr>\n",
       "      <th>0</th>\n",
       "      <td>181.937771</td>\n",
       "      <td>223.636750</td>\n",
       "      <td>145.207292</td>\n",
       "      <td>0.003866</td>\n",
       "      <td>0.000023</td>\n",
       "      <td>0.001925</td>\n",
       "      <td>0.002056</td>\n",
       "      <td>0.005776</td>\n",
       "      <td>0.017615</td>\n",
       "      <td>0.162958</td>\n",
       "      <td>...</td>\n",
       "      <td>0.013305</td>\n",
       "      <td>0.028511</td>\n",
       "      <td>0.011483</td>\n",
       "      <td>24.678750</td>\n",
       "      <td>0.442552</td>\n",
       "      <td>0.695716</td>\n",
       "      <td>-6.759264</td>\n",
       "      <td>0.160292</td>\n",
       "      <td>2.154491</td>\n",
       "      <td>0.123017</td>\n",
       "    </tr>\n",
       "    <tr>\n",
       "      <th>1</th>\n",
       "      <td>145.180762</td>\n",
       "      <td>188.441463</td>\n",
       "      <td>106.893558</td>\n",
       "      <td>0.006989</td>\n",
       "      <td>0.000051</td>\n",
       "      <td>0.003757</td>\n",
       "      <td>0.003900</td>\n",
       "      <td>0.011273</td>\n",
       "      <td>0.033658</td>\n",
       "      <td>0.321204</td>\n",
       "      <td>...</td>\n",
       "      <td>0.027600</td>\n",
       "      <td>0.053027</td>\n",
       "      <td>0.029211</td>\n",
       "      <td>20.974048</td>\n",
       "      <td>0.516816</td>\n",
       "      <td>0.725408</td>\n",
       "      <td>-5.333420</td>\n",
       "      <td>0.248133</td>\n",
       "      <td>2.456058</td>\n",
       "      <td>0.233828</td>\n",
       "    </tr>\n",
       "  </tbody>\n",
       "</table>\n",
       "<p>2 rows × 22 columns</p>\n",
       "</div>"
      ],
      "text/plain": [
       "        MDVP:Fo(Hz)  MDVP:Fhi(Hz)  MDVP:Flo(Hz)  MDVP:Jitter(%)  \\\n",
       "status                                                            \n",
       "0        181.937771    223.636750    145.207292        0.003866   \n",
       "1        145.180762    188.441463    106.893558        0.006989   \n",
       "\n",
       "        MDVP:Jitter(Abs)  MDVP:RAP  MDVP:PPQ  Jitter:DDP  MDVP:Shimmer  \\\n",
       "status                                                                   \n",
       "0               0.000023  0.001925  0.002056    0.005776      0.017615   \n",
       "1               0.000051  0.003757  0.003900    0.011273      0.033658   \n",
       "\n",
       "        MDVP:Shimmer(dB)  ...  MDVP:APQ  Shimmer:DDA       NHR        HNR  \\\n",
       "status                    ...                                               \n",
       "0               0.162958  ...  0.013305     0.028511  0.011483  24.678750   \n",
       "1               0.321204  ...  0.027600     0.053027  0.029211  20.974048   \n",
       "\n",
       "            RPDE       DFA   spread1   spread2        D2       PPE  \n",
       "status                                                              \n",
       "0       0.442552  0.695716 -6.759264  0.160292  2.154491  0.123017  \n",
       "1       0.516816  0.725408 -5.333420  0.248133  2.456058  0.233828  \n",
       "\n",
       "[2 rows x 22 columns]"
      ]
     },
     "execution_count": 10,
     "metadata": {},
     "output_type": "execute_result"
    }
   ],
   "source": [
    "# Grouping the data based on the target variable\n",
    "df.groupby('status').mean()"
   ]
  },
  {
   "cell_type": "markdown",
   "id": "a202c6c8",
   "metadata": {},
   "source": [
    "# Visualization"
   ]
  },
  {
   "cell_type": "code",
   "execution_count": 11,
   "id": "4ded3c11",
   "metadata": {},
   "outputs": [],
   "source": [
    "#Python ≥3.5 is required\n",
    "import sys\n",
    "assert sys.version_info >= (3, 5)\n",
    "\n",
    "# Scikit-Learn ≥0.20 is required\n",
    "import sklearn\n",
    "assert sklearn.__version__ >= \"0.20\"\n",
    "\n",
    "# Common imports\n",
    "import numpy as np\n",
    "import os\n",
    "\n",
    "# To plot pretty figures\n",
    "%matplotlib inline\n",
    "import matplotlib as mpl\n",
    "import matplotlib.pyplot as plt\n",
    "mpl.rc('axes', labelsize=14)\n",
    "mpl.rc('xtick', labelsize=12)\n",
    "mpl.rc('ytick', labelsize=12)\n",
    "\n",
    "# Where to save the figures\n",
    "PROJECT_ROOT_DIR = \".\"\n",
    "CHAPTER_ID = \"end_to_end_project\"\n",
    "IMAGES_PATH = os.path.join(PROJECT_ROOT_DIR, \"images\", CHAPTER_ID)\n",
    "os.makedirs(IMAGES_PATH, exist_ok=True)\n",
    "\n",
    "def save_fig(fig_id, tight_layout=True, fig_extension=\"png\", resolution=300):\n",
    "    path = os.path.join(IMAGES_PATH, fig_id + \".\" + fig_extension)\n",
    "    print(\"Saving figure\", fig_id)\n",
    "    if tight_layout:\n",
    "        plt.tight_layout()\n",
    "    plt.savefig(path, format=fig_extension, dpi=resolution)"
   ]
  },
  {
   "cell_type": "code",
   "execution_count": 12,
   "id": "31dcdf07",
   "metadata": {},
   "outputs": [
    {
     "name": "stdout",
     "output_type": "stream",
     "text": [
      "Saving figure attribute_histogram_plots\n"
     ]
    },
    {
     "data": {
      "image/png": "[encoded data removed]",
      "text/plain": [
       "<Figure size 1440x1080 with 25 Axes>"
      ]
     },
     "metadata": {
      "needs_background": "light"
     },
     "output_type": "display_data"
    }
   ],
   "source": [
    "%matplotlib inline\n",
    "import matplotlib.pyplot as plt\n",
    "df.hist(bins=50, figsize=(20,15))\n",
    "save_fig(\"attribute_histogram_plots\")\n",
    "plt.show()"
   ]
  },
  {
   "cell_type": "code",
   "execution_count": 13,
   "id": "37ef6230",
   "metadata": {},
   "outputs": [
    {
     "data": {
      "text/plain": [
       "(195, 24)"
      ]
     },
     "execution_count": 13,
     "metadata": {},
     "output_type": "execute_result"
    },
    {
     "data": {
      "image/png": "[encoded data removed]",
      "text/plain": [
       "<Figure size 1296x1296 with 2 Axes>"
      ]
     },
     "metadata": {
      "needs_background": "light"
     },
     "output_type": "display_data"
    }
   ],
   "source": [
    "# Data Visualization of Correlation matrix\n",
    "import seaborn as sns\n",
    "f,ax = plt.subplots(figsize=(18, 18))\n",
    "sns.heatmap(df.corr(), annot=True, linewidths=.9, fmt= '.1f',ax=ax)\n",
    "df.shape"
   ]
  },
  {
   "cell_type": "code",
   "execution_count": 14,
   "id": "2f721bac",
   "metadata": {},
   "outputs": [
    {
     "data": {
      "text/plain": [
       "Text(0.5, 1.0, 'status vs PPE')"
      ]
     },
     "execution_count": 14,
     "metadata": {},
     "output_type": "execute_result"
    },
    {
     "data": {
      "image/png": "[encoded data removed]",
      "text/plain": [
       "<Figure size 1008x576 with 2 Axes>"
      ]
     },
     "metadata": {
      "needs_background": "light"
     },
     "output_type": "display_data"
    }
   ],
   "source": [
    "import seaborn as sns\n",
    "\n",
    "fig, (axis1, axis2) = plt.subplots(1,2,figsize=(14,8))\n",
    "\n",
    "sns.violinplot(x=\"status\", y=\"D2\", data=df, ax=axis1, palette=\"Set2\")\n",
    "axis1.set_title(\"status vs D2\")\n",
    "\n",
    "sns.violinplot(x=\"status\", y=\"PPE\", data=df, ax=axis2, palette=\"Set3\")\n",
    "axis2.set_title(\"status vs PPE\")"
   ]
  },
  {
   "cell_type": "code",
   "execution_count": 15,
   "id": "40c92e97",
   "metadata": {},
   "outputs": [
    {
     "data": {
      "text/plain": [
       "Text(0.5, 1.0, 'status vs DFA')"
      ]
     },
     "execution_count": 15,
     "metadata": {},
     "output_type": "execute_result"
    },
    {
     "data": {
      "image/png": "[encoded data removed]",
      "text/plain": [
       "<Figure size 1008x576 with 2 Axes>"
      ]
     },
     "metadata": {
      "needs_background": "light"
     },
     "output_type": "display_data"
    }
   ],
   "source": [
    "import seaborn as sns\n",
    "\n",
    "fig, (axis1, axis2) = plt.subplots(1,2,figsize=(14,8))\n",
    "\n",
    "sns.violinplot(x=\"status\", y=\"RPDE\", data=df, ax=axis1, palette=\"Set2\")\n",
    "axis1.set_title(\"status vs RPDE\")\n",
    "\n",
    "sns.violinplot(x=\"status\", y=\"DFA\", data=df, ax=axis2, palette=\"Set3\")\n",
    "axis2.set_title(\"status vs DFA\")"
   ]
  },
  {
   "cell_type": "code",
   "execution_count": 16,
   "id": "27c9bcfd",
   "metadata": {},
   "outputs": [
    {
     "data": {
      "text/plain": [
       "Text(0.5, 1.0, 'status vs HNR')"
      ]
     },
     "execution_count": 16,
     "metadata": {},
     "output_type": "execute_result"
    },
    {
     "data": {
      "image/png": "[encoded data removed]",
      "text/plain": [
       "<Figure size 1008x576 with 2 Axes>"
      ]
     },
     "metadata": {
      "needs_background": "light"
     },
     "output_type": "display_data"
    }
   ],
   "source": [
    "fig, (axis1, axis2) = plt.subplots(1,2,figsize=(14,8))\n",
    "\n",
    "sns.boxplot(x=\"status\", y=\"NHR\", data=df, ax=axis1)\n",
    "axis1.set_title(\"status vs NHR\")\n",
    "\n",
    "sns.boxplot(x=\"status\", y=\"HNR\", data=df, ax=axis2, palette=\"Set2\")\n",
    "axis2.set_title(\"status vs HNR\")"
   ]
  },
  {
   "cell_type": "code",
   "execution_count": 17,
   "id": "6350f1cf",
   "metadata": {},
   "outputs": [
    {
     "data": {
      "text/plain": [
       "<AxesSubplot:xlabel='status', ylabel='count'>"
      ]
     },
     "execution_count": 17,
     "metadata": {},
     "output_type": "execute_result"
    },
    {
     "data": {
      "image/png": "[encoded data removed]",
      "text/plain": [
       "<Figure size 576x432 with 1 Axes>"
      ]
     },
     "metadata": {},
     "output_type": "display_data"
    }
   ],
   "source": [
    "sns.set(rc = {\"figure.figsize\": (8, 6)})\n",
    "sns.countplot(x=\"status\", data=df)\n",
    "# 48 healthy & 147 desease "
   ]
  },
  {
   "cell_type": "code",
   "execution_count": 18,
   "id": "a0187494",
   "metadata": {},
   "outputs": [
    {
     "name": "stderr",
     "output_type": "stream",
     "text": [
      "*c* argument looks like a single numeric RGB or RGBA sequence, which should be avoided as value-mapping will have precedence in case its length matches with *x* & *y*.  Please use the *color* keyword-argument or provide a 2D array with a single row if you intend to specify the same RGB or RGBA value for all points.\n"
     ]
    },
    {
     "name": "stdout",
     "output_type": "stream",
     "text": [
      "Saving figure good_visualization_plot\n"
     ]
    },
    {
     "data": {
      "image/png": "[encoded data removed]",
      "text/plain": [
       "<Figure size 576x432 with 1 Axes>"
      ]
     },
     "metadata": {},
     "output_type": "display_data"
    }
   ],
   "source": [
    "df.plot(kind=\"scatter\", x=\"status\", y=\"D2\", alpha=1)\n",
    "save_fig(\"good_visualization_plot\")"
   ]
  },
  {
   "cell_type": "markdown",
   "id": "24f08dcb",
   "metadata": {},
   "source": [
    "# Data pre-processing"
   ]
  },
  {
   "cell_type": "markdown",
   "id": "988bb972",
   "metadata": {},
   "source": [
    "preparing data"
   ]
  },
  {
   "cell_type": "code",
   "execution_count": 19,
   "id": "f0bedbfd",
   "metadata": {},
   "outputs": [
    {
     "data": {
      "text/plain": [
       "195"
      ]
     },
     "execution_count": 19,
     "metadata": {},
     "output_type": "execute_result"
    }
   ],
   "source": [
    "#Length\n",
    "#Number of all cases\n",
    "len(df.name.unique())"
   ]
  },
  {
   "cell_type": "code",
   "execution_count": 20,
   "id": "aa362078",
   "metadata": {},
   "outputs": [
    {
     "data": {
      "text/plain": [
       "195"
      ]
     },
     "execution_count": 20,
     "metadata": {},
     "output_type": "execute_result"
    }
   ],
   "source": [
    "len(df.DFA.unique())"
   ]
  },
  {
   "cell_type": "code",
   "execution_count": 21,
   "id": "035c1903",
   "metadata": {},
   "outputs": [
    {
     "data": {
      "text/plain": [
       "2"
      ]
     },
     "execution_count": 21,
     "metadata": {},
     "output_type": "execute_result"
    }
   ],
   "source": [
    "len(df.status.unique())"
   ]
  },
  {
   "cell_type": "code",
   "execution_count": 22,
   "id": "bd03a363",
   "metadata": {},
   "outputs": [
    {
     "data": {
      "text/html": [
       "<div>\n",
       "<style scoped>\n",
       "    .dataframe tbody tr th:only-of-type {\n",
       "        vertical-align: middle;\n",
       "    }\n",
       "\n",
       "    .dataframe tbody tr th {\n",
       "        vertical-align: top;\n",
       "    }\n",
       "\n",
       "    .dataframe thead th {\n",
       "        text-align: right;\n",
       "    }\n",
       "</style>\n",
       "<table border=\"1\" class=\"dataframe\">\n",
       "  <thead>\n",
       "    <tr style=\"text-align: right;\">\n",
       "      <th></th>\n",
       "      <th>name</th>\n",
       "      <th>MDVP:Fo(Hz)</th>\n",
       "      <th>MDVP:Fhi(Hz)</th>\n",
       "      <th>MDVP:Flo(Hz)</th>\n",
       "      <th>MDVP:Jitter(%)</th>\n",
       "      <th>MDVP:Jitter(Abs)</th>\n",
       "      <th>MDVP:RAP</th>\n",
       "      <th>MDVP:PPQ</th>\n",
       "      <th>Jitter:DDP</th>\n",
       "      <th>MDVP:Shimmer</th>\n",
       "      <th>...</th>\n",
       "      <th>Shimmer:DDA</th>\n",
       "      <th>NHR</th>\n",
       "      <th>HNR</th>\n",
       "      <th>status</th>\n",
       "      <th>RPDE</th>\n",
       "      <th>DFA</th>\n",
       "      <th>spread1</th>\n",
       "      <th>spread2</th>\n",
       "      <th>D2</th>\n",
       "      <th>PPE</th>\n",
       "    </tr>\n",
       "  </thead>\n",
       "  <tbody>\n",
       "    <tr>\n",
       "      <th>0</th>\n",
       "      <td>phon_R01_S01_1</td>\n",
       "      <td>119.992</td>\n",
       "      <td>157.302</td>\n",
       "      <td>74.997</td>\n",
       "      <td>0.00784</td>\n",
       "      <td>0.00007</td>\n",
       "      <td>0.00370</td>\n",
       "      <td>0.00554</td>\n",
       "      <td>0.01109</td>\n",
       "      <td>0.04374</td>\n",
       "      <td>...</td>\n",
       "      <td>0.06545</td>\n",
       "      <td>0.02211</td>\n",
       "      <td>21.033</td>\n",
       "      <td>1</td>\n",
       "      <td>0.414783</td>\n",
       "      <td>0.815285</td>\n",
       "      <td>-4.813031</td>\n",
       "      <td>0.266482</td>\n",
       "      <td>2.301442</td>\n",
       "      <td>0.284654</td>\n",
       "    </tr>\n",
       "    <tr>\n",
       "      <th>1</th>\n",
       "      <td>phon_R01_S01_2</td>\n",
       "      <td>122.400</td>\n",
       "      <td>148.650</td>\n",
       "      <td>113.819</td>\n",
       "      <td>0.00968</td>\n",
       "      <td>0.00008</td>\n",
       "      <td>0.00465</td>\n",
       "      <td>0.00696</td>\n",
       "      <td>0.01394</td>\n",
       "      <td>0.06134</td>\n",
       "      <td>...</td>\n",
       "      <td>0.09403</td>\n",
       "      <td>0.01929</td>\n",
       "      <td>19.085</td>\n",
       "      <td>1</td>\n",
       "      <td>0.458359</td>\n",
       "      <td>0.819521</td>\n",
       "      <td>-4.075192</td>\n",
       "      <td>0.335590</td>\n",
       "      <td>2.486855</td>\n",
       "      <td>0.368674</td>\n",
       "    </tr>\n",
       "    <tr>\n",
       "      <th>2</th>\n",
       "      <td>phon_R01_S01_3</td>\n",
       "      <td>116.682</td>\n",
       "      <td>131.111</td>\n",
       "      <td>111.555</td>\n",
       "      <td>0.01050</td>\n",
       "      <td>0.00009</td>\n",
       "      <td>0.00544</td>\n",
       "      <td>0.00781</td>\n",
       "      <td>0.01633</td>\n",
       "      <td>0.05233</td>\n",
       "      <td>...</td>\n",
       "      <td>0.08270</td>\n",
       "      <td>0.01309</td>\n",
       "      <td>20.651</td>\n",
       "      <td>1</td>\n",
       "      <td>0.429895</td>\n",
       "      <td>0.825288</td>\n",
       "      <td>-4.443179</td>\n",
       "      <td>0.311173</td>\n",
       "      <td>2.342259</td>\n",
       "      <td>0.332634</td>\n",
       "    </tr>\n",
       "    <tr>\n",
       "      <th>3</th>\n",
       "      <td>phon_R01_S01_4</td>\n",
       "      <td>116.676</td>\n",
       "      <td>137.871</td>\n",
       "      <td>111.366</td>\n",
       "      <td>0.00997</td>\n",
       "      <td>0.00009</td>\n",
       "      <td>0.00502</td>\n",
       "      <td>0.00698</td>\n",
       "      <td>0.01505</td>\n",
       "      <td>0.05492</td>\n",
       "      <td>...</td>\n",
       "      <td>0.08771</td>\n",
       "      <td>0.01353</td>\n",
       "      <td>20.644</td>\n",
       "      <td>1</td>\n",
       "      <td>0.434969</td>\n",
       "      <td>0.819235</td>\n",
       "      <td>-4.117501</td>\n",
       "      <td>0.334147</td>\n",
       "      <td>2.405554</td>\n",
       "      <td>0.368975</td>\n",
       "    </tr>\n",
       "    <tr>\n",
       "      <th>4</th>\n",
       "      <td>phon_R01_S01_5</td>\n",
       "      <td>116.014</td>\n",
       "      <td>141.781</td>\n",
       "      <td>110.655</td>\n",
       "      <td>0.01284</td>\n",
       "      <td>0.00011</td>\n",
       "      <td>0.00655</td>\n",
       "      <td>0.00908</td>\n",
       "      <td>0.01966</td>\n",
       "      <td>0.06425</td>\n",
       "      <td>...</td>\n",
       "      <td>0.10470</td>\n",
       "      <td>0.01767</td>\n",
       "      <td>19.649</td>\n",
       "      <td>1</td>\n",
       "      <td>0.417356</td>\n",
       "      <td>0.823484</td>\n",
       "      <td>-3.747787</td>\n",
       "      <td>0.234513</td>\n",
       "      <td>2.332180</td>\n",
       "      <td>0.410335</td>\n",
       "    </tr>\n",
       "    <tr>\n",
       "      <th>...</th>\n",
       "      <td>...</td>\n",
       "      <td>...</td>\n",
       "      <td>...</td>\n",
       "      <td>...</td>\n",
       "      <td>...</td>\n",
       "      <td>...</td>\n",
       "      <td>...</td>\n",
       "      <td>...</td>\n",
       "      <td>...</td>\n",
       "      <td>...</td>\n",
       "      <td>...</td>\n",
       "      <td>...</td>\n",
       "      <td>...</td>\n",
       "      <td>...</td>\n",
       "      <td>...</td>\n",
       "      <td>...</td>\n",
       "      <td>...</td>\n",
       "      <td>...</td>\n",
       "      <td>...</td>\n",
       "      <td>...</td>\n",
       "      <td>...</td>\n",
       "    </tr>\n",
       "    <tr>\n",
       "      <th>190</th>\n",
       "      <td>phon_R01_S50_2</td>\n",
       "      <td>174.188</td>\n",
       "      <td>230.978</td>\n",
       "      <td>94.261</td>\n",
       "      <td>0.00459</td>\n",
       "      <td>0.00003</td>\n",
       "      <td>0.00263</td>\n",
       "      <td>0.00259</td>\n",
       "      <td>0.00790</td>\n",
       "      <td>0.04087</td>\n",
       "      <td>...</td>\n",
       "      <td>0.07008</td>\n",
       "      <td>0.02764</td>\n",
       "      <td>19.517</td>\n",
       "      <td>0</td>\n",
       "      <td>0.448439</td>\n",
       "      <td>0.657899</td>\n",
       "      <td>-6.538586</td>\n",
       "      <td>0.121952</td>\n",
       "      <td>2.657476</td>\n",
       "      <td>0.133050</td>\n",
       "    </tr>\n",
       "    <tr>\n",
       "      <th>191</th>\n",
       "      <td>phon_R01_S50_3</td>\n",
       "      <td>209.516</td>\n",
       "      <td>253.017</td>\n",
       "      <td>89.488</td>\n",
       "      <td>0.00564</td>\n",
       "      <td>0.00003</td>\n",
       "      <td>0.00331</td>\n",
       "      <td>0.00292</td>\n",
       "      <td>0.00994</td>\n",
       "      <td>0.02751</td>\n",
       "      <td>...</td>\n",
       "      <td>0.04812</td>\n",
       "      <td>0.01810</td>\n",
       "      <td>19.147</td>\n",
       "      <td>0</td>\n",
       "      <td>0.431674</td>\n",
       "      <td>0.683244</td>\n",
       "      <td>-6.195325</td>\n",
       "      <td>0.129303</td>\n",
       "      <td>2.784312</td>\n",
       "      <td>0.168895</td>\n",
       "    </tr>\n",
       "    <tr>\n",
       "      <th>192</th>\n",
       "      <td>phon_R01_S50_4</td>\n",
       "      <td>174.688</td>\n",
       "      <td>240.005</td>\n",
       "      <td>74.287</td>\n",
       "      <td>0.01360</td>\n",
       "      <td>0.00008</td>\n",
       "      <td>0.00624</td>\n",
       "      <td>0.00564</td>\n",
       "      <td>0.01873</td>\n",
       "      <td>0.02308</td>\n",
       "      <td>...</td>\n",
       "      <td>0.03804</td>\n",
       "      <td>0.10715</td>\n",
       "      <td>17.883</td>\n",
       "      <td>0</td>\n",
       "      <td>0.407567</td>\n",
       "      <td>0.655683</td>\n",
       "      <td>-6.787197</td>\n",
       "      <td>0.158453</td>\n",
       "      <td>2.679772</td>\n",
       "      <td>0.131728</td>\n",
       "    </tr>\n",
       "    <tr>\n",
       "      <th>193</th>\n",
       "      <td>phon_R01_S50_5</td>\n",
       "      <td>198.764</td>\n",
       "      <td>396.961</td>\n",
       "      <td>74.904</td>\n",
       "      <td>0.00740</td>\n",
       "      <td>0.00004</td>\n",
       "      <td>0.00370</td>\n",
       "      <td>0.00390</td>\n",
       "      <td>0.01109</td>\n",
       "      <td>0.02296</td>\n",
       "      <td>...</td>\n",
       "      <td>0.03794</td>\n",
       "      <td>0.07223</td>\n",
       "      <td>19.020</td>\n",
       "      <td>0</td>\n",
       "      <td>0.451221</td>\n",
       "      <td>0.643956</td>\n",
       "      <td>-6.744577</td>\n",
       "      <td>0.207454</td>\n",
       "      <td>2.138608</td>\n",
       "      <td>0.123306</td>\n",
       "    </tr>\n",
       "    <tr>\n",
       "      <th>194</th>\n",
       "      <td>phon_R01_S50_6</td>\n",
       "      <td>214.289</td>\n",
       "      <td>260.277</td>\n",
       "      <td>77.973</td>\n",
       "      <td>0.00567</td>\n",
       "      <td>0.00003</td>\n",
       "      <td>0.00295</td>\n",
       "      <td>0.00317</td>\n",
       "      <td>0.00885</td>\n",
       "      <td>0.01884</td>\n",
       "      <td>...</td>\n",
       "      <td>0.03078</td>\n",
       "      <td>0.04398</td>\n",
       "      <td>21.209</td>\n",
       "      <td>0</td>\n",
       "      <td>0.462803</td>\n",
       "      <td>0.664357</td>\n",
       "      <td>-5.724056</td>\n",
       "      <td>0.190667</td>\n",
       "      <td>2.555477</td>\n",
       "      <td>0.148569</td>\n",
       "    </tr>\n",
       "  </tbody>\n",
       "</table>\n",
       "<p>195 rows × 24 columns</p>\n",
       "</div>"
      ],
      "text/plain": [
       "               name  MDVP:Fo(Hz)  MDVP:Fhi(Hz)  MDVP:Flo(Hz)  MDVP:Jitter(%)  \\\n",
       "0    phon_R01_S01_1      119.992       157.302        74.997         0.00784   \n",
       "1    phon_R01_S01_2      122.400       148.650       113.819         0.00968   \n",
       "2    phon_R01_S01_3      116.682       131.111       111.555         0.01050   \n",
       "3    phon_R01_S01_4      116.676       137.871       111.366         0.00997   \n",
       "4    phon_R01_S01_5      116.014       141.781       110.655         0.01284   \n",
       "..              ...          ...           ...           ...             ...   \n",
       "190  phon_R01_S50_2      174.188       230.978        94.261         0.00459   \n",
       "191  phon_R01_S50_3      209.516       253.017        89.488         0.00564   \n",
       "192  phon_R01_S50_4      174.688       240.005        74.287         0.01360   \n",
       "193  phon_R01_S50_5      198.764       396.961        74.904         0.00740   \n",
       "194  phon_R01_S50_6      214.289       260.277        77.973         0.00567   \n",
       "\n",
       "     MDVP:Jitter(Abs)  MDVP:RAP  MDVP:PPQ  Jitter:DDP  MDVP:Shimmer  ...  \\\n",
       "0             0.00007   0.00370   0.00554     0.01109       0.04374  ...   \n",
       "1             0.00008   0.00465   0.00696     0.01394       0.06134  ...   \n",
       "2             0.00009   0.00544   0.00781     0.01633       0.05233  ...   \n",
       "3             0.00009   0.00502   0.00698     0.01505       0.05492  ...   \n",
       "4             0.00011   0.00655   0.00908     0.01966       0.06425  ...   \n",
       "..                ...       ...       ...         ...           ...  ...   \n",
       "190           0.00003   0.00263   0.00259     0.00790       0.04087  ...   \n",
       "191           0.00003   0.00331   0.00292     0.00994       0.02751  ...   \n",
       "192           0.00008   0.00624   0.00564     0.01873       0.02308  ...   \n",
       "193           0.00004   0.00370   0.00390     0.01109       0.02296  ...   \n",
       "194           0.00003   0.00295   0.00317     0.00885       0.01884  ...   \n",
       "\n",
       "     Shimmer:DDA      NHR     HNR  status      RPDE       DFA   spread1  \\\n",
       "0        0.06545  0.02211  21.033       1  0.414783  0.815285 -4.813031   \n",
       "1        0.09403  0.01929  19.085       1  0.458359  0.819521 -4.075192   \n",
       "2        0.08270  0.01309  20.651       1  0.429895  0.825288 -4.443179   \n",
       "3        0.08771  0.01353  20.644       1  0.434969  0.819235 -4.117501   \n",
       "4        0.10470  0.01767  19.649       1  0.417356  0.823484 -3.747787   \n",
       "..           ...      ...     ...     ...       ...       ...       ...   \n",
       "190      0.07008  0.02764  19.517       0  0.448439  0.657899 -6.538586   \n",
       "191      0.04812  0.01810  19.147       0  0.431674  0.683244 -6.195325   \n",
       "192      0.03804  0.10715  17.883       0  0.407567  0.655683 -6.787197   \n",
       "193      0.03794  0.07223  19.020       0  0.451221  0.643956 -6.744577   \n",
       "194      0.03078  0.04398  21.209       0  0.462803  0.664357 -5.724056   \n",
       "\n",
       "      spread2        D2       PPE  \n",
       "0    0.266482  2.301442  0.284654  \n",
       "1    0.335590  2.486855  0.368674  \n",
       "2    0.311173  2.342259  0.332634  \n",
       "3    0.334147  2.405554  0.368975  \n",
       "4    0.234513  2.332180  0.410335  \n",
       "..        ...       ...       ...  \n",
       "190  0.121952  2.657476  0.133050  \n",
       "191  0.129303  2.784312  0.168895  \n",
       "192  0.158453  2.679772  0.131728  \n",
       "193  0.207454  2.138608  0.123306  \n",
       "194  0.190667  2.555477  0.148569  \n",
       "\n",
       "[195 rows x 24 columns]"
      ]
     },
     "execution_count": 22,
     "metadata": {},
     "output_type": "execute_result"
    }
   ],
   "source": [
    "df"
   ]
  },
  {
   "cell_type": "code",
   "execution_count": 23,
   "id": "81dead6a",
   "metadata": {},
   "outputs": [
    {
     "data": {
      "text/plain": [
       "Index(['name', 'MDVP:Fo(Hz)', 'MDVP:Fhi(Hz)', 'MDVP:Flo(Hz)', 'MDVP:Jitter(%)',\n",
       "       'MDVP:Jitter(Abs)', 'MDVP:RAP', 'MDVP:PPQ', 'Jitter:DDP',\n",
       "       'MDVP:Shimmer', 'MDVP:Shimmer(dB)', 'Shimmer:APQ3', 'Shimmer:APQ5',\n",
       "       'MDVP:APQ', 'Shimmer:DDA', 'NHR', 'HNR', 'status', 'RPDE', 'DFA',\n",
       "       'spread1', 'spread2', 'D2', 'PPE'],\n",
       "      dtype='object')"
      ]
     },
     "execution_count": 23,
     "metadata": {},
     "output_type": "execute_result"
    }
   ],
   "source": [
    "df.columns"
   ]
  },
  {
   "cell_type": "code",
   "execution_count": 24,
   "id": "4cafd6a6",
   "metadata": {},
   "outputs": [
    {
     "data": {
      "text/html": [
       "<div>\n",
       "<style scoped>\n",
       "    .dataframe tbody tr th:only-of-type {\n",
       "        vertical-align: middle;\n",
       "    }\n",
       "\n",
       "    .dataframe tbody tr th {\n",
       "        vertical-align: top;\n",
       "    }\n",
       "\n",
       "    .dataframe thead th {\n",
       "        text-align: right;\n",
       "    }\n",
       "</style>\n",
       "<table border=\"1\" class=\"dataframe\">\n",
       "  <thead>\n",
       "    <tr style=\"text-align: right;\">\n",
       "      <th></th>\n",
       "      <th>MDVP:Fo(Hz)</th>\n",
       "      <th>MDVP:Fhi(Hz)</th>\n",
       "      <th>MDVP:Flo(Hz)</th>\n",
       "      <th>MDVP:Jitter(%)</th>\n",
       "      <th>MDVP:Jitter(Abs)</th>\n",
       "      <th>MDVP:RAP</th>\n",
       "      <th>MDVP:PPQ</th>\n",
       "      <th>Jitter:DDP</th>\n",
       "      <th>MDVP:Shimmer</th>\n",
       "      <th>MDVP:Shimmer(dB)</th>\n",
       "      <th>...</th>\n",
       "      <th>Shimmer:DDA</th>\n",
       "      <th>NHR</th>\n",
       "      <th>HNR</th>\n",
       "      <th>status</th>\n",
       "      <th>RPDE</th>\n",
       "      <th>DFA</th>\n",
       "      <th>spread1</th>\n",
       "      <th>spread2</th>\n",
       "      <th>D2</th>\n",
       "      <th>PPE</th>\n",
       "    </tr>\n",
       "  </thead>\n",
       "  <tbody>\n",
       "    <tr>\n",
       "      <th>0</th>\n",
       "      <td>119.992</td>\n",
       "      <td>157.302</td>\n",
       "      <td>74.997</td>\n",
       "      <td>0.00784</td>\n",
       "      <td>0.00007</td>\n",
       "      <td>0.00370</td>\n",
       "      <td>0.00554</td>\n",
       "      <td>0.01109</td>\n",
       "      <td>0.04374</td>\n",
       "      <td>0.426</td>\n",
       "      <td>...</td>\n",
       "      <td>0.06545</td>\n",
       "      <td>0.02211</td>\n",
       "      <td>21.033</td>\n",
       "      <td>1</td>\n",
       "      <td>0.414783</td>\n",
       "      <td>0.815285</td>\n",
       "      <td>-4.813031</td>\n",
       "      <td>0.266482</td>\n",
       "      <td>2.301442</td>\n",
       "      <td>0.284654</td>\n",
       "    </tr>\n",
       "    <tr>\n",
       "      <th>1</th>\n",
       "      <td>122.400</td>\n",
       "      <td>148.650</td>\n",
       "      <td>113.819</td>\n",
       "      <td>0.00968</td>\n",
       "      <td>0.00008</td>\n",
       "      <td>0.00465</td>\n",
       "      <td>0.00696</td>\n",
       "      <td>0.01394</td>\n",
       "      <td>0.06134</td>\n",
       "      <td>0.626</td>\n",
       "      <td>...</td>\n",
       "      <td>0.09403</td>\n",
       "      <td>0.01929</td>\n",
       "      <td>19.085</td>\n",
       "      <td>1</td>\n",
       "      <td>0.458359</td>\n",
       "      <td>0.819521</td>\n",
       "      <td>-4.075192</td>\n",
       "      <td>0.335590</td>\n",
       "      <td>2.486855</td>\n",
       "      <td>0.368674</td>\n",
       "    </tr>\n",
       "    <tr>\n",
       "      <th>2</th>\n",
       "      <td>116.682</td>\n",
       "      <td>131.111</td>\n",
       "      <td>111.555</td>\n",
       "      <td>0.01050</td>\n",
       "      <td>0.00009</td>\n",
       "      <td>0.00544</td>\n",
       "      <td>0.00781</td>\n",
       "      <td>0.01633</td>\n",
       "      <td>0.05233</td>\n",
       "      <td>0.482</td>\n",
       "      <td>...</td>\n",
       "      <td>0.08270</td>\n",
       "      <td>0.01309</td>\n",
       "      <td>20.651</td>\n",
       "      <td>1</td>\n",
       "      <td>0.429895</td>\n",
       "      <td>0.825288</td>\n",
       "      <td>-4.443179</td>\n",
       "      <td>0.311173</td>\n",
       "      <td>2.342259</td>\n",
       "      <td>0.332634</td>\n",
       "    </tr>\n",
       "    <tr>\n",
       "      <th>3</th>\n",
       "      <td>116.676</td>\n",
       "      <td>137.871</td>\n",
       "      <td>111.366</td>\n",
       "      <td>0.00997</td>\n",
       "      <td>0.00009</td>\n",
       "      <td>0.00502</td>\n",
       "      <td>0.00698</td>\n",
       "      <td>0.01505</td>\n",
       "      <td>0.05492</td>\n",
       "      <td>0.517</td>\n",
       "      <td>...</td>\n",
       "      <td>0.08771</td>\n",
       "      <td>0.01353</td>\n",
       "      <td>20.644</td>\n",
       "      <td>1</td>\n",
       "      <td>0.434969</td>\n",
       "      <td>0.819235</td>\n",
       "      <td>-4.117501</td>\n",
       "      <td>0.334147</td>\n",
       "      <td>2.405554</td>\n",
       "      <td>0.368975</td>\n",
       "    </tr>\n",
       "    <tr>\n",
       "      <th>4</th>\n",
       "      <td>116.014</td>\n",
       "      <td>141.781</td>\n",
       "      <td>110.655</td>\n",
       "      <td>0.01284</td>\n",
       "      <td>0.00011</td>\n",
       "      <td>0.00655</td>\n",
       "      <td>0.00908</td>\n",
       "      <td>0.01966</td>\n",
       "      <td>0.06425</td>\n",
       "      <td>0.584</td>\n",
       "      <td>...</td>\n",
       "      <td>0.10470</td>\n",
       "      <td>0.01767</td>\n",
       "      <td>19.649</td>\n",
       "      <td>1</td>\n",
       "      <td>0.417356</td>\n",
       "      <td>0.823484</td>\n",
       "      <td>-3.747787</td>\n",
       "      <td>0.234513</td>\n",
       "      <td>2.332180</td>\n",
       "      <td>0.410335</td>\n",
       "    </tr>\n",
       "    <tr>\n",
       "      <th>...</th>\n",
       "      <td>...</td>\n",
       "      <td>...</td>\n",
       "      <td>...</td>\n",
       "      <td>...</td>\n",
       "      <td>...</td>\n",
       "      <td>...</td>\n",
       "      <td>...</td>\n",
       "      <td>...</td>\n",
       "      <td>...</td>\n",
       "      <td>...</td>\n",
       "      <td>...</td>\n",
       "      <td>...</td>\n",
       "      <td>...</td>\n",
       "      <td>...</td>\n",
       "      <td>...</td>\n",
       "      <td>...</td>\n",
       "      <td>...</td>\n",
       "      <td>...</td>\n",
       "      <td>...</td>\n",
       "      <td>...</td>\n",
       "      <td>...</td>\n",
       "    </tr>\n",
       "    <tr>\n",
       "      <th>190</th>\n",
       "      <td>174.188</td>\n",
       "      <td>230.978</td>\n",
       "      <td>94.261</td>\n",
       "      <td>0.00459</td>\n",
       "      <td>0.00003</td>\n",
       "      <td>0.00263</td>\n",
       "      <td>0.00259</td>\n",
       "      <td>0.00790</td>\n",
       "      <td>0.04087</td>\n",
       "      <td>0.405</td>\n",
       "      <td>...</td>\n",
       "      <td>0.07008</td>\n",
       "      <td>0.02764</td>\n",
       "      <td>19.517</td>\n",
       "      <td>0</td>\n",
       "      <td>0.448439</td>\n",
       "      <td>0.657899</td>\n",
       "      <td>-6.538586</td>\n",
       "      <td>0.121952</td>\n",
       "      <td>2.657476</td>\n",
       "      <td>0.133050</td>\n",
       "    </tr>\n",
       "    <tr>\n",
       "      <th>191</th>\n",
       "      <td>209.516</td>\n",
       "      <td>253.017</td>\n",
       "      <td>89.488</td>\n",
       "      <td>0.00564</td>\n",
       "      <td>0.00003</td>\n",
       "      <td>0.00331</td>\n",
       "      <td>0.00292</td>\n",
       "      <td>0.00994</td>\n",
       "      <td>0.02751</td>\n",
       "      <td>0.263</td>\n",
       "      <td>...</td>\n",
       "      <td>0.04812</td>\n",
       "      <td>0.01810</td>\n",
       "      <td>19.147</td>\n",
       "      <td>0</td>\n",
       "      <td>0.431674</td>\n",
       "      <td>0.683244</td>\n",
       "      <td>-6.195325</td>\n",
       "      <td>0.129303</td>\n",
       "      <td>2.784312</td>\n",
       "      <td>0.168895</td>\n",
       "    </tr>\n",
       "    <tr>\n",
       "      <th>192</th>\n",
       "      <td>174.688</td>\n",
       "      <td>240.005</td>\n",
       "      <td>74.287</td>\n",
       "      <td>0.01360</td>\n",
       "      <td>0.00008</td>\n",
       "      <td>0.00624</td>\n",
       "      <td>0.00564</td>\n",
       "      <td>0.01873</td>\n",
       "      <td>0.02308</td>\n",
       "      <td>0.256</td>\n",
       "      <td>...</td>\n",
       "      <td>0.03804</td>\n",
       "      <td>0.10715</td>\n",
       "      <td>17.883</td>\n",
       "      <td>0</td>\n",
       "      <td>0.407567</td>\n",
       "      <td>0.655683</td>\n",
       "      <td>-6.787197</td>\n",
       "      <td>0.158453</td>\n",
       "      <td>2.679772</td>\n",
       "      <td>0.131728</td>\n",
       "    </tr>\n",
       "    <tr>\n",
       "      <th>193</th>\n",
       "      <td>198.764</td>\n",
       "      <td>396.961</td>\n",
       "      <td>74.904</td>\n",
       "      <td>0.00740</td>\n",
       "      <td>0.00004</td>\n",
       "      <td>0.00370</td>\n",
       "      <td>0.00390</td>\n",
       "      <td>0.01109</td>\n",
       "      <td>0.02296</td>\n",
       "      <td>0.241</td>\n",
       "      <td>...</td>\n",
       "      <td>0.03794</td>\n",
       "      <td>0.07223</td>\n",
       "      <td>19.020</td>\n",
       "      <td>0</td>\n",
       "      <td>0.451221</td>\n",
       "      <td>0.643956</td>\n",
       "      <td>-6.744577</td>\n",
       "      <td>0.207454</td>\n",
       "      <td>2.138608</td>\n",
       "      <td>0.123306</td>\n",
       "    </tr>\n",
       "    <tr>\n",
       "      <th>194</th>\n",
       "      <td>214.289</td>\n",
       "      <td>260.277</td>\n",
       "      <td>77.973</td>\n",
       "      <td>0.00567</td>\n",
       "      <td>0.00003</td>\n",
       "      <td>0.00295</td>\n",
       "      <td>0.00317</td>\n",
       "      <td>0.00885</td>\n",
       "      <td>0.01884</td>\n",
       "      <td>0.190</td>\n",
       "      <td>...</td>\n",
       "      <td>0.03078</td>\n",
       "      <td>0.04398</td>\n",
       "      <td>21.209</td>\n",
       "      <td>0</td>\n",
       "      <td>0.462803</td>\n",
       "      <td>0.664357</td>\n",
       "      <td>-5.724056</td>\n",
       "      <td>0.190667</td>\n",
       "      <td>2.555477</td>\n",
       "      <td>0.148569</td>\n",
       "    </tr>\n",
       "  </tbody>\n",
       "</table>\n",
       "<p>195 rows × 23 columns</p>\n",
       "</div>"
      ],
      "text/plain": [
       "     MDVP:Fo(Hz)  MDVP:Fhi(Hz)  MDVP:Flo(Hz)  MDVP:Jitter(%)  \\\n",
       "0        119.992       157.302        74.997         0.00784   \n",
       "1        122.400       148.650       113.819         0.00968   \n",
       "2        116.682       131.111       111.555         0.01050   \n",
       "3        116.676       137.871       111.366         0.00997   \n",
       "4        116.014       141.781       110.655         0.01284   \n",
       "..           ...           ...           ...             ...   \n",
       "190      174.188       230.978        94.261         0.00459   \n",
       "191      209.516       253.017        89.488         0.00564   \n",
       "192      174.688       240.005        74.287         0.01360   \n",
       "193      198.764       396.961        74.904         0.00740   \n",
       "194      214.289       260.277        77.973         0.00567   \n",
       "\n",
       "     MDVP:Jitter(Abs)  MDVP:RAP  MDVP:PPQ  Jitter:DDP  MDVP:Shimmer  \\\n",
       "0             0.00007   0.00370   0.00554     0.01109       0.04374   \n",
       "1             0.00008   0.00465   0.00696     0.01394       0.06134   \n",
       "2             0.00009   0.00544   0.00781     0.01633       0.05233   \n",
       "3             0.00009   0.00502   0.00698     0.01505       0.05492   \n",
       "4             0.00011   0.00655   0.00908     0.01966       0.06425   \n",
       "..                ...       ...       ...         ...           ...   \n",
       "190           0.00003   0.00263   0.00259     0.00790       0.04087   \n",
       "191           0.00003   0.00331   0.00292     0.00994       0.02751   \n",
       "192           0.00008   0.00624   0.00564     0.01873       0.02308   \n",
       "193           0.00004   0.00370   0.00390     0.01109       0.02296   \n",
       "194           0.00003   0.00295   0.00317     0.00885       0.01884   \n",
       "\n",
       "     MDVP:Shimmer(dB)  ...  Shimmer:DDA      NHR     HNR  status      RPDE  \\\n",
       "0               0.426  ...      0.06545  0.02211  21.033       1  0.414783   \n",
       "1               0.626  ...      0.09403  0.01929  19.085       1  0.458359   \n",
       "2               0.482  ...      0.08270  0.01309  20.651       1  0.429895   \n",
       "3               0.517  ...      0.08771  0.01353  20.644       1  0.434969   \n",
       "4               0.584  ...      0.10470  0.01767  19.649       1  0.417356   \n",
       "..                ...  ...          ...      ...     ...     ...       ...   \n",
       "190             0.405  ...      0.07008  0.02764  19.517       0  0.448439   \n",
       "191             0.263  ...      0.04812  0.01810  19.147       0  0.431674   \n",
       "192             0.256  ...      0.03804  0.10715  17.883       0  0.407567   \n",
       "193             0.241  ...      0.03794  0.07223  19.020       0  0.451221   \n",
       "194             0.190  ...      0.03078  0.04398  21.209       0  0.462803   \n",
       "\n",
       "          DFA   spread1   spread2        D2       PPE  \n",
       "0    0.815285 -4.813031  0.266482  2.301442  0.284654  \n",
       "1    0.819521 -4.075192  0.335590  2.486855  0.368674  \n",
       "2    0.825288 -4.443179  0.311173  2.342259  0.332634  \n",
       "3    0.819235 -4.117501  0.334147  2.405554  0.368975  \n",
       "4    0.823484 -3.747787  0.234513  2.332180  0.410335  \n",
       "..        ...       ...       ...       ...       ...  \n",
       "190  0.657899 -6.538586  0.121952  2.657476  0.133050  \n",
       "191  0.683244 -6.195325  0.129303  2.784312  0.168895  \n",
       "192  0.655683 -6.787197  0.158453  2.679772  0.131728  \n",
       "193  0.643956 -6.744577  0.207454  2.138608  0.123306  \n",
       "194  0.664357 -5.724056  0.190667  2.555477  0.148569  \n",
       "\n",
       "[195 rows x 23 columns]"
      ]
     },
     "execution_count": 24,
     "metadata": {},
     "output_type": "execute_result"
    }
   ],
   "source": [
    "# to delete a name column in dataframe\n",
    "\n",
    "df=df.drop(['name'],axis=1)\n",
    "df"
   ]
  },
  {
   "cell_type": "code",
   "execution_count": 25,
   "id": "b89bd5f6",
   "metadata": {},
   "outputs": [
    {
     "data": {
      "text/plain": [
       "Index(['MDVP:Fo(Hz)', 'MDVP:Fhi(Hz)', 'MDVP:Flo(Hz)', 'MDVP:Jitter(%)',\n",
       "       'MDVP:Jitter(Abs)', 'MDVP:RAP', 'MDVP:PPQ', 'Jitter:DDP',\n",
       "       'MDVP:Shimmer', 'MDVP:Shimmer(dB)', 'Shimmer:APQ3', 'Shimmer:APQ5',\n",
       "       'MDVP:APQ', 'Shimmer:DDA', 'NHR', 'HNR', 'status', 'RPDE', 'DFA',\n",
       "       'spread1', 'spread2', 'D2', 'PPE'],\n",
       "      dtype='object')"
      ]
     },
     "execution_count": 25,
     "metadata": {},
     "output_type": "execute_result"
    }
   ],
   "source": [
    "df.columns"
   ]
  },
  {
   "cell_type": "code",
   "execution_count": 26,
   "id": "e24f22b6",
   "metadata": {
    "scrolled": true
   },
   "outputs": [
    {
     "name": "stdout",
     "output_type": "stream",
     "text": [
      "Number of posetive parkinsons desease cases: \n"
     ]
    },
    {
     "data": {
      "text/plain": [
       "(147, 23)"
      ]
     },
     "execution_count": 26,
     "metadata": {},
     "output_type": "execute_result"
    }
   ],
   "source": [
    "#number of posetive parkinson's desease cases\n",
    "print('Number of posetive parkinsons desease cases: ')\n",
    "df[df['status']==1].shape"
   ]
  },
  {
   "cell_type": "code",
   "execution_count": 27,
   "id": "89b7e9ac",
   "metadata": {},
   "outputs": [
    {
     "name": "stdout",
     "output_type": "stream",
     "text": [
      "Number of healthy cases: \n"
     ]
    },
    {
     "data": {
      "text/plain": [
       "(48, 23)"
      ]
     },
     "execution_count": 27,
     "metadata": {},
     "output_type": "execute_result"
    }
   ],
   "source": [
    "#number of healthy cases\n",
    "print('Number of healthy cases: ')\n",
    "df[df['status']==0].shape"
   ]
  },
  {
   "cell_type": "code",
   "execution_count": 28,
   "id": "2a1f228e",
   "metadata": {},
   "outputs": [],
   "source": [
    "# Data Standardization\n",
    "\n",
    "#برای اینکه مقادیر مختلفی و بسیار متفاوت باهم که در جدول هستند را اسکیل کنیم و در یک حدود باشند از این قسمت استفاده میکنیم\n",
    "\n",
    "from sklearn.preprocessing import StandardScaler\n",
    "x = df.drop(['status'],axis=1)\n",
    "y = df['status']"
   ]
  },
  {
   "cell_type": "code",
   "execution_count": 29,
   "id": "f3b586d8",
   "metadata": {},
   "outputs": [],
   "source": [
    "#آرایه ایکس بین -2 تا 2 افتاده حدودا \n",
    "\n",
    "\n",
    "stdscaler = StandardScaler()\n",
    "x = np.array(stdscaler.fit_transform(x))"
   ]
  },
  {
   "cell_type": "code",
   "execution_count": 30,
   "id": "d6813d74",
   "metadata": {},
   "outputs": [
    {
     "data": {
      "text/plain": [
       "array([[-0.82929965, -0.43616456, -0.95203729, ...,  0.48047686,\n",
       "        -0.21053082,  0.86888575],\n",
       "       [-0.77097169, -0.53097409, -0.05772056, ...,  1.31118546,\n",
       "         0.27507712,  1.80360503],\n",
       "       [-0.90947638, -0.7231683 , -0.10987483, ...,  1.01768236,\n",
       "        -0.10362861,  1.40266141],\n",
       "       ...,\n",
       "       [ 0.49557839,  0.47010361, -0.96839309, ..., -0.81807931,\n",
       "         0.78033848, -0.83241014],\n",
       "       [ 1.07876114,  2.19004398, -0.95417967, ..., -0.22906571,\n",
       "        -0.63700298, -0.92610456],\n",
       "       [ 1.45481664,  0.69224632, -0.88348115, ..., -0.43085284,\n",
       "         0.45480231, -0.64505466]])"
      ]
     },
     "execution_count": 30,
     "metadata": {},
     "output_type": "execute_result"
    }
   ],
   "source": [
    "x"
   ]
  },
  {
   "cell_type": "code",
   "execution_count": 31,
   "id": "256cc41e",
   "metadata": {},
   "outputs": [
    {
     "data": {
      "text/plain": [
       "0      1\n",
       "1      1\n",
       "2      1\n",
       "3      1\n",
       "4      1\n",
       "      ..\n",
       "190    0\n",
       "191    0\n",
       "192    0\n",
       "193    0\n",
       "194    0\n",
       "Name: status, Length: 195, dtype: int64"
      ]
     },
     "execution_count": 31,
     "metadata": {},
     "output_type": "execute_result"
    }
   ],
   "source": [
    "y"
   ]
  },
  {
   "cell_type": "code",
   "execution_count": 90,
   "id": "c33ec96b",
   "metadata": {},
   "outputs": [
    {
     "name": "stdout",
     "output_type": "stream",
     "text": [
      "(156, 22)\n",
      "(39, 22)\n",
      "(156,)\n",
      "(39,)\n"
     ]
    }
   ],
   "source": [
    "# Train and Test Split\n",
    "# 80% train data and 20% test data\n",
    "\n",
    "from sklearn.model_selection import train_test_split\n",
    "x_train,x_test,y_train,y_test = train_test_split(x,y,test_size=0.2, random_state=10)\n",
    "\n",
    "print(x_train.shape)\n",
    "print(x_test.shape)\n",
    "print(y_train.shape)\n",
    "print(y_test.shape)"
   ]
  },
  {
   "cell_type": "code",
   "execution_count": 91,
   "id": "5963c653",
   "metadata": {},
   "outputs": [
    {
     "data": {
      "text/plain": [
       "156"
      ]
     },
     "execution_count": 91,
     "metadata": {},
     "output_type": "execute_result"
    }
   ],
   "source": [
    "X_train = np.array(x_train)\n",
    "len(X_train)\n"
   ]
  },
  {
   "cell_type": "code",
   "execution_count": 92,
   "id": "8832f390",
   "metadata": {},
   "outputs": [
    {
     "data": {
      "text/plain": [
       "39"
      ]
     },
     "execution_count": 92,
     "metadata": {},
     "output_type": "execute_result"
    }
   ],
   "source": [
    "X_test = np.array(x_test)\n",
    "len(X_test)"
   ]
  },
  {
   "cell_type": "code",
   "execution_count": 93,
   "id": "cfaca85e",
   "metadata": {},
   "outputs": [
    {
     "data": {
      "text/plain": [
       "156"
      ]
     },
     "execution_count": 93,
     "metadata": {},
     "output_type": "execute_result"
    }
   ],
   "source": [
    "Y_train = np.array(y_train)\n",
    "len(Y_train)"
   ]
  },
  {
   "cell_type": "code",
   "execution_count": 94,
   "id": "6eb715f4",
   "metadata": {},
   "outputs": [
    {
     "data": {
      "text/plain": [
       "39"
      ]
     },
     "execution_count": 94,
     "metadata": {},
     "output_type": "execute_result"
    }
   ],
   "source": [
    "Y_test = np.array(y_test)\n",
    "len(Y_test)"
   ]
  },
  {
   "cell_type": "markdown",
   "id": "bce5cdae",
   "metadata": {},
   "source": [
    "# Apply Algorithms"
   ]
  },
  {
   "cell_type": "markdown",
   "id": "f87bbb2b",
   "metadata": {},
   "source": [
    "## Linear Regression Model"
   ]
  },
  {
   "cell_type": "code",
   "execution_count": 95,
   "id": "88a1a26b",
   "metadata": {},
   "outputs": [],
   "source": [
    "from sklearn.linear_model import LinearRegression\n",
    "model1 = LinearRegression()"
   ]
  },
  {
   "cell_type": "code",
   "execution_count": 96,
   "id": "5e56f18f",
   "metadata": {},
   "outputs": [
    {
     "data": {
      "text/plain": [
       "LinearRegression()"
      ]
     },
     "execution_count": 96,
     "metadata": {},
     "output_type": "execute_result"
    }
   ],
   "source": [
    "model1.fit (X_train,Y_train)"
   ]
  },
  {
   "cell_type": "code",
   "execution_count": 97,
   "id": "3469c46d",
   "metadata": {},
   "outputs": [
    {
     "data": {
      "text/plain": [
       "array([0.51464502, 0.92291805, 1.08895196, 0.93072429, 0.39722818,\n",
       "       0.96450257, 0.51665718, 0.73428536, 0.96425774, 0.89648295,\n",
       "       0.54933081, 1.04009737, 1.02683814, 1.02090193, 0.52986194,\n",
       "       0.21476581, 1.07171961, 0.93419406, 0.55144217, 0.87538823,\n",
       "       1.17667136, 0.53241189, 0.40486539, 0.77032915, 0.94973256,\n",
       "       0.79196182, 0.95604616, 1.05056541, 0.02141046, 0.08635714,\n",
       "       0.86404109, 0.73424635, 1.07673007, 0.16402396, 0.26651789,\n",
       "       0.70248981, 0.5602687 , 0.96492844, 0.09659312])"
      ]
     },
     "execution_count": 97,
     "metadata": {},
     "output_type": "execute_result"
    }
   ],
   "source": [
    "Y_predmod1 = model1.predict(X_test)\n",
    "Y_predmod1"
   ]
  },
  {
   "cell_type": "code",
   "execution_count": 98,
   "id": "17e658ff",
   "metadata": {},
   "outputs": [
    {
     "name": "stdout",
     "output_type": "stream",
     "text": [
      "[1. 1. 1. 1. 0. 1. 1. 1. 1. 1. 1. 1. 1. 1. 1. 0. 1. 1. 1. 1. 1. 1. 0. 1.\n",
      " 1. 1. 1. 1. 0. 0. 1. 1. 1. 0. 0. 1. 1. 1. 0.]\n"
     ]
    },
    {
     "data": {
      "text/plain": [
       "(39,)"
      ]
     },
     "execution_count": 98,
     "metadata": {},
     "output_type": "execute_result"
    }
   ],
   "source": [
    "for i,j in enumerate(Y_predmod1):\n",
    "    if( j < 0.5 ):\n",
    "        Y_predmod1[i]=0\n",
    "    else:\n",
    "        Y_predmod1[i]=1\n",
    "print(Y_predmod1)\n",
    "Y_predmod1.shape"
   ]
  },
  {
   "cell_type": "code",
   "execution_count": 99,
   "id": "9af16e0a",
   "metadata": {},
   "outputs": [
    {
     "name": "stdout",
     "output_type": "stream",
     "text": [
      "[1 1 1 1 0 1 0 1 1 1 1 1 1 1 1 0 1 1 1 1 1 0 0 1 1 1 1 1 0 0 1 1 1 0 0 1 0\n",
      " 1 0]\n"
     ]
    },
    {
     "data": {
      "text/plain": [
       "(39,)"
      ]
     },
     "execution_count": 99,
     "metadata": {},
     "output_type": "execute_result"
    }
   ],
   "source": [
    "Y_test = np.array(Y_test)\n",
    "print(Y_test)\n",
    "Y_test.shape"
   ]
  },
  {
   "cell_type": "code",
   "execution_count": 100,
   "id": "8e3f7dd3",
   "metadata": {},
   "outputs": [
    {
     "name": "stdout",
     "output_type": "stream",
     "text": [
      "Y_pred          Y_test\n",
      "1.0               1\n",
      "1.0               1\n",
      "1.0               1\n",
      "1.0               1\n",
      "0.0               0\n",
      "1.0               1\n",
      "1.0               0\n",
      "1.0               1\n",
      "1.0               1\n",
      "1.0               1\n",
      "1.0               1\n",
      "1.0               1\n",
      "1.0               1\n",
      "1.0               1\n",
      "1.0               1\n",
      "0.0               0\n",
      "1.0               1\n",
      "1.0               1\n",
      "1.0               1\n",
      "1.0               1\n",
      "1.0               1\n",
      "1.0               0\n",
      "0.0               0\n",
      "1.0               1\n",
      "1.0               1\n",
      "1.0               1\n",
      "1.0               1\n",
      "1.0               1\n",
      "0.0               0\n",
      "0.0               0\n",
      "1.0               1\n",
      "1.0               1\n",
      "1.0               1\n",
      "0.0               0\n",
      "0.0               0\n",
      "1.0               1\n",
      "1.0               0\n",
      "1.0               1\n",
      "0.0               0\n"
     ]
    }
   ],
   "source": [
    "print('Y_pred          Y_test')\n",
    "for i,j in zip(Y_predmod1,Y_test):\n",
    "    print(i,\"             \",j)"
   ]
  },
  {
   "cell_type": "code",
   "execution_count": 101,
   "id": "aab2a94c",
   "metadata": {
    "scrolled": true
   },
   "outputs": [
    {
     "data": {
      "text/plain": [
       "array([-1.04534118e-01, -8.64109626e-03, -8.47479945e-02, -8.42742504e-01,\n",
       "       -2.11212157e-01,  1.56884203e+01, -1.42137550e-01, -1.46054643e+01,\n",
       "        5.17532503e-01,  5.28230731e-02, -4.02387066e+01, -2.09417859e-01,\n",
       "       -7.79932356e-02,  4.00157133e+01, -9.44810447e-02, -4.34151524e-02,\n",
       "       -8.18391150e-02,  1.28448884e-02,  7.56285161e-02,  1.01698916e-01,\n",
       "        1.77072618e-02,  1.60954993e-01])"
      ]
     },
     "execution_count": 101,
     "metadata": {},
     "output_type": "execute_result"
    }
   ],
   "source": [
    "model1.coef_"
   ]
  },
  {
   "cell_type": "code",
   "execution_count": 102,
   "id": "c48b8722",
   "metadata": {},
   "outputs": [
    {
     "data": {
      "text/plain": [
       "0.7534122263490176"
      ]
     },
     "execution_count": 102,
     "metadata": {},
     "output_type": "execute_result"
    }
   ],
   "source": [
    "model1.intercept_"
   ]
  },
  {
   "cell_type": "code",
   "execution_count": 103,
   "id": "11d0b4e3",
   "metadata": {},
   "outputs": [
    {
     "data": {
      "text/plain": [
       "Text(270.0, 0.5, 'Truth')"
      ]
     },
     "execution_count": 103,
     "metadata": {},
     "output_type": "execute_result"
    },
    {
     "data": {
      "image/png": "[encoded data removed]",
      "text/plain": [
       "<Figure size 576x432 with 2 Axes>"
      ]
     },
     "metadata": {},
     "output_type": "display_data"
    }
   ],
   "source": [
    "#Confusion Matrix\n",
    "\n",
    "from sklearn.metrics import confusion_matrix\n",
    "import matplotlib.pyplot as plt\n",
    "import seaborn as sn                               #to make heat map\n",
    "\n",
    "cm = confusion_matrix(Y_test,Y_predmod1)\n",
    "plt.figure(figsize=(8,6))\n",
    "fg = sn.heatmap(cm, annot=True, cmap='Oranges')\n",
    "figure =fg.get_figure()\n",
    "figure.savefig('Linear_Regression.jpg',dpi=400)\n",
    "plt.xlabel(\"Predicted\")\n",
    "plt.ylabel('Truth')\n",
    "\n",
    "\n",
    "# از بین 39 مورد تست شده:\n",
    "#هشت نفر واقعا سالم هستن و ماشین هم پیش بینی کرده واقعا سالمن\n",
    "# صفر نفر واقعا بیمارن و ماشین اشتباها پیش بینی کرده که سالم\n",
    "# سه نفر واقعا سالمن اما ماشین اشتباها پیش بینی کرده که بیمارن\n",
    "# بیست و هشت نفر واقعا بیمارن و ماشین به درستی پیش بینی کرده که بیمارن\n",
    "\n",
    "\n",
    "# N: healthy       P:parkinson\n",
    "\n",
    "# [TN   FP]\n",
    "# [FN   TP]"
   ]
  },
  {
   "cell_type": "code",
   "execution_count": 104,
   "id": "3ba74bab",
   "metadata": {},
   "outputs": [
    {
     "name": "stdout",
     "output_type": "stream",
     "text": [
      "confusion_matrix\n",
      "[[ 8  3]\n",
      " [ 0 28]]\n",
      "\n",
      "accuracy: 0.9230769230769231\n",
      "\n",
      "recall: [0.72727273 1.        ]\n",
      "\n",
      "precision: [1.         0.90322581]\n"
     ]
    }
   ],
   "source": [
    "from sklearn.metrics import confusion_matrix, accuracy_score, recall_score, precision_score\n",
    "print (\"confusion_matrix\")\n",
    "print(confusion_matrix(Y_test,Y_predmod1))\n",
    "print(\"\\naccuracy:\",accuracy_score(Y_test,Y_predmod1))\n",
    "print(\"\\nrecall:\",recall_score(Y_test,Y_predmod1, average = None))\n",
    "print(\"\\nprecision:\",precision_score(Y_test,Y_predmod1, average = None))"
   ]
  },
  {
   "cell_type": "markdown",
   "id": "7840ef91",
   "metadata": {},
   "source": [
    "# Logistic Regression Model"
   ]
  },
  {
   "cell_type": "code",
   "execution_count": 105,
   "id": "0258b3ca",
   "metadata": {},
   "outputs": [],
   "source": [
    "from sklearn.linear_model import LogisticRegression\n",
    "model2 = LogisticRegression()"
   ]
  },
  {
   "cell_type": "code",
   "execution_count": 106,
   "id": "b5c32f74",
   "metadata": {},
   "outputs": [
    {
     "data": {
      "text/plain": [
       "LogisticRegression()"
      ]
     },
     "execution_count": 106,
     "metadata": {},
     "output_type": "execute_result"
    }
   ],
   "source": [
    "model2.fit(X_train,Y_train)"
   ]
  },
  {
   "cell_type": "code",
   "execution_count": 107,
   "id": "dcc5329a",
   "metadata": {},
   "outputs": [
    {
     "data": {
      "text/plain": [
       "array([1, 1, 1, 1, 0, 1, 0, 1, 1, 1, 1, 1, 1, 1, 1, 0, 1, 1, 0, 1, 1, 0,\n",
       "       0, 1, 1, 1, 1, 1, 0, 0, 1, 1, 1, 0, 0, 1, 0, 1, 0], dtype=int64)"
      ]
     },
     "execution_count": 107,
     "metadata": {},
     "output_type": "execute_result"
    }
   ],
   "source": [
    "Y_predmod2 = model2.predict(X_test)\n",
    "Y_predmod2"
   ]
  },
  {
   "cell_type": "code",
   "execution_count": 108,
   "id": "fc86eefe",
   "metadata": {},
   "outputs": [
    {
     "data": {
      "text/plain": [
       "array([1, 1, 1, 1, 0, 1, 0, 1, 1, 1, 1, 1, 1, 1, 1, 0, 1, 1, 1, 1, 1, 0,\n",
       "       0, 1, 1, 1, 1, 1, 0, 0, 1, 1, 1, 0, 0, 1, 0, 1, 0], dtype=int64)"
      ]
     },
     "execution_count": 108,
     "metadata": {},
     "output_type": "execute_result"
    }
   ],
   "source": [
    "Y_test"
   ]
  },
  {
   "cell_type": "code",
   "execution_count": 109,
   "id": "e9f1f82d",
   "metadata": {},
   "outputs": [
    {
     "name": "stdout",
     "output_type": "stream",
     "text": [
      "Y_Pred         Y_test\n",
      "1               1\n",
      "1               1\n",
      "1               1\n",
      "1               1\n",
      "0               0\n",
      "1               1\n",
      "0               0\n",
      "1               1\n",
      "1               1\n",
      "1               1\n",
      "1               1\n",
      "1               1\n",
      "1               1\n",
      "1               1\n",
      "1               1\n",
      "0               0\n",
      "1               1\n",
      "1               1\n",
      "0               1\n",
      "1               1\n",
      "1               1\n",
      "0               0\n",
      "0               0\n",
      "1               1\n",
      "1               1\n",
      "1               1\n",
      "1               1\n",
      "1               1\n",
      "0               0\n",
      "0               0\n",
      "1               1\n",
      "1               1\n",
      "1               1\n",
      "0               0\n",
      "0               0\n",
      "1               1\n",
      "0               0\n",
      "1               1\n",
      "0               0\n"
     ]
    }
   ],
   "source": [
    "print('Y_Pred         Y_test')\n",
    "for i,j in zip(Y_predmod2,Y_test):\n",
    "    print(i,\"             \",j)"
   ]
  },
  {
   "cell_type": "code",
   "execution_count": 110,
   "id": "3fabc84c",
   "metadata": {},
   "outputs": [
    {
     "name": "stdout",
     "output_type": "stream",
     "text": [
      "Logistic Regression Accuracy : \n"
     ]
    },
    {
     "data": {
      "text/plain": [
       "0.9743589743589743"
      ]
     },
     "execution_count": 110,
     "metadata": {},
     "output_type": "execute_result"
    }
   ],
   "source": [
    "print(\"Logistic Regression Accuracy : \")\n",
    "model2.score(X_test,Y_test)"
   ]
  },
  {
   "cell_type": "code",
   "execution_count": 111,
   "id": "4beb47d1",
   "metadata": {},
   "outputs": [
    {
     "data": {
      "text/plain": [
       "array([[6.04302356e-02, 9.39569764e-01],\n",
       "       [3.22125469e-03, 9.96778745e-01],\n",
       "       [1.50254202e-03, 9.98497458e-01],\n",
       "       [2.59753456e-02, 9.74024654e-01],\n",
       "       [5.76189480e-01, 4.23810520e-01],\n",
       "       [2.61914891e-03, 9.97380851e-01],\n",
       "       [7.34636224e-01, 2.65363776e-01],\n",
       "       [2.27997815e-02, 9.77200219e-01],\n",
       "       [1.53787217e-01, 8.46212783e-01],\n",
       "       [3.05365168e-03, 9.96946348e-01],\n",
       "       [4.45622835e-01, 5.54377165e-01],\n",
       "       [2.53908029e-02, 9.74609197e-01],\n",
       "       [7.04228379e-02, 9.29577162e-01],\n",
       "       [5.71461644e-02, 9.42853836e-01],\n",
       "       [2.57962987e-01, 7.42037013e-01],\n",
       "       [7.91088358e-01, 2.08911642e-01],\n",
       "       [7.27540850e-03, 9.92724592e-01],\n",
       "       [4.44811777e-02, 9.55518822e-01],\n",
       "       [5.88103262e-01, 4.11896738e-01],\n",
       "       [3.32999226e-03, 9.96670008e-01],\n",
       "       [2.44702351e-04, 9.99755298e-01],\n",
       "       [5.56339077e-01, 4.43660923e-01],\n",
       "       [6.99562434e-01, 3.00437566e-01],\n",
       "       [3.94903792e-02, 9.60509621e-01],\n",
       "       [4.36883644e-03, 9.95631164e-01],\n",
       "       [1.54327457e-01, 8.45672543e-01],\n",
       "       [1.64888962e-02, 9.83511104e-01],\n",
       "       [6.22560045e-04, 9.99377440e-01],\n",
       "       [9.07739647e-01, 9.22603532e-02],\n",
       "       [9.50248033e-01, 4.97519666e-02],\n",
       "       [4.25903823e-02, 9.57409618e-01],\n",
       "       [1.58446711e-01, 8.41553289e-01],\n",
       "       [4.40254150e-02, 9.55974585e-01],\n",
       "       [9.16494901e-01, 8.35050992e-02],\n",
       "       [7.27611002e-01, 2.72388998e-01],\n",
       "       [3.63898366e-01, 6.36101634e-01],\n",
       "       [6.55703453e-01, 3.44296547e-01],\n",
       "       [1.41646900e-02, 9.85835310e-01],\n",
       "       [8.52785824e-01, 1.47214176e-01]])"
      ]
     },
     "execution_count": 111,
     "metadata": {},
     "output_type": "execute_result"
    }
   ],
   "source": [
    "model2.predict_proba(X_test)"
   ]
  },
  {
   "cell_type": "code",
   "execution_count": 112,
   "id": "90b045ba",
   "metadata": {},
   "outputs": [
    {
     "data": {
      "text/plain": [
       "Text(270.0, 0.5, 'Truth')"
      ]
     },
     "execution_count": 112,
     "metadata": {},
     "output_type": "execute_result"
    },
    {
     "data": {
      "image/png": "[encoded data removed]",
      "text/plain": [
       "<Figure size 576x432 with 2 Axes>"
      ]
     },
     "metadata": {},
     "output_type": "display_data"
    }
   ],
   "source": [
    "# Confusion Matrix\n",
    "from sklearn.metrics import confusion_matrix\n",
    "import matplotlib.pyplot as plt\n",
    "import seaborn as sn                               #to make heat map\n",
    "\n",
    "\n",
    "cm = confusion_matrix(Y_test,Y_predmod2)\n",
    "plt.figure(figsize=(8,6))\n",
    "fg = sn.heatmap(cm, annot=True)\n",
    "figure =fg.get_figure()\n",
    "figure.savefig('Logistic_Regression.jpg',dpi=400)\n",
    "plt.xlabel(\"Predicted\")\n",
    "plt.ylabel('Truth')\n",
    "\n",
    "\n",
    "# از بین 39 مورد تست شده:\n",
    "# یازده نفر واقعا سالم هستن و ماشین هم پیش بینی کرده واقعا سالمن\n",
    "# یک نفر واقعا بیمارن ولی ماشین اشتباها پیش بینی کرده که سالم\n",
    "# صفر نفر واقعا سالمن اما ماشین اشتباها پیش بینی کرده که بیمارن\n",
    "# بیست و هفت نفر واقعا بیمارن و ماشین به درستی پیش بینی کرده که بیمارن\n",
    "\n",
    "\n",
    "# N: healthy       P:parkinson\n",
    "\n",
    "# [TN   FP]\n",
    "# [FN   TP]"
   ]
  },
  {
   "cell_type": "code",
   "execution_count": 113,
   "id": "a896dbc9",
   "metadata": {},
   "outputs": [
    {
     "name": "stdout",
     "output_type": "stream",
     "text": [
      "confusion_matrix\n",
      "[[11  0]\n",
      " [ 1 27]]\n",
      "\n",
      "accuracy: 0.9743589743589743\n",
      "\n",
      "recall: [1.         0.96428571]\n",
      "\n",
      "precision: [0.91666667 1.        ]\n"
     ]
    }
   ],
   "source": [
    "from sklearn.metrics import confusion_matrix, accuracy_score, recall_score, precision_score\n",
    "print (\"confusion_matrix\")\n",
    "print(confusion_matrix(Y_test,Y_predmod2))\n",
    "print(\"\\naccuracy:\",accuracy_score(Y_test,Y_predmod2))\n",
    "print(\"\\nrecall:\",recall_score(Y_test,Y_predmod2, average = None))\n",
    "print(\"\\nprecision:\",precision_score(Y_test,Y_predmod2, average = None))"
   ]
  },
  {
   "cell_type": "markdown",
   "id": "527e2b7d",
   "metadata": {},
   "source": [
    "## Decision Tree Model"
   ]
  },
  {
   "cell_type": "code",
   "execution_count": 114,
   "id": "4fcf9d54",
   "metadata": {},
   "outputs": [],
   "source": [
    "from sklearn import tree\n",
    "model3 = tree.DecisionTreeClassifier()"
   ]
  },
  {
   "cell_type": "code",
   "execution_count": 115,
   "id": "15580da3",
   "metadata": {},
   "outputs": [
    {
     "data": {
      "text/plain": [
       "DecisionTreeClassifier()"
      ]
     },
     "execution_count": 115,
     "metadata": {},
     "output_type": "execute_result"
    }
   ],
   "source": [
    "model3.fit(X_train,Y_train)"
   ]
  },
  {
   "cell_type": "code",
   "execution_count": 116,
   "id": "5613bc7a",
   "metadata": {},
   "outputs": [
    {
     "data": {
      "text/plain": [
       "array([1, 1, 1, 1, 1, 1, 0, 1, 1, 1, 1, 1, 1, 1, 1, 0, 1, 1, 1, 1, 1, 0,\n",
       "       0, 0, 1, 1, 1, 1, 1, 0, 1, 1, 1, 0, 0, 1, 0, 1, 0], dtype=int64)"
      ]
     },
     "execution_count": 116,
     "metadata": {},
     "output_type": "execute_result"
    }
   ],
   "source": [
    "Y_predmod3 = model3.predict(X_test)\n",
    "Y_predmod3"
   ]
  },
  {
   "cell_type": "code",
   "execution_count": 117,
   "id": "d41897af",
   "metadata": {},
   "outputs": [
    {
     "data": {
      "text/plain": [
       "array([1, 1, 1, 1, 0, 1, 0, 1, 1, 1, 1, 1, 1, 1, 1, 0, 1, 1, 1, 1, 1, 0,\n",
       "       0, 1, 1, 1, 1, 1, 0, 0, 1, 1, 1, 0, 0, 1, 0, 1, 0], dtype=int64)"
      ]
     },
     "execution_count": 117,
     "metadata": {},
     "output_type": "execute_result"
    }
   ],
   "source": [
    "Y_test"
   ]
  },
  {
   "cell_type": "code",
   "execution_count": 118,
   "id": "80d75982",
   "metadata": {},
   "outputs": [
    {
     "name": "stdout",
     "output_type": "stream",
     "text": [
      "Y_Pred          Y_test\n",
      "1               1\n",
      "1               1\n",
      "1               1\n",
      "1               1\n",
      "1               0\n",
      "1               1\n",
      "0               0\n",
      "1               1\n",
      "1               1\n",
      "1               1\n",
      "1               1\n",
      "1               1\n",
      "1               1\n",
      "1               1\n",
      "1               1\n",
      "0               0\n",
      "1               1\n",
      "1               1\n",
      "1               1\n",
      "1               1\n",
      "1               1\n",
      "0               0\n",
      "0               0\n",
      "0               1\n",
      "1               1\n",
      "1               1\n",
      "1               1\n",
      "1               1\n",
      "1               0\n",
      "0               0\n",
      "1               1\n",
      "1               1\n",
      "1               1\n",
      "0               0\n",
      "0               0\n",
      "1               1\n",
      "0               0\n",
      "1               1\n",
      "0               0\n"
     ]
    }
   ],
   "source": [
    "print('Y_Pred          Y_test')\n",
    "for i,j in zip(Y_predmod3,Y_test):\n",
    "    print(i,\"             \",j)"
   ]
  },
  {
   "cell_type": "code",
   "execution_count": 119,
   "id": "527be5b7",
   "metadata": {},
   "outputs": [
    {
     "name": "stdout",
     "output_type": "stream",
     "text": [
      "Decision Tree Accuracy : \n"
     ]
    },
    {
     "data": {
      "text/plain": [
       "0.9230769230769231"
      ]
     },
     "execution_count": 119,
     "metadata": {},
     "output_type": "execute_result"
    }
   ],
   "source": [
    "print(\"Decision Tree Accuracy : \")\n",
    "model3.score(X_test,Y_test)"
   ]
  },
  {
   "cell_type": "code",
   "execution_count": 120,
   "id": "ae718951",
   "metadata": {},
   "outputs": [
    {
     "data": {
      "text/plain": [
       "Text(270.0, 0.5, 'Truth')"
      ]
     },
     "execution_count": 120,
     "metadata": {},
     "output_type": "execute_result"
    },
    {
     "data": {
      "image/png": "[encoded data removed]",
      "text/plain": [
       "<Figure size 576x432 with 2 Axes>"
      ]
     },
     "metadata": {},
     "output_type": "display_data"
    }
   ],
   "source": [
    "# Confusion Matrix\n",
    "from sklearn.metrics import confusion_matrix\n",
    "import matplotlib.pyplot as plt\n",
    "import seaborn as sn                               #to make heat map\n",
    "\n",
    "\n",
    "cm = confusion_matrix(Y_test,Y_predmod3)\n",
    "plt.figure(figsize=(8,6))\n",
    "fg = sn.heatmap(cm, annot=True,cmap='coolwarm')\n",
    "figure =fg.get_figure()\n",
    "figure.savefig('Decision_tree.jpg',dpi=400)\n",
    "plt.xlabel(\"Predicted\")\n",
    "plt.ylabel('Truth')\n",
    "\n",
    "\n",
    "# از بین 39 مورد تست شده:\n",
    "# نه نفر واقعا سالم هستن و ماشین هم پیش بینی کرده واقعا سالمن\n",
    "# یک نفر واقعا بیماره ولی ماشین اشتباها پیش بینی کرده که سالم\n",
    "# دو نفر واقعا سالمن اما ماشین اشتباها پیش بینی کرده که بیمارن\n",
    "# بیست و هفت نفر واقعا بیمارن و ماشین به درستی پیش بینی کرده که بیمارن\n",
    "# درایه های روی قطر به درستی پیش بینی شده اند\n",
    "\n",
    "# N: healthy       P: parkinson\n",
    "\n",
    "# [TN   FP]\n",
    "# [FN   TP]"
   ]
  },
  {
   "cell_type": "code",
   "execution_count": 121,
   "id": "dd73e460",
   "metadata": {},
   "outputs": [
    {
     "name": "stdout",
     "output_type": "stream",
     "text": [
      "confusion_matrix\n",
      "[[ 9  2]\n",
      " [ 1 27]]\n",
      "\n",
      "accuracy: 0.9230769230769231\n",
      "\n",
      "recall: [0.81818182 0.96428571]\n",
      "\n",
      "precision: [0.9        0.93103448]\n"
     ]
    }
   ],
   "source": [
    "from sklearn.metrics import confusion_matrix, accuracy_score, recall_score, precision_score\n",
    "print (\"confusion_matrix\")\n",
    "print(confusion_matrix(Y_test,Y_predmod3))\n",
    "print(\"\\naccuracy:\",accuracy_score(Y_test,Y_predmod3))\n",
    "print(\"\\nrecall:\",recall_score(Y_test,Y_predmod3, average = None))\n",
    "print(\"\\nprecision:\",precision_score(Y_test,Y_predmod3, average = None))"
   ]
  },
  {
   "cell_type": "markdown",
   "id": "a1fc4485",
   "metadata": {},
   "source": [
    "## Support Vector Machine"
   ]
  },
  {
   "cell_type": "code",
   "execution_count": 122,
   "id": "d8a2396f",
   "metadata": {},
   "outputs": [],
   "source": [
    "from sklearn.svm import SVC\n",
    "\n",
    "model4 = SVC()\n",
    "#model4 = SVC(C=3)"
   ]
  },
  {
   "cell_type": "code",
   "execution_count": 123,
   "id": "6b31df18",
   "metadata": {},
   "outputs": [
    {
     "data": {
      "text/plain": [
       "SVC()"
      ]
     },
     "execution_count": 123,
     "metadata": {},
     "output_type": "execute_result"
    }
   ],
   "source": [
    "model4.fit(X_train,Y_train)"
   ]
  },
  {
   "cell_type": "code",
   "execution_count": 124,
   "id": "abfd1457",
   "metadata": {},
   "outputs": [
    {
     "data": {
      "text/plain": [
       "array([1, 1, 1, 1, 1, 1, 1, 1, 1, 1, 1, 1, 1, 1, 1, 0, 1, 1, 1, 1, 1, 0,\n",
       "       0, 1, 1, 1, 1, 1, 0, 0, 1, 1, 1, 0, 0, 1, 0, 1, 0], dtype=int64)"
      ]
     },
     "execution_count": 124,
     "metadata": {},
     "output_type": "execute_result"
    }
   ],
   "source": [
    "Y_predmod4 = model4.predict(X_test)\n",
    "Y_predmod4"
   ]
  },
  {
   "cell_type": "code",
   "execution_count": 125,
   "id": "761cd414",
   "metadata": {},
   "outputs": [
    {
     "data": {
      "text/plain": [
       "array([1, 1, 1, 1, 0, 1, 0, 1, 1, 1, 1, 1, 1, 1, 1, 0, 1, 1, 1, 1, 1, 0,\n",
       "       0, 1, 1, 1, 1, 1, 0, 0, 1, 1, 1, 0, 0, 1, 0, 1, 0], dtype=int64)"
      ]
     },
     "execution_count": 125,
     "metadata": {},
     "output_type": "execute_result"
    }
   ],
   "source": [
    "Y_test"
   ]
  },
  {
   "cell_type": "code",
   "execution_count": 126,
   "id": "d6d2433b",
   "metadata": {},
   "outputs": [
    {
     "name": "stdout",
     "output_type": "stream",
     "text": [
      "Y_Pred          Y_test\n",
      "1               1\n",
      "1               1\n",
      "1               1\n",
      "1               1\n",
      "1               0\n",
      "1               1\n",
      "1               0\n",
      "1               1\n",
      "1               1\n",
      "1               1\n",
      "1               1\n",
      "1               1\n",
      "1               1\n",
      "1               1\n",
      "1               1\n",
      "0               0\n",
      "1               1\n",
      "1               1\n",
      "1               1\n",
      "1               1\n",
      "1               1\n",
      "0               0\n",
      "0               0\n",
      "1               1\n",
      "1               1\n",
      "1               1\n",
      "1               1\n",
      "1               1\n",
      "0               0\n",
      "0               0\n",
      "1               1\n",
      "1               1\n",
      "1               1\n",
      "0               0\n",
      "0               0\n",
      "1               1\n",
      "0               0\n",
      "1               1\n",
      "0               0\n"
     ]
    }
   ],
   "source": [
    "print('Y_Pred          Y_test')\n",
    "for i,j in zip(Y_predmod4,Y_test):\n",
    "    print(i,\"             \",j)"
   ]
  },
  {
   "cell_type": "code",
   "execution_count": 127,
   "id": "0fd06660",
   "metadata": {},
   "outputs": [
    {
     "name": "stdout",
     "output_type": "stream",
     "text": [
      "Support Vector Machine Accuracy : \n"
     ]
    },
    {
     "data": {
      "text/plain": [
       "0.9487179487179487"
      ]
     },
     "execution_count": 127,
     "metadata": {},
     "output_type": "execute_result"
    }
   ],
   "source": [
    "print(\"Support Vector Machine Accuracy : \")\n",
    "model4.score(X_test,Y_test)"
   ]
  },
  {
   "cell_type": "code",
   "execution_count": 128,
   "id": "6e3fba66",
   "metadata": {},
   "outputs": [
    {
     "data": {
      "text/plain": [
       "Text(270.0, 0.5, 'Truth')"
      ]
     },
     "execution_count": 128,
     "metadata": {},
     "output_type": "execute_result"
    },
    {
     "data": {
      "image/png": "[encoded data removed]",
      "text/plain": [
       "<Figure size 576x432 with 2 Axes>"
      ]
     },
     "metadata": {},
     "output_type": "display_data"
    }
   ],
   "source": [
    "# Confusion Matrix\n",
    "from sklearn.metrics import confusion_matrix\n",
    "import matplotlib.pyplot as plt\n",
    "import seaborn as sn                               #to make heat map\n",
    "\n",
    "\n",
    "cm = confusion_matrix(Y_test,Y_predmod4)\n",
    "plt.figure(figsize=(8,6))\n",
    "fg = sn.heatmap(cm, annot=True,cmap=\"YlGnBu\")\n",
    "figure =fg.get_figure()\n",
    "figure.savefig('SVM.jpg',dpi=400)\n",
    "plt.xlabel(\"Predicted\")\n",
    "plt.ylabel('Truth')\n",
    "\n",
    "\n",
    "# از بین 39 مورد تست شده:\n",
    "#نه نفر واقعا سالم هستن و ماشین هم پیش بینی کرده واقعا سالمن\n",
    "# صفر نفر واقعا بیماره ولی ماشین اشتباها پیش بینی کرده که سالم\n",
    "# دو نفر واقعا سالمن اما ماشین اشتباها پیش بینی کرده که بیمارن\n",
    "# بیست و هشت نفر واقعا بیمارن و ماشین به درستی پیش بینی کرده که بیمارن\n",
    "# درایه های روی قطر به درستی پیش بینی شده اند\n",
    "\n",
    "# N: healthy       P: parkinson\n",
    "\n",
    "# [TN   FP]\n",
    "# [FN   TP]"
   ]
  },
  {
   "cell_type": "code",
   "execution_count": 129,
   "id": "2e4ec44b",
   "metadata": {},
   "outputs": [
    {
     "name": "stdout",
     "output_type": "stream",
     "text": [
      "confusion_matrix\n",
      "[[ 9  2]\n",
      " [ 0 28]]\n",
      "\n",
      "accuracy: 0.9487179487179487\n",
      "\n",
      "recall: [0.81818182 1.        ]\n",
      "\n",
      "precision: [1.         0.93333333]\n"
     ]
    }
   ],
   "source": [
    "from sklearn.metrics import confusion_matrix, accuracy_score, recall_score, precision_score\n",
    "print (\"confusion_matrix\")\n",
    "print(confusion_matrix(Y_test,Y_predmod4))\n",
    "print(\"\\naccuracy:\",accuracy_score(Y_test,Y_predmod4))\n",
    "print(\"\\nrecall:\",recall_score(Y_test,Y_predmod4, average = None))\n",
    "print(\"\\nprecision:\",precision_score(Y_test,Y_predmod4, average = None))"
   ]
  },
  {
   "cell_type": "markdown",
   "id": "8c7eebb2",
   "metadata": {},
   "source": [
    "## Random Forrest Classifier"
   ]
  },
  {
   "cell_type": "code",
   "execution_count": 130,
   "id": "a9c4cf25",
   "metadata": {},
   "outputs": [],
   "source": [
    "from sklearn.ensemble import RandomForestClassifier\n",
    "\n",
    "model5 = RandomForestClassifier()"
   ]
  },
  {
   "cell_type": "code",
   "execution_count": 131,
   "id": "62f6bdcb",
   "metadata": {},
   "outputs": [
    {
     "data": {
      "text/plain": [
       "RandomForestClassifier()"
      ]
     },
     "execution_count": 131,
     "metadata": {},
     "output_type": "execute_result"
    }
   ],
   "source": [
    "model5.fit(X_train,Y_train)"
   ]
  },
  {
   "cell_type": "code",
   "execution_count": 132,
   "id": "ffe763bd",
   "metadata": {},
   "outputs": [
    {
     "data": {
      "text/plain": [
       "array([1, 1, 1, 1, 0, 1, 1, 1, 1, 1, 0, 1, 1, 1, 1, 0, 1, 1, 1, 1, 1, 0,\n",
       "       0, 1, 1, 1, 1, 1, 0, 0, 1, 1, 1, 0, 0, 1, 0, 1, 0], dtype=int64)"
      ]
     },
     "execution_count": 132,
     "metadata": {},
     "output_type": "execute_result"
    }
   ],
   "source": [
    "Y_predmod5 = model5.predict(X_test)\n",
    "Y_predmod5"
   ]
  },
  {
   "cell_type": "code",
   "execution_count": 133,
   "id": "8169b930",
   "metadata": {},
   "outputs": [
    {
     "data": {
      "text/plain": [
       "array([1, 1, 1, 1, 0, 1, 0, 1, 1, 1, 1, 1, 1, 1, 1, 0, 1, 1, 1, 1, 1, 0,\n",
       "       0, 1, 1, 1, 1, 1, 0, 0, 1, 1, 1, 0, 0, 1, 0, 1, 0], dtype=int64)"
      ]
     },
     "execution_count": 133,
     "metadata": {},
     "output_type": "execute_result"
    }
   ],
   "source": [
    "Y_test"
   ]
  },
  {
   "cell_type": "code",
   "execution_count": 134,
   "id": "c152493b",
   "metadata": {},
   "outputs": [
    {
     "name": "stdout",
     "output_type": "stream",
     "text": [
      "Y_Pred          Y_test\n",
      "1               1\n",
      "1               1\n",
      "1               1\n",
      "1               1\n",
      "0               0\n",
      "1               1\n",
      "1               0\n",
      "1               1\n",
      "1               1\n",
      "1               1\n",
      "0               1\n",
      "1               1\n",
      "1               1\n",
      "1               1\n",
      "1               1\n",
      "0               0\n",
      "1               1\n",
      "1               1\n",
      "1               1\n",
      "1               1\n",
      "1               1\n",
      "0               0\n",
      "0               0\n",
      "1               1\n",
      "1               1\n",
      "1               1\n",
      "1               1\n",
      "1               1\n",
      "0               0\n",
      "0               0\n",
      "1               1\n",
      "1               1\n",
      "1               1\n",
      "0               0\n",
      "0               0\n",
      "1               1\n",
      "0               0\n",
      "1               1\n",
      "0               0\n"
     ]
    }
   ],
   "source": [
    "print('Y_Pred          Y_test')\n",
    "for i,j in zip(Y_predmod5,Y_test):\n",
    "    print(i,\"             \",j)"
   ]
  },
  {
   "cell_type": "code",
   "execution_count": 135,
   "id": "aff3983a",
   "metadata": {},
   "outputs": [
    {
     "name": "stdout",
     "output_type": "stream",
     "text": [
      "Random Forrest Accuracy : \n"
     ]
    },
    {
     "data": {
      "text/plain": [
       "0.9487179487179487"
      ]
     },
     "execution_count": 135,
     "metadata": {},
     "output_type": "execute_result"
    }
   ],
   "source": [
    "print(\"Random Forrest Accuracy : \")\n",
    "model5.score(X_test,Y_test)"
   ]
  },
  {
   "cell_type": "code",
   "execution_count": 138,
   "id": "65218ebf",
   "metadata": {},
   "outputs": [
    {
     "data": {
      "text/plain": [
       "Text(270.0, 0.5, 'Truth')"
      ]
     },
     "execution_count": 138,
     "metadata": {},
     "output_type": "execute_result"
    },
    {
     "data": {
      "image/png": "[encoded data removed]",
      "text/plain": [
       "<Figure size 576x432 with 2 Axes>"
      ]
     },
     "metadata": {},
     "output_type": "display_data"
    }
   ],
   "source": [
    "# Confusion Matrix\n",
    "from sklearn.metrics import confusion_matrix\n",
    "import matplotlib.pyplot as plt\n",
    "\n",
    "\n",
    "cm = confusion_matrix(Y_test,Y_predmod5)\n",
    "import seaborn as sn                               #to made heat map\n",
    "plt.figure(figsize=(8,6))\n",
    "fg = sn.heatmap(cm, annot=True,cmap=\"Greens\")\n",
    "figure =fg.get_figure()\n",
    "figure.savefig('Random_Forrest.jpg',dpi=400)\n",
    "plt.xlabel(\"Predicted\")\n",
    "plt.ylabel('Truth')\n",
    "\n",
    "\n",
    "# از بین 39 مورد تست شده:\n",
    "# ده نفر واقعا سالم هستن و ماشین هم پیش بینی کرده واقعا سالمن\n",
    "# یک نفر واقعا بیماره ولی ماشین اشتباها پیش بینی کرده که سالم\n",
    "# یک نفر واقعا سالمن اما ماشین اشتباها پیش بینی کرده که بیمارن\n",
    "# بیست و هفت نفر واقعا بیمارن و ماشین به درستی پیش بینی کرده که بیمارن\n",
    "# درایه های روی قطر به درستی پیش بینی شده اند\n",
    "\n",
    "# N: healthy       P: parkinson\n",
    "\n",
    "# [TN   FP]\n",
    "# [FN   TP]"
   ]
  },
  {
   "cell_type": "code",
   "execution_count": 139,
   "id": "575a30c8",
   "metadata": {},
   "outputs": [
    {
     "name": "stdout",
     "output_type": "stream",
     "text": [
      "confusion_matrix\n",
      "[[10  1]\n",
      " [ 1 27]]\n",
      "\n",
      "accuracy: 0.9487179487179487\n",
      "\n",
      "recall: [0.90909091 0.96428571]\n",
      "\n",
      "precision: [0.90909091 0.96428571]\n"
     ]
    }
   ],
   "source": [
    "from sklearn.metrics import confusion_matrix, accuracy_score, recall_score, precision_score\n",
    "print (\"confusion_matrix\")\n",
    "print(confusion_matrix(Y_test,Y_predmod5))\n",
    "print(\"\\naccuracy:\",accuracy_score(Y_test,Y_predmod5))\n",
    "print(\"\\nrecall:\",recall_score(Y_test,Y_predmod5, average = None))\n",
    "print(\"\\nprecision:\",precision_score(Y_test,Y_predmod5, average = None))"
   ]
  },
  {
   "cell_type": "markdown",
   "id": "0e2061c0",
   "metadata": {},
   "source": [
    "## Extreme Gradient Boosting Model"
   ]
  },
  {
   "cell_type": "code",
   "execution_count": 140,
   "id": "f01982fd",
   "metadata": {},
   "outputs": [],
   "source": [
    "from xgboost import XGBClassifier\n",
    "\n",
    "model6 = XGBClassifier()"
   ]
  },
  {
   "cell_type": "code",
   "execution_count": 141,
   "id": "26b0d51e",
   "metadata": {},
   "outputs": [
    {
     "name": "stdout",
     "output_type": "stream",
     "text": [
      "[09:41:22] WARNING: C:/Users/Administrator/workspace/xgboost-win64_release_1.5.1/src/learner.cc:1115: Starting in XGBoost 1.3.0, the default evaluation metric used with the objective 'binary:logistic' was changed from 'error' to 'logloss'. Explicitly set eval_metric if you'd like to restore the old behavior.\n"
     ]
    },
    {
     "name": "stderr",
     "output_type": "stream",
     "text": [
      "C:\\Users\\Njm\\AppData\\Roaming\\Python\\Python39\\site-packages\\xgboost\\sklearn.py:1224: UserWarning: The use of label encoder in XGBClassifier is deprecated and will be removed in a future release. To remove this warning, do the following: 1) Pass option use_label_encoder=False when constructing XGBClassifier object; and 2) Encode your labels (y) as integers starting with 0, i.e. 0, 1, 2, ..., [num_class - 1].\n",
      "  warnings.warn(label_encoder_deprecation_msg, UserWarning)\n"
     ]
    },
    {
     "data": {
      "text/plain": [
       "XGBClassifier(base_score=0.5, booster='gbtree', colsample_bylevel=1,\n",
       "              colsample_bynode=1, colsample_bytree=1, enable_categorical=False,\n",
       "              gamma=0, gpu_id=-1, importance_type=None,\n",
       "              interaction_constraints='', learning_rate=0.300000012,\n",
       "              max_delta_step=0, max_depth=6, min_child_weight=1, missing=nan,\n",
       "              monotone_constraints='()', n_estimators=100, n_jobs=2,\n",
       "              num_parallel_tree=1, predictor='auto', random_state=0,\n",
       "              reg_alpha=0, reg_lambda=1, scale_pos_weight=1, subsample=1,\n",
       "              tree_method='exact', validate_parameters=1, verbosity=None)"
      ]
     },
     "execution_count": 141,
     "metadata": {},
     "output_type": "execute_result"
    }
   ],
   "source": [
    "model6.fit(X_train,Y_train)"
   ]
  },
  {
   "cell_type": "code",
   "execution_count": 142,
   "id": "fecb7503",
   "metadata": {},
   "outputs": [
    {
     "data": {
      "text/plain": [
       "array([1, 1, 1, 1, 0, 1, 0, 1, 1, 1, 1, 1, 1, 1, 1, 0, 1, 1, 1, 1, 1, 0,\n",
       "       0, 1, 1, 1, 1, 1, 0, 0, 1, 1, 1, 0, 0, 1, 0, 1, 0], dtype=int64)"
      ]
     },
     "execution_count": 142,
     "metadata": {},
     "output_type": "execute_result"
    }
   ],
   "source": [
    "Y_predmod6 = model6.predict(X_test)\n",
    "Y_predmod6"
   ]
  },
  {
   "cell_type": "code",
   "execution_count": 143,
   "id": "4ec40a36",
   "metadata": {},
   "outputs": [
    {
     "data": {
      "text/plain": [
       "array([1, 1, 1, 1, 0, 1, 0, 1, 1, 1, 1, 1, 1, 1, 1, 0, 1, 1, 1, 1, 1, 0,\n",
       "       0, 1, 1, 1, 1, 1, 0, 0, 1, 1, 1, 0, 0, 1, 0, 1, 0], dtype=int64)"
      ]
     },
     "execution_count": 143,
     "metadata": {},
     "output_type": "execute_result"
    }
   ],
   "source": [
    "Y_test"
   ]
  },
  {
   "cell_type": "code",
   "execution_count": 144,
   "id": "ace55a46",
   "metadata": {},
   "outputs": [
    {
     "name": "stdout",
     "output_type": "stream",
     "text": [
      "Y_Pred          Y_test\n",
      "1               1\n",
      "1               1\n",
      "1               1\n",
      "1               1\n",
      "0               0\n",
      "1               1\n",
      "0               0\n",
      "1               1\n",
      "1               1\n",
      "1               1\n",
      "1               1\n",
      "1               1\n",
      "1               1\n",
      "1               1\n",
      "1               1\n",
      "0               0\n",
      "1               1\n",
      "1               1\n",
      "1               1\n",
      "1               1\n",
      "1               1\n",
      "0               0\n",
      "0               0\n",
      "1               1\n",
      "1               1\n",
      "1               1\n",
      "1               1\n",
      "1               1\n",
      "0               0\n",
      "0               0\n",
      "1               1\n",
      "1               1\n",
      "1               1\n",
      "0               0\n",
      "0               0\n",
      "1               1\n",
      "0               0\n",
      "1               1\n",
      "0               0\n"
     ]
    }
   ],
   "source": [
    "print('Y_Pred          Y_test')\n",
    "for i,j in zip(Y_predmod6,Y_test):\n",
    "    print(i,\"             \",j)"
   ]
  },
  {
   "cell_type": "code",
   "execution_count": 145,
   "id": "24cb5a76",
   "metadata": {},
   "outputs": [
    {
     "name": "stdout",
     "output_type": "stream",
     "text": [
      "Extreme Gradient Boosting Accuracy : \n"
     ]
    },
    {
     "data": {
      "text/plain": [
       "1.0"
      ]
     },
     "execution_count": 145,
     "metadata": {},
     "output_type": "execute_result"
    }
   ],
   "source": [
    "print(\"Extreme Gradient Boosting Accuracy : \")\n",
    "model6.score(X_test,Y_test)"
   ]
  },
  {
   "cell_type": "code",
   "execution_count": 147,
   "id": "d5b6ff3c",
   "metadata": {},
   "outputs": [
    {
     "data": {
      "text/plain": [
       "Text(270.0, 0.5, 'Truth')"
      ]
     },
     "execution_count": 147,
     "metadata": {},
     "output_type": "execute_result"
    },
    {
     "data": {
      "image/png": "[encoded data removed]",
      "text/plain": [
       "<Figure size 576x432 with 2 Axes>"
      ]
     },
     "metadata": {},
     "output_type": "display_data"
    }
   ],
   "source": [
    "# Confusion Matrix\n",
    "from sklearn.metrics import confusion_matrix\n",
    "import matplotlib.pyplot as plt\n",
    "import seaborn as sn                               #to make heat map\n",
    "\n",
    "\n",
    "cm = confusion_matrix(Y_test,Y_predmod6)\n",
    "plt.figure(figsize=(8,6))\n",
    "fg = sn.heatmap(cm, annot=True,cmap=\"BuPu\")\n",
    "figure =fg.get_figure()\n",
    "figure.savefig('XGB_Classifier.jpg',dpi=400)\n",
    "plt.xlabel(\"Predicted\")\n",
    "plt.ylabel('Truth')\n",
    "\n",
    "\n",
    "# از بین 39 مورد تست شده:\n",
    "# یازده نفر واقعا سالم هستن و ماشین هم پیش بینی کرده واقعا سالمن\n",
    "# صفر نفر واقعا بیماره ولی ماشین اشتباها پیش بینی کرده که سالم\n",
    "# صفر نفر واقعا سالمن اما ماشین اشتباها پیش بینی کرده که بیمارن\n",
    "# بیست و هشت نفر واقعا بیمارن و ماشین به درستی پیش بینی کرده که بیمارن\n",
    "# درایه های روی قطر به درستی پیش بینی شده اند\n",
    "\n",
    "# N: healthy       P: parkinson\n",
    "\n",
    "# [TN   FP]\n",
    "# [FN   TP]"
   ]
  },
  {
   "cell_type": "code",
   "execution_count": 148,
   "id": "f5e4f4ea",
   "metadata": {},
   "outputs": [
    {
     "name": "stdout",
     "output_type": "stream",
     "text": [
      "confusion_matrix\n",
      "[[11  0]\n",
      " [ 0 28]]\n",
      "\n",
      "accuracy: 1.0\n",
      "\n",
      "recall: [1. 1.]\n",
      "\n",
      "precision: [1. 1.]\n"
     ]
    }
   ],
   "source": [
    "from sklearn.metrics import confusion_matrix, accuracy_score, recall_score, precision_score\n",
    "print (\"confusion_matrix\")\n",
    "print(confusion_matrix(Y_test,Y_predmod6))\n",
    "print(\"\\naccuracy:\",accuracy_score(Y_test,Y_predmod6))\n",
    "print(\"\\nrecall:\",recall_score(Y_test,Y_predmod6, average = None))\n",
    "print(\"\\nprecision:\",precision_score(Y_test,Y_predmod6, average = None))"
   ]
  },
  {
   "cell_type": "markdown",
   "id": "eeed2b65",
   "metadata": {},
   "source": [
    "# Neural Network Model"
   ]
  },
  {
   "cell_type": "code",
   "execution_count": 161,
   "id": "e3719801",
   "metadata": {},
   "outputs": [],
   "source": [
    "import tensorflow\n",
    "import keras\n",
    "from keras.layers import Dense"
   ]
  },
  {
   "cell_type": "code",
   "execution_count": 162,
   "id": "c0449552",
   "metadata": {},
   "outputs": [
    {
     "name": "stdout",
     "output_type": "stream",
     "text": [
      "Epoch 1/300\n",
      "5/5 [==============================] - 1s 3ms/step - loss: 0.6133 - accuracy: 0.7628\n",
      "Epoch 2/300\n",
      "5/5 [==============================] - 0s 7ms/step - loss: 0.6077 - accuracy: 0.7628\n",
      "Epoch 3/300\n",
      "5/5 [==============================] - 0s 3ms/step - loss: 0.6023 - accuracy: 0.7628\n",
      "Epoch 4/300\n",
      "5/5 [==============================] - 0s 4ms/step - loss: 0.5965 - accuracy: 0.7628\n",
      "Epoch 5/300\n",
      "5/5 [==============================] - 0s 3ms/step - loss: 0.5916 - accuracy: 0.7628\n",
      "Epoch 6/300\n",
      "5/5 [==============================] - 0s 5ms/step - loss: 0.5877 - accuracy: 0.7628\n",
      "Epoch 7/300\n",
      "5/5 [==============================] - 0s 3ms/step - loss: 0.5835 - accuracy: 0.7628\n",
      "Epoch 8/300\n",
      "5/5 [==============================] - 0s 3ms/step - loss: 0.5797 - accuracy: 0.7628\n",
      "Epoch 9/300\n",
      "5/5 [==============================] - 0s 3ms/step - loss: 0.5762 - accuracy: 0.7628\n",
      "Epoch 10/300\n",
      "5/5 [==============================] - 0s 2ms/step - loss: 0.5736 - accuracy: 0.7628\n",
      "Epoch 11/300\n",
      "5/5 [==============================] - 0s 3ms/step - loss: 0.5707 - accuracy: 0.7628\n",
      "Epoch 12/300\n",
      "5/5 [==============================] - 0s 3ms/step - loss: 0.5687 - accuracy: 0.7628\n",
      "Epoch 13/300\n",
      "5/5 [==============================] - 0s 3ms/step - loss: 0.5663 - accuracy: 0.7628\n",
      "Epoch 14/300\n",
      "5/5 [==============================] - 0s 6ms/step - loss: 0.5642 - accuracy: 0.7628\n",
      "Epoch 15/300\n",
      "5/5 [==============================] - 0s 2ms/step - loss: 0.5628 - accuracy: 0.7628\n",
      "Epoch 16/300\n",
      "5/5 [==============================] - 0s 3ms/step - loss: 0.5607 - accuracy: 0.7628\n",
      "Epoch 17/300\n",
      "5/5 [==============================] - 0s 3ms/step - loss: 0.5594 - accuracy: 0.7628\n",
      "Epoch 18/300\n",
      "5/5 [==============================] - 0s 3ms/step - loss: 0.5583 - accuracy: 0.7628\n",
      "Epoch 19/300\n",
      "5/5 [==============================] - 0s 4ms/step - loss: 0.5569 - accuracy: 0.7628\n",
      "Epoch 20/300\n",
      "5/5 [==============================] - 0s 3ms/step - loss: 0.5561 - accuracy: 0.7628\n",
      "Epoch 21/300\n",
      "5/5 [==============================] - 0s 3ms/step - loss: 0.5549 - accuracy: 0.7628\n",
      "Epoch 22/300\n",
      "5/5 [==============================] - 0s 2ms/step - loss: 0.5544 - accuracy: 0.7628\n",
      "Epoch 23/300\n",
      "5/5 [==============================] - 0s 3ms/step - loss: 0.5534 - accuracy: 0.7628\n",
      "Epoch 24/300\n",
      "5/5 [==============================] - 0s 5ms/step - loss: 0.5528 - accuracy: 0.7628\n",
      "Epoch 25/300\n",
      "5/5 [==============================] - 0s 3ms/step - loss: 0.5521 - accuracy: 0.7628\n",
      "Epoch 26/300\n",
      "5/5 [==============================] - 0s 3ms/step - loss: 0.5515 - accuracy: 0.7628\n",
      "Epoch 27/300\n",
      "5/5 [==============================] - 0s 3ms/step - loss: 0.5512 - accuracy: 0.7628\n",
      "Epoch 28/300\n",
      "5/5 [==============================] - 0s 3ms/step - loss: 0.5506 - accuracy: 0.7628\n",
      "Epoch 29/300\n",
      "5/5 [==============================] - 0s 2ms/step - loss: 0.5502 - accuracy: 0.7628\n",
      "Epoch 30/300\n",
      "5/5 [==============================] - 0s 2ms/step - loss: 0.5501 - accuracy: 0.7628\n",
      "Epoch 31/300\n",
      "5/5 [==============================] - 0s 3ms/step - loss: 0.5497 - accuracy: 0.7628\n",
      "Epoch 32/300\n",
      "5/5 [==============================] - 0s 5ms/step - loss: 0.5496 - accuracy: 0.7628\n",
      "Epoch 33/300\n",
      "5/5 [==============================] - 0s 2ms/step - loss: 0.5491 - accuracy: 0.7628\n",
      "Epoch 34/300\n",
      "5/5 [==============================] - 0s 3ms/step - loss: 0.5490 - accuracy: 0.7628\n",
      "Epoch 35/300\n",
      "5/5 [==============================] - 0s 3ms/step - loss: 0.5488 - accuracy: 0.7628\n",
      "Epoch 36/300\n",
      "5/5 [==============================] - 0s 3ms/step - loss: 0.5487 - accuracy: 0.7628\n",
      "Epoch 37/300\n",
      "5/5 [==============================] - 0s 4ms/step - loss: 0.5486 - accuracy: 0.7628\n",
      "Epoch 38/300\n",
      "5/5 [==============================] - ETA: 0s - loss: 0.4948 - accuracy: 0.81 - 0s 3ms/step - loss: 0.5484 - accuracy: 0.7628\n",
      "Epoch 39/300\n",
      "5/5 [==============================] - 0s 2ms/step - loss: 0.5483 - accuracy: 0.7628\n",
      "Epoch 40/300\n",
      "5/5 [==============================] - 0s 3ms/step - loss: 0.5482 - accuracy: 0.7628\n",
      "Epoch 41/300\n",
      "5/5 [==============================] - 0s 2ms/step - loss: 0.5481 - accuracy: 0.7628\n",
      "Epoch 42/300\n",
      "5/5 [==============================] - 0s 3ms/step - loss: 0.5480 - accuracy: 0.7628\n",
      "Epoch 43/300\n",
      "5/5 [==============================] - 0s 2ms/step - loss: 0.5480 - accuracy: 0.7628\n",
      "Epoch 44/300\n",
      "5/5 [==============================] - 0s 10ms/step - loss: 0.5480 - accuracy: 0.7628\n",
      "Epoch 45/300\n",
      "5/5 [==============================] - 0s 3ms/step - loss: 0.5479 - accuracy: 0.7628\n",
      "Epoch 46/300\n",
      "5/5 [==============================] - 0s 2ms/step - loss: 0.5479 - accuracy: 0.7628\n",
      "Epoch 47/300\n",
      "5/5 [==============================] - 0s 3ms/step - loss: 0.5478 - accuracy: 0.7628\n",
      "Epoch 48/300\n",
      "5/5 [==============================] - 0s 3ms/step - loss: 0.5478 - accuracy: 0.7628\n",
      "Epoch 49/300\n",
      "5/5 [==============================] - 0s 3ms/step - loss: 0.5478 - accuracy: 0.7628\n",
      "Epoch 50/300\n",
      "5/5 [==============================] - 0s 3ms/step - loss: 0.5477 - accuracy: 0.7628\n",
      "Epoch 51/300\n",
      "5/5 [==============================] - 0s 3ms/step - loss: 0.5477 - accuracy: 0.7628\n",
      "Epoch 52/300\n",
      "5/5 [==============================] - 0s 3ms/step - loss: 0.5477 - accuracy: 0.7628\n",
      "Epoch 53/300\n",
      "5/5 [==============================] - 0s 4ms/step - loss: 0.5477 - accuracy: 0.7628\n",
      "Epoch 54/300\n",
      "5/5 [==============================] - ETA: 0s - loss: 0.5266 - accuracy: 0.78 - 0s 3ms/step - loss: 0.5476 - accuracy: 0.7628\n",
      "Epoch 55/300\n",
      "5/5 [==============================] - 0s 3ms/step - loss: 0.5477 - accuracy: 0.7628\n",
      "Epoch 56/300\n",
      "5/5 [==============================] - 0s 3ms/step - loss: 0.5476 - accuracy: 0.7628\n",
      "Epoch 57/300\n",
      "5/5 [==============================] - 0s 3ms/step - loss: 0.5476 - accuracy: 0.7628\n",
      "Epoch 58/300\n",
      "5/5 [==============================] - 0s 3ms/step - loss: 0.5476 - accuracy: 0.7628\n",
      "Epoch 59/300\n",
      "5/5 [==============================] - 0s 3ms/step - loss: 0.5477 - accuracy: 0.7628\n",
      "Epoch 60/300\n",
      "5/5 [==============================] - 0s 3ms/step - loss: 0.5476 - accuracy: 0.7628\n",
      "Epoch 61/300\n",
      "5/5 [==============================] - 0s 3ms/step - loss: 0.5476 - accuracy: 0.7628\n",
      "Epoch 62/300\n",
      "5/5 [==============================] - 0s 3ms/step - loss: 0.5476 - accuracy: 0.7628\n",
      "Epoch 63/300\n",
      "5/5 [==============================] - 0s 2ms/step - loss: 0.5476 - accuracy: 0.7628\n",
      "Epoch 64/300\n",
      "5/5 [==============================] - 0s 3ms/step - loss: 0.5475 - accuracy: 0.7628\n",
      "Epoch 65/300\n",
      "5/5 [==============================] - 0s 3ms/step - loss: 0.5475 - accuracy: 0.7628\n",
      "Epoch 66/300\n",
      "5/5 [==============================] - 0s 3ms/step - loss: 0.5475 - accuracy: 0.7628\n",
      "Epoch 67/300\n",
      "5/5 [==============================] - 0s 3ms/step - loss: 0.5475 - accuracy: 0.7628\n",
      "Epoch 68/300\n",
      "5/5 [==============================] - 0s 3ms/step - loss: 0.5475 - accuracy: 0.7628\n",
      "Epoch 69/300\n",
      "5/5 [==============================] - 0s 2ms/step - loss: 0.5475 - accuracy: 0.7628\n",
      "Epoch 70/300\n",
      "5/5 [==============================] - 0s 3ms/step - loss: 0.5475 - accuracy: 0.7628\n",
      "Epoch 71/300\n",
      "5/5 [==============================] - 0s 3ms/step - loss: 0.5475 - accuracy: 0.7628\n",
      "Epoch 72/300\n",
      "5/5 [==============================] - 0s 3ms/step - loss: 0.5474 - accuracy: 0.7628\n",
      "Epoch 73/300\n",
      "5/5 [==============================] - 0s 3ms/step - loss: 0.5474 - accuracy: 0.7628\n",
      "Epoch 74/300\n",
      "5/5 [==============================] - 0s 5ms/step - loss: 0.5475 - accuracy: 0.7628\n",
      "Epoch 75/300\n",
      "5/5 [==============================] - 0s 3ms/step - loss: 0.5474 - accuracy: 0.7628\n",
      "Epoch 76/300\n",
      "5/5 [==============================] - 0s 2ms/step - loss: 0.5474 - accuracy: 0.7628\n",
      "Epoch 77/300\n",
      "5/5 [==============================] - 0s 3ms/step - loss: 0.5474 - accuracy: 0.7628\n",
      "Epoch 78/300\n",
      "5/5 [==============================] - 0s 3ms/step - loss: 0.5474 - accuracy: 0.7628\n",
      "Epoch 79/300\n",
      "5/5 [==============================] - 0s 4ms/step - loss: 0.5474 - accuracy: 0.7628\n",
      "Epoch 80/300\n",
      "5/5 [==============================] - 0s 3ms/step - loss: 0.5474 - accuracy: 0.7628\n",
      "Epoch 81/300\n",
      "5/5 [==============================] - 0s 3ms/step - loss: 0.5475 - accuracy: 0.7628\n",
      "Epoch 82/300\n",
      "5/5 [==============================] - 0s 3ms/step - loss: 0.5473 - accuracy: 0.7628\n",
      "Epoch 83/300\n",
      "5/5 [==============================] - 0s 3ms/step - loss: 0.5473 - accuracy: 0.7628\n",
      "Epoch 84/300\n",
      "5/5 [==============================] - 0s 3ms/step - loss: 0.5473 - accuracy: 0.7628\n",
      "Epoch 85/300\n",
      "5/5 [==============================] - 0s 3ms/step - loss: 0.5473 - accuracy: 0.7628\n",
      "Epoch 86/300\n",
      "5/5 [==============================] - 0s 3ms/step - loss: 0.5473 - accuracy: 0.7628\n",
      "Epoch 87/300\n",
      "5/5 [==============================] - 0s 2ms/step - loss: 0.5473 - accuracy: 0.7628\n",
      "Epoch 88/300\n",
      "5/5 [==============================] - 0s 3ms/step - loss: 0.5473 - accuracy: 0.7628\n",
      "Epoch 89/300\n",
      "5/5 [==============================] - 0s 3ms/step - loss: 0.5472 - accuracy: 0.7628\n",
      "Epoch 90/300\n",
      "5/5 [==============================] - 0s 3ms/step - loss: 0.5473 - accuracy: 0.7628\n",
      "Epoch 91/300\n",
      "5/5 [==============================] - 0s 3ms/step - loss: 0.5472 - accuracy: 0.7628\n",
      "Epoch 92/300\n",
      "5/5 [==============================] - 0s 4ms/step - loss: 0.5472 - accuracy: 0.7628\n",
      "Epoch 93/300\n",
      "5/5 [==============================] - 0s 4ms/step - loss: 0.5472 - accuracy: 0.7628\n",
      "Epoch 94/300\n",
      "5/5 [==============================] - 0s 3ms/step - loss: 0.5471 - accuracy: 0.7628\n",
      "Epoch 95/300\n",
      "5/5 [==============================] - 0s 26ms/step - loss: 0.5471 - accuracy: 0.7628\n",
      "Epoch 96/300\n",
      "5/5 [==============================] - 0s 3ms/step - loss: 0.5471 - accuracy: 0.7628\n",
      "Epoch 97/300\n",
      "5/5 [==============================] - 0s 3ms/step - loss: 0.5471 - accuracy: 0.7628\n",
      "Epoch 98/300\n",
      "5/5 [==============================] - 0s 3ms/step - loss: 0.5471 - accuracy: 0.7628\n",
      "Epoch 99/300\n",
      "5/5 [==============================] - 0s 4ms/step - loss: 0.5470 - accuracy: 0.7628\n",
      "Epoch 100/300\n",
      "5/5 [==============================] - 0s 3ms/step - loss: 0.5470 - accuracy: 0.7628\n",
      "Epoch 101/300\n",
      "5/5 [==============================] - 0s 3ms/step - loss: 0.5470 - accuracy: 0.7628\n",
      "Epoch 102/300\n",
      "5/5 [==============================] - 0s 3ms/step - loss: 0.5470 - accuracy: 0.7628\n",
      "Epoch 103/300\n",
      "5/5 [==============================] - 0s 3ms/step - loss: 0.5469 - accuracy: 0.7628\n",
      "Epoch 104/300\n",
      "5/5 [==============================] - 0s 3ms/step - loss: 0.5469 - accuracy: 0.7628\n",
      "Epoch 105/300\n",
      "5/5 [==============================] - 0s 6ms/step - loss: 0.5469 - accuracy: 0.7628\n",
      "Epoch 106/300\n",
      "5/5 [==============================] - 0s 6ms/step - loss: 0.5468 - accuracy: 0.7628\n",
      "Epoch 107/300\n",
      "5/5 [==============================] - 0s 4ms/step - loss: 0.5468 - accuracy: 0.7628\n",
      "Epoch 108/300\n",
      "5/5 [==============================] - 0s 4ms/step - loss: 0.5468 - accuracy: 0.7628\n",
      "Epoch 109/300\n",
      "5/5 [==============================] - 0s 3ms/step - loss: 0.5467 - accuracy: 0.7628\n",
      "Epoch 110/300\n",
      "5/5 [==============================] - 0s 3ms/step - loss: 0.5467 - accuracy: 0.7628\n",
      "Epoch 111/300\n",
      "5/5 [==============================] - 0s 3ms/step - loss: 0.5466 - accuracy: 0.7628\n",
      "Epoch 112/300\n",
      "5/5 [==============================] - 0s 3ms/step - loss: 0.5467 - accuracy: 0.7628\n",
      "Epoch 113/300\n",
      "5/5 [==============================] - 0s 3ms/step - loss: 0.5466 - accuracy: 0.7628\n",
      "Epoch 114/300\n",
      "5/5 [==============================] - 0s 3ms/step - loss: 0.5466 - accuracy: 0.7628\n",
      "Epoch 115/300\n",
      "5/5 [==============================] - 0s 3ms/step - loss: 0.5466 - accuracy: 0.7628\n",
      "Epoch 116/300\n",
      "5/5 [==============================] - 0s 3ms/step - loss: 0.5464 - accuracy: 0.7628\n",
      "Epoch 117/300\n",
      "5/5 [==============================] - 0s 3ms/step - loss: 0.5465 - accuracy: 0.7628\n",
      "Epoch 118/300\n",
      "5/5 [==============================] - 0s 3ms/step - loss: 0.5463 - accuracy: 0.7628\n",
      "Epoch 119/300\n",
      "5/5 [==============================] - 0s 2ms/step - loss: 0.5463 - accuracy: 0.7628\n",
      "Epoch 120/300\n",
      "5/5 [==============================] - 0s 3ms/step - loss: 0.5462 - accuracy: 0.7628\n",
      "Epoch 121/300\n",
      "5/5 [==============================] - 0s 3ms/step - loss: 0.5461 - accuracy: 0.7628\n",
      "Epoch 122/300\n",
      "5/5 [==============================] - 0s 3ms/step - loss: 0.5460 - accuracy: 0.7628\n",
      "Epoch 123/300\n",
      "5/5 [==============================] - 0s 3ms/step - loss: 0.5460 - accuracy: 0.7628\n",
      "Epoch 124/300\n",
      "5/5 [==============================] - 0s 3ms/step - loss: 0.5459 - accuracy: 0.7628\n",
      "Epoch 125/300\n",
      "5/5 [==============================] - 0s 3ms/step - loss: 0.5458 - accuracy: 0.7628\n",
      "Epoch 126/300\n",
      "5/5 [==============================] - 0s 5ms/step - loss: 0.5457 - accuracy: 0.7628\n",
      "Epoch 127/300\n",
      "5/5 [==============================] - 0s 3ms/step - loss: 0.5456 - accuracy: 0.7628\n",
      "Epoch 128/300\n",
      "5/5 [==============================] - 0s 3ms/step - loss: 0.5455 - accuracy: 0.7628\n",
      "Epoch 129/300\n",
      "5/5 [==============================] - 0s 4ms/step - loss: 0.5455 - accuracy: 0.7628\n",
      "Epoch 130/300\n",
      "5/5 [==============================] - 0s 3ms/step - loss: 0.5453 - accuracy: 0.7628\n",
      "Epoch 131/300\n",
      "5/5 [==============================] - 0s 3ms/step - loss: 0.5452 - accuracy: 0.7628\n",
      "Epoch 132/300\n",
      "5/5 [==============================] - 0s 3ms/step - loss: 0.5451 - accuracy: 0.7628\n",
      "Epoch 133/300\n",
      "5/5 [==============================] - 0s 4ms/step - loss: 0.5450 - accuracy: 0.7628\n",
      "Epoch 134/300\n",
      "5/5 [==============================] - 0s 3ms/step - loss: 0.5448 - accuracy: 0.7628\n",
      "Epoch 135/300\n",
      "5/5 [==============================] - 0s 3ms/step - loss: 0.5447 - accuracy: 0.7628\n",
      "Epoch 136/300\n",
      "5/5 [==============================] - 0s 3ms/step - loss: 0.5445 - accuracy: 0.7628\n",
      "Epoch 137/300\n",
      "5/5 [==============================] - 0s 3ms/step - loss: 0.5444 - accuracy: 0.7628\n",
      "Epoch 138/300\n",
      "5/5 [==============================] - 0s 3ms/step - loss: 0.5442 - accuracy: 0.7628\n",
      "Epoch 139/300\n",
      "5/5 [==============================] - 0s 2ms/step - loss: 0.5440 - accuracy: 0.7628\n",
      "Epoch 140/300\n",
      "5/5 [==============================] - 0s 3ms/step - loss: 0.5438 - accuracy: 0.7628\n",
      "Epoch 141/300\n",
      "5/5 [==============================] - 0s 3ms/step - loss: 0.5435 - accuracy: 0.7628\n",
      "Epoch 142/300\n",
      "5/5 [==============================] - 0s 3ms/step - loss: 0.5434 - accuracy: 0.7628\n",
      "Epoch 143/300\n",
      "5/5 [==============================] - 0s 3ms/step - loss: 0.5431 - accuracy: 0.7628\n",
      "Epoch 144/300\n",
      "5/5 [==============================] - 0s 3ms/step - loss: 0.5429 - accuracy: 0.7628\n",
      "Epoch 145/300\n",
      "5/5 [==============================] - 0s 3ms/step - loss: 0.5425 - accuracy: 0.7628\n",
      "Epoch 146/300\n",
      "5/5 [==============================] - 0s 3ms/step - loss: 0.5422 - accuracy: 0.7628\n",
      "Epoch 147/300\n",
      "5/5 [==============================] - 0s 3ms/step - loss: 0.5420 - accuracy: 0.7628\n",
      "Epoch 148/300\n",
      "5/5 [==============================] - 0s 3ms/step - loss: 0.5416 - accuracy: 0.7628\n",
      "Epoch 149/300\n",
      "5/5 [==============================] - 0s 4ms/step - loss: 0.5412 - accuracy: 0.7628\n",
      "Epoch 150/300\n",
      "5/5 [==============================] - 0s 3ms/step - loss: 0.5408 - accuracy: 0.7628\n",
      "Epoch 151/300\n",
      "5/5 [==============================] - 0s 3ms/step - loss: 0.5404 - accuracy: 0.7628\n",
      "Epoch 152/300\n",
      "5/5 [==============================] - 0s 3ms/step - loss: 0.5401 - accuracy: 0.7628\n",
      "Epoch 153/300\n",
      "5/5 [==============================] - 0s 3ms/step - loss: 0.5395 - accuracy: 0.7628\n",
      "Epoch 154/300\n",
      "5/5 [==============================] - 0s 3ms/step - loss: 0.5391 - accuracy: 0.7628\n",
      "Epoch 155/300\n",
      "5/5 [==============================] - 0s 3ms/step - loss: 0.5385 - accuracy: 0.7628\n",
      "Epoch 156/300\n",
      "5/5 [==============================] - 0s 3ms/step - loss: 0.5379 - accuracy: 0.7628\n",
      "Epoch 157/300\n",
      "5/5 [==============================] - 0s 3ms/step - loss: 0.5374 - accuracy: 0.7628\n",
      "Epoch 158/300\n",
      "5/5 [==============================] - 0s 3ms/step - loss: 0.5368 - accuracy: 0.7628\n",
      "Epoch 159/300\n",
      "5/5 [==============================] - 0s 3ms/step - loss: 0.5362 - accuracy: 0.7628\n",
      "Epoch 160/300\n",
      "5/5 [==============================] - 0s 3ms/step - loss: 0.5354 - accuracy: 0.7628\n",
      "Epoch 161/300\n",
      "5/5 [==============================] - 0s 3ms/step - loss: 0.5347 - accuracy: 0.7628\n",
      "Epoch 162/300\n",
      "5/5 [==============================] - 0s 3ms/step - loss: 0.5340 - accuracy: 0.7628\n",
      "Epoch 163/300\n",
      "5/5 [==============================] - 0s 4ms/step - loss: 0.5332 - accuracy: 0.7628\n",
      "Epoch 164/300\n",
      "5/5 [==============================] - 0s 3ms/step - loss: 0.5324 - accuracy: 0.7628\n",
      "Epoch 165/300\n",
      "5/5 [==============================] - 0s 3ms/step - loss: 0.5315 - accuracy: 0.7628\n",
      "Epoch 166/300\n"
     ]
    },
    {
     "name": "stdout",
     "output_type": "stream",
     "text": [
      "5/5 [==============================] - 0s 3ms/step - loss: 0.5305 - accuracy: 0.7628\n",
      "Epoch 167/300\n",
      "5/5 [==============================] - 0s 3ms/step - loss: 0.5296 - accuracy: 0.7628\n",
      "Epoch 168/300\n",
      "5/5 [==============================] - 0s 3ms/step - loss: 0.5285 - accuracy: 0.7628\n",
      "Epoch 169/300\n",
      "5/5 [==============================] - 0s 3ms/step - loss: 0.5275 - accuracy: 0.7628\n",
      "Epoch 170/300\n",
      "5/5 [==============================] - 0s 3ms/step - loss: 0.5263 - accuracy: 0.7628\n",
      "Epoch 171/300\n",
      "5/5 [==============================] - 0s 3ms/step - loss: 0.5251 - accuracy: 0.7628\n",
      "Epoch 172/300\n",
      "5/5 [==============================] - 0s 5ms/step - loss: 0.5241 - accuracy: 0.7628\n",
      "Epoch 173/300\n",
      "5/5 [==============================] - 0s 3ms/step - loss: 0.5226 - accuracy: 0.7628\n",
      "Epoch 174/300\n",
      "5/5 [==============================] - 0s 4ms/step - loss: 0.5214 - accuracy: 0.7628\n",
      "Epoch 175/300\n",
      "5/5 [==============================] - 0s 3ms/step - loss: 0.5198 - accuracy: 0.7628\n",
      "Epoch 176/300\n",
      "5/5 [==============================] - 0s 3ms/step - loss: 0.5186 - accuracy: 0.7628\n",
      "Epoch 177/300\n",
      "5/5 [==============================] - 0s 4ms/step - loss: 0.5168 - accuracy: 0.7628\n",
      "Epoch 178/300\n",
      "5/5 [==============================] - 0s 3ms/step - loss: 0.5154 - accuracy: 0.7628\n",
      "Epoch 179/300\n",
      "5/5 [==============================] - 0s 3ms/step - loss: 0.5135 - accuracy: 0.7628\n",
      "Epoch 180/300\n",
      "5/5 [==============================] - 0s 4ms/step - loss: 0.5119 - accuracy: 0.7628\n",
      "Epoch 181/300\n",
      "5/5 [==============================] - 0s 3ms/step - loss: 0.5099 - accuracy: 0.7628\n",
      "Epoch 182/300\n",
      "5/5 [==============================] - 0s 3ms/step - loss: 0.5082 - accuracy: 0.7628\n",
      "Epoch 183/300\n",
      "5/5 [==============================] - 0s 3ms/step - loss: 0.5063 - accuracy: 0.7628\n",
      "Epoch 184/300\n",
      "5/5 [==============================] - 0s 3ms/step - loss: 0.5043 - accuracy: 0.7628\n",
      "Epoch 185/300\n",
      "5/5 [==============================] - 0s 3ms/step - loss: 0.5021 - accuracy: 0.7628\n",
      "Epoch 186/300\n",
      "5/5 [==============================] - 0s 3ms/step - loss: 0.5001 - accuracy: 0.7628\n",
      "Epoch 187/300\n",
      "5/5 [==============================] - 0s 4ms/step - loss: 0.4978 - accuracy: 0.7628\n",
      "Epoch 188/300\n",
      "5/5 [==============================] - 0s 3ms/step - loss: 0.4956 - accuracy: 0.7628\n",
      "Epoch 189/300\n",
      "5/5 [==============================] - 0s 4ms/step - loss: 0.4934 - accuracy: 0.7628\n",
      "Epoch 190/300\n",
      "5/5 [==============================] - 0s 3ms/step - loss: 0.4910 - accuracy: 0.7628\n",
      "Epoch 191/300\n",
      "5/5 [==============================] - 0s 3ms/step - loss: 0.4885 - accuracy: 0.7628\n",
      "Epoch 192/300\n",
      "5/5 [==============================] - 0s 4ms/step - loss: 0.4861 - accuracy: 0.7628\n",
      "Epoch 193/300\n",
      "5/5 [==============================] - 0s 3ms/step - loss: 0.4839 - accuracy: 0.7628\n",
      "Epoch 194/300\n",
      "5/5 [==============================] - 0s 3ms/step - loss: 0.4812 - accuracy: 0.7628\n",
      "Epoch 195/300\n",
      "5/5 [==============================] - ETA: 0s - loss: 0.4069 - accuracy: 0.81 - 0s 3ms/step - loss: 0.4788 - accuracy: 0.7628\n",
      "Epoch 196/300\n",
      "5/5 [==============================] - 0s 4ms/step - loss: 0.4763 - accuracy: 0.7628\n",
      "Epoch 197/300\n",
      "5/5 [==============================] - 0s 4ms/step - loss: 0.4739 - accuracy: 0.7628\n",
      "Epoch 198/300\n",
      "5/5 [==============================] - 0s 3ms/step - loss: 0.4714 - accuracy: 0.7628\n",
      "Epoch 199/300\n",
      "5/5 [==============================] - 0s 3ms/step - loss: 0.4689 - accuracy: 0.7628\n",
      "Epoch 200/300\n",
      "5/5 [==============================] - 0s 3ms/step - loss: 0.4665 - accuracy: 0.7628\n",
      "Epoch 201/300\n",
      "5/5 [==============================] - 0s 3ms/step - loss: 0.4640 - accuracy: 0.7628\n",
      "Epoch 202/300\n",
      "5/5 [==============================] - 0s 3ms/step - loss: 0.4616 - accuracy: 0.7628\n",
      "Epoch 203/300\n",
      "5/5 [==============================] - 0s 3ms/step - loss: 0.4594 - accuracy: 0.7628\n",
      "Epoch 204/300\n",
      "5/5 [==============================] - 0s 3ms/step - loss: 0.4570 - accuracy: 0.7628\n",
      "Epoch 205/300\n",
      "5/5 [==============================] - 0s 3ms/step - loss: 0.4547 - accuracy: 0.7628\n",
      "Epoch 206/300\n",
      "5/5 [==============================] - 0s 3ms/step - loss: 0.4525 - accuracy: 0.7628\n",
      "Epoch 207/300\n",
      "5/5 [==============================] - 0s 3ms/step - loss: 0.4501 - accuracy: 0.7628\n",
      "Epoch 208/300\n",
      "5/5 [==============================] - 0s 4ms/step - loss: 0.4481 - accuracy: 0.7628\n",
      "Epoch 209/300\n",
      "5/5 [==============================] - 0s 3ms/step - loss: 0.4456 - accuracy: 0.7628\n",
      "Epoch 210/300\n",
      "5/5 [==============================] - 0s 3ms/step - loss: 0.4435 - accuracy: 0.7628\n",
      "Epoch 211/300\n",
      "5/5 [==============================] - 0s 4ms/step - loss: 0.4415 - accuracy: 0.7628\n",
      "Epoch 212/300\n",
      "5/5 [==============================] - 0s 3ms/step - loss: 0.4394 - accuracy: 0.7628\n",
      "Epoch 213/300\n",
      "5/5 [==============================] - 0s 3ms/step - loss: 0.4374 - accuracy: 0.7628\n",
      "Epoch 214/300\n",
      "5/5 [==============================] - 0s 3ms/step - loss: 0.4353 - accuracy: 0.7628\n",
      "Epoch 215/300\n",
      "5/5 [==============================] - 0s 3ms/step - loss: 0.4335 - accuracy: 0.7628\n",
      "Epoch 216/300\n",
      "5/5 [==============================] - 0s 3ms/step - loss: 0.4315 - accuracy: 0.7628\n",
      "Epoch 217/300\n",
      "5/5 [==============================] - 0s 3ms/step - loss: 0.4298 - accuracy: 0.7628\n",
      "Epoch 218/300\n",
      "5/5 [==============================] - 0s 3ms/step - loss: 0.4280 - accuracy: 0.7628\n",
      "Epoch 219/300\n",
      "5/5 [==============================] - 0s 3ms/step - loss: 0.4262 - accuracy: 0.7628\n",
      "Epoch 220/300\n",
      "5/5 [==============================] - 0s 4ms/step - loss: 0.4244 - accuracy: 0.7628\n",
      "Epoch 221/300\n",
      "5/5 [==============================] - 0s 3ms/step - loss: 0.4228 - accuracy: 0.7628\n",
      "Epoch 222/300\n",
      "5/5 [==============================] - 0s 3ms/step - loss: 0.4212 - accuracy: 0.7628\n",
      "Epoch 223/300\n",
      "5/5 [==============================] - 0s 3ms/step - loss: 0.4194 - accuracy: 0.7628\n",
      "Epoch 224/300\n",
      "5/5 [==============================] - 0s 4ms/step - loss: 0.4180 - accuracy: 0.7628\n",
      "Epoch 225/300\n",
      "5/5 [==============================] - 0s 3ms/step - loss: 0.4165 - accuracy: 0.7628\n",
      "Epoch 226/300\n",
      "5/5 [==============================] - 0s 3ms/step - loss: 0.4149 - accuracy: 0.7628\n",
      "Epoch 227/300\n",
      "5/5 [==============================] - 0s 4ms/step - loss: 0.4136 - accuracy: 0.7628\n",
      "Epoch 228/300\n",
      "5/5 [==============================] - 0s 3ms/step - loss: 0.4121 - accuracy: 0.7628\n",
      "Epoch 229/300\n",
      "5/5 [==============================] - 0s 3ms/step - loss: 0.4107 - accuracy: 0.7628\n",
      "Epoch 230/300\n",
      "5/5 [==============================] - 0s 5ms/step - loss: 0.4094 - accuracy: 0.7628\n",
      "Epoch 231/300\n",
      "5/5 [==============================] - 0s 3ms/step - loss: 0.4080 - accuracy: 0.7628\n",
      "Epoch 232/300\n",
      "5/5 [==============================] - 0s 3ms/step - loss: 0.4067 - accuracy: 0.7628\n",
      "Epoch 233/300\n",
      "5/5 [==============================] - 0s 3ms/step - loss: 0.4055 - accuracy: 0.7628\n",
      "Epoch 234/300\n",
      "5/5 [==============================] - 0s 3ms/step - loss: 0.4042 - accuracy: 0.7628\n",
      "Epoch 235/300\n",
      "5/5 [==============================] - 0s 3ms/step - loss: 0.4030 - accuracy: 0.7628\n",
      "Epoch 236/300\n",
      "5/5 [==============================] - 0s 6ms/step - loss: 0.4017 - accuracy: 0.7628\n",
      "Epoch 237/300\n",
      "5/5 [==============================] - 0s 3ms/step - loss: 0.4004 - accuracy: 0.7628\n",
      "Epoch 238/300\n",
      "5/5 [==============================] - 0s 3ms/step - loss: 0.3992 - accuracy: 0.7628\n",
      "Epoch 239/300\n",
      "5/5 [==============================] - 0s 3ms/step - loss: 0.3982 - accuracy: 0.7628\n",
      "Epoch 240/300\n",
      "5/5 [==============================] - 0s 3ms/step - loss: 0.3968 - accuracy: 0.7628\n",
      "Epoch 241/300\n",
      "5/5 [==============================] - 0s 3ms/step - loss: 0.3957 - accuracy: 0.7628\n",
      "Epoch 242/300\n",
      "5/5 [==============================] - 0s 5ms/step - loss: 0.3944 - accuracy: 0.7628\n",
      "Epoch 243/300\n",
      "5/5 [==============================] - 0s 4ms/step - loss: 0.3932 - accuracy: 0.7628\n",
      "Epoch 244/300\n",
      "5/5 [==============================] - 0s 4ms/step - loss: 0.3920 - accuracy: 0.7628\n",
      "Epoch 245/300\n",
      "5/5 [==============================] - 0s 3ms/step - loss: 0.3908 - accuracy: 0.7628\n",
      "Epoch 246/300\n",
      "5/5 [==============================] - 0s 3ms/step - loss: 0.3895 - accuracy: 0.7628\n",
      "Epoch 247/300\n",
      "5/5 [==============================] - 0s 3ms/step - loss: 0.3888 - accuracy: 0.7628\n",
      "Epoch 248/300\n",
      "5/5 [==============================] - 0s 4ms/step - loss: 0.3874 - accuracy: 0.7628\n",
      "Epoch 249/300\n",
      "5/5 [==============================] - 0s 3ms/step - loss: 0.3862 - accuracy: 0.7628\n",
      "Epoch 250/300\n",
      "5/5 [==============================] - 0s 3ms/step - loss: 0.3850 - accuracy: 0.7628\n",
      "Epoch 251/300\n",
      "5/5 [==============================] - 0s 3ms/step - loss: 0.3842 - accuracy: 0.7628\n",
      "Epoch 252/300\n",
      "5/5 [==============================] - 0s 3ms/step - loss: 0.3830 - accuracy: 0.7628\n",
      "Epoch 253/300\n",
      "5/5 [==============================] - 0s 3ms/step - loss: 0.3818 - accuracy: 0.7628\n",
      "Epoch 254/300\n",
      "5/5 [==============================] - 0s 4ms/step - loss: 0.3809 - accuracy: 0.7628\n",
      "Epoch 255/300\n",
      "5/5 [==============================] - 0s 3ms/step - loss: 0.3802 - accuracy: 0.7628\n",
      "Epoch 256/300\n",
      "5/5 [==============================] - 0s 3ms/step - loss: 0.3790 - accuracy: 0.7628\n",
      "Epoch 257/300\n",
      "5/5 [==============================] - 0s 3ms/step - loss: 0.3780 - accuracy: 0.7628\n",
      "Epoch 258/300\n",
      "5/5 [==============================] - 0s 3ms/step - loss: 0.3771 - accuracy: 0.7628\n",
      "Epoch 259/300\n",
      "5/5 [==============================] - 0s 3ms/step - loss: 0.3765 - accuracy: 0.7628\n",
      "Epoch 260/300\n",
      "5/5 [==============================] - 0s 3ms/step - loss: 0.3755 - accuracy: 0.7628\n",
      "Epoch 261/300\n",
      "5/5 [==============================] - 0s 3ms/step - loss: 0.3747 - accuracy: 0.7628\n",
      "Epoch 262/300\n",
      "5/5 [==============================] - 0s 3ms/step - loss: 0.3741 - accuracy: 0.7628\n",
      "Epoch 263/300\n",
      "5/5 [==============================] - 0s 3ms/step - loss: 0.3733 - accuracy: 0.7628\n",
      "Epoch 264/300\n",
      "5/5 [==============================] - 0s 3ms/step - loss: 0.3726 - accuracy: 0.7628\n",
      "Epoch 265/300\n",
      "5/5 [==============================] - 0s 4ms/step - loss: 0.3717 - accuracy: 0.7628\n",
      "Epoch 266/300\n",
      "5/5 [==============================] - 0s 3ms/step - loss: 0.3710 - accuracy: 0.7628\n",
      "Epoch 267/300\n",
      "5/5 [==============================] - 0s 3ms/step - loss: 0.3704 - accuracy: 0.7628\n",
      "Epoch 268/300\n",
      "5/5 [==============================] - 0s 3ms/step - loss: 0.3696 - accuracy: 0.7628\n",
      "Epoch 269/300\n",
      "5/5 [==============================] - 0s 3ms/step - loss: 0.3692 - accuracy: 0.7628\n",
      "Epoch 270/300\n",
      "5/5 [==============================] - 0s 3ms/step - loss: 0.3684 - accuracy: 0.7628\n",
      "Epoch 271/300\n",
      "5/5 [==============================] - 0s 3ms/step - loss: 0.3676 - accuracy: 0.7628\n",
      "Epoch 272/300\n",
      "5/5 [==============================] - 0s 3ms/step - loss: 0.3673 - accuracy: 0.7628\n",
      "Epoch 273/300\n",
      "5/5 [==============================] - 0s 3ms/step - loss: 0.3664 - accuracy: 0.7628\n",
      "Epoch 274/300\n",
      "5/5 [==============================] - 0s 3ms/step - loss: 0.3658 - accuracy: 0.7628\n",
      "Epoch 275/300\n",
      "5/5 [==============================] - 0s 3ms/step - loss: 0.3652 - accuracy: 0.7628\n",
      "Epoch 276/300\n",
      "5/5 [==============================] - 0s 3ms/step - loss: 0.3647 - accuracy: 0.7628\n",
      "Epoch 277/300\n",
      "5/5 [==============================] - 0s 3ms/step - loss: 0.3641 - accuracy: 0.7628\n",
      "Epoch 278/300\n",
      "5/5 [==============================] - 0s 3ms/step - loss: 0.3636 - accuracy: 0.7628\n",
      "Epoch 279/300\n",
      "5/5 [==============================] - 0s 3ms/step - loss: 0.3630 - accuracy: 0.7628\n",
      "Epoch 280/300\n",
      "5/5 [==============================] - 0s 3ms/step - loss: 0.3624 - accuracy: 0.7628\n",
      "Epoch 281/300\n",
      "5/5 [==============================] - 0s 3ms/step - loss: 0.3623 - accuracy: 0.7628\n",
      "Epoch 282/300\n",
      "5/5 [==============================] - 0s 4ms/step - loss: 0.3615 - accuracy: 0.7628\n",
      "Epoch 283/300\n",
      "5/5 [==============================] - 0s 3ms/step - loss: 0.3611 - accuracy: 0.7628\n",
      "Epoch 284/300\n",
      "5/5 [==============================] - 0s 3ms/step - loss: 0.3605 - accuracy: 0.7628\n",
      "Epoch 285/300\n",
      "5/5 [==============================] - 0s 5ms/step - loss: 0.3601 - accuracy: 0.7628\n",
      "Epoch 286/300\n",
      "5/5 [==============================] - 0s 3ms/step - loss: 0.3597 - accuracy: 0.7628\n",
      "Epoch 287/300\n",
      "5/5 [==============================] - 0s 3ms/step - loss: 0.3592 - accuracy: 0.7628\n",
      "Epoch 288/300\n",
      "5/5 [==============================] - 0s 3ms/step - loss: 0.3587 - accuracy: 0.7628\n",
      "Epoch 289/300\n",
      "5/5 [==============================] - 0s 3ms/step - loss: 0.3585 - accuracy: 0.7628\n",
      "Epoch 290/300\n",
      "5/5 [==============================] - 0s 3ms/step - loss: 0.3578 - accuracy: 0.7628\n",
      "Epoch 291/300\n",
      "5/5 [==============================] - 0s 3ms/step - loss: 0.3575 - accuracy: 0.7628\n",
      "Epoch 292/300\n",
      "5/5 [==============================] - 0s 4ms/step - loss: 0.3570 - accuracy: 0.7628\n",
      "Epoch 293/300\n",
      "5/5 [==============================] - 0s 3ms/step - loss: 0.3568 - accuracy: 0.7628\n",
      "Epoch 294/300\n",
      "5/5 [==============================] - 0s 3ms/step - loss: 0.3564 - accuracy: 0.7628\n",
      "Epoch 295/300\n",
      "5/5 [==============================] - 0s 5ms/step - loss: 0.3559 - accuracy: 0.8077\n",
      "Epoch 296/300\n",
      "5/5 [==============================] - 0s 3ms/step - loss: 0.3555 - accuracy: 0.8077\n",
      "Epoch 297/300\n",
      "5/5 [==============================] - 0s 3ms/step - loss: 0.3552 - accuracy: 0.7949\n",
      "Epoch 298/300\n",
      "5/5 [==============================] - 0s 3ms/step - loss: 0.3549 - accuracy: 0.8013\n",
      "Epoch 299/300\n",
      "5/5 [==============================] - 0s 4ms/step - loss: 0.3545 - accuracy: 0.7949\n",
      "Epoch 300/300\n",
      "5/5 [==============================] - 0s 3ms/step - loss: 0.3541 - accuracy: 0.7756\n"
     ]
    },
    {
     "data": {
      "text/plain": [
       "<keras.callbacks.History at 0x145e339c430>"
      ]
     },
     "execution_count": 162,
     "metadata": {},
     "output_type": "execute_result"
    }
   ],
   "source": [
    "model7 = keras.Sequential()\n",
    "model7.add(Dense(1,input_dim=22,activation='sigmoid'))\n",
    "model7.add(Dense(20,activation='sigmoid'))\n",
    "model7.add(Dense(12,activation='sigmoid'))\n",
    "model7.add(Dense(9,activation='sigmoid'))\n",
    "model7.add(Dense(5,activation='sigmoid'))\n",
    "model7.add(Dense(1,activation='sigmoid'))\n",
    "model7.compile(optimizer='adam',\n",
    "              loss = 'binary_crossentropy',\n",
    "              metrics = ['accuracy'])\n",
    "model7.fit(X_train,Y_train,epochs=300)"
   ]
  },
  {
   "cell_type": "code",
   "execution_count": 163,
   "id": "6f1e87ed",
   "metadata": {},
   "outputs": [
    {
     "name": "stdout",
     "output_type": "stream",
     "text": [
      "2/2 [==============================] - 0s 6ms/step - loss: 0.3109 - accuracy: 0.9231\n"
     ]
    },
    {
     "data": {
      "text/plain": [
       "[0.31087785959243774, 0.9230769276618958]"
      ]
     },
     "execution_count": 163,
     "metadata": {},
     "output_type": "execute_result"
    }
   ],
   "source": [
    "model7.evaluate(X_test,Y_test)"
   ]
  },
  {
   "cell_type": "code",
   "execution_count": 164,
   "id": "ea185cec",
   "metadata": {},
   "outputs": [
    {
     "name": "stdout",
     "output_type": "stream",
     "text": [
      "Model: \"sequential_4\"\n",
      "_________________________________________________________________\n",
      "Layer (type)                 Output Shape              Param #   \n",
      "=================================================================\n",
      "dense_24 (Dense)             (None, 1)                 23        \n",
      "_________________________________________________________________\n",
      "dense_25 (Dense)             (None, 20)                40        \n",
      "_________________________________________________________________\n",
      "dense_26 (Dense)             (None, 12)                252       \n",
      "_________________________________________________________________\n",
      "dense_27 (Dense)             (None, 9)                 117       \n",
      "_________________________________________________________________\n",
      "dense_28 (Dense)             (None, 5)                 50        \n",
      "_________________________________________________________________\n",
      "dense_29 (Dense)             (None, 1)                 6         \n",
      "=================================================================\n",
      "Total params: 488\n",
      "Trainable params: 488\n",
      "Non-trainable params: 0\n",
      "_________________________________________________________________\n",
      "None\n"
     ]
    }
   ],
   "source": [
    "print(model7.summary())"
   ]
  },
  {
   "cell_type": "code",
   "execution_count": 165,
   "id": "2709b244",
   "metadata": {},
   "outputs": [
    {
     "data": {
      "text/plain": [
       "array([[0.9513807 ],\n",
       "       [0.95139146],\n",
       "       [0.95139337],\n",
       "       [0.94949603],\n",
       "       [0.49807164],\n",
       "       [0.9513923 ],\n",
       "       [0.5081119 ],\n",
       "       [0.951385  ],\n",
       "       [0.8883071 ],\n",
       "       [0.95139194],\n",
       "       [0.4956435 ],\n",
       "       [0.9513905 ],\n",
       "       [0.9512093 ],\n",
       "       [0.95060956],\n",
       "       [0.9455606 ],\n",
       "       [0.49555498],\n",
       "       [0.95139134],\n",
       "       [0.95137787],\n",
       "       [0.49569976],\n",
       "       [0.95138955],\n",
       "       [0.9513933 ],\n",
       "       [0.496212  ],\n",
       "       [0.4956423 ],\n",
       "       [0.95025134],\n",
       "       [0.9513931 ],\n",
       "       [0.5109003 ],\n",
       "       [0.9513917 ],\n",
       "       [0.9513935 ],\n",
       "       [0.49558955],\n",
       "       [0.49555597],\n",
       "       [0.95114666],\n",
       "       [0.51066166],\n",
       "       [0.95136   ],\n",
       "       [0.49556196],\n",
       "       [0.49555874],\n",
       "       [0.5552618 ],\n",
       "       [0.49766892],\n",
       "       [0.95138896],\n",
       "       [0.49555796]], dtype=float32)"
      ]
     },
     "execution_count": 165,
     "metadata": {},
     "output_type": "execute_result"
    }
   ],
   "source": [
    "Y_predmod7 = model7.predict(X_test)\n",
    "Y_predmod7 "
   ]
  },
  {
   "cell_type": "code",
   "execution_count": 166,
   "id": "06015487",
   "metadata": {},
   "outputs": [
    {
     "data": {
      "text/plain": [
       "array([[1.],\n",
       "       [1.],\n",
       "       [1.],\n",
       "       [1.],\n",
       "       [0.],\n",
       "       [1.],\n",
       "       [1.],\n",
       "       [1.],\n",
       "       [1.],\n",
       "       [1.],\n",
       "       [0.],\n",
       "       [1.],\n",
       "       [1.],\n",
       "       [1.],\n",
       "       [1.],\n",
       "       [0.],\n",
       "       [1.],\n",
       "       [1.],\n",
       "       [0.],\n",
       "       [1.],\n",
       "       [1.],\n",
       "       [0.],\n",
       "       [0.],\n",
       "       [1.],\n",
       "       [1.],\n",
       "       [1.],\n",
       "       [1.],\n",
       "       [1.],\n",
       "       [0.],\n",
       "       [0.],\n",
       "       [1.],\n",
       "       [1.],\n",
       "       [1.],\n",
       "       [0.],\n",
       "       [0.],\n",
       "       [1.],\n",
       "       [0.],\n",
       "       [1.],\n",
       "       [0.]], dtype=float32)"
      ]
     },
     "execution_count": 166,
     "metadata": {},
     "output_type": "execute_result"
    }
   ],
   "source": [
    "for i,j in enumerate (Y_predmod7):\n",
    "    if ( j<0.5 ):\n",
    "        Y_predmod7[i]=0\n",
    "    else:\n",
    "        Y_predmod7[i]=1\n",
    "Y_predmod7"
   ]
  },
  {
   "cell_type": "code",
   "execution_count": 167,
   "id": "04961666",
   "metadata": {},
   "outputs": [
    {
     "data": {
      "text/plain": [
       "array([[1., 1., 1., 1., 0., 1., 1., 1., 1., 1., 0., 1., 1., 1., 1., 0.,\n",
       "        1., 1., 0., 1., 1., 0., 0., 1., 1., 1., 1., 1., 0., 0., 1., 1.,\n",
       "        1., 0., 0., 1., 0., 1., 0.]], dtype=float32)"
      ]
     },
     "execution_count": 167,
     "metadata": {},
     "output_type": "execute_result"
    }
   ],
   "source": [
    "Y_predmod7.reshape(1,39)"
   ]
  },
  {
   "cell_type": "code",
   "execution_count": 168,
   "id": "309834a8",
   "metadata": {},
   "outputs": [
    {
     "data": {
      "text/plain": [
       "array([1, 1, 1, 1, 0, 1, 0, 1, 1, 1, 1, 1, 1, 1, 1, 0, 1, 1, 1, 1, 1, 0,\n",
       "       0, 1, 1, 1, 1, 1, 0, 0, 1, 1, 1, 0, 0, 1, 0, 1, 0], dtype=int64)"
      ]
     },
     "execution_count": 168,
     "metadata": {},
     "output_type": "execute_result"
    }
   ],
   "source": [
    "Y_test"
   ]
  },
  {
   "cell_type": "code",
   "execution_count": 169,
   "id": "048c5afe",
   "metadata": {},
   "outputs": [
    {
     "data": {
      "image/png": "[encoded data removed]",
      "text/plain": [
       "<Figure size 576x432 with 2 Axes>"
      ]
     },
     "metadata": {},
     "output_type": "display_data"
    }
   ],
   "source": [
    "# Confusion Matrix\n",
    "from sklearn.metrics import confusion_matrix\n",
    "import matplotlib.pyplot as plt\n",
    "\n",
    "cm = confusion_matrix(Y_test,Y_predmod7)\n",
    "import seaborn as sn                               #to made heat map\n",
    "plt.figure(figsize=(8,6))\n",
    "fg = sn.heatmap(cm, annot=True,cmap=\"PiYG\")\n",
    "figure =fg.get_figure()\n",
    "figure.savefig('NN.jpg',dpi=400)\n",
    "plt.xlabel(\"Predicted\")\n",
    "plt.ylabel('Truth')\n",
    "plt.show()\n",
    "\n",
    "# از بین 39 مورد تست شده:\n",
    "# ده نفر واقعا سالم هستن و ماشین هم پیش بینی کرده واقعا سالمن\n",
    "#دو نفر واقعا بیماره ولی ماشین اشتباها پیش بینی کرده که سالم\n",
    "# یک نفر واقعا سالمن اما ماشین اشتباها پیش بینی کرده که بیمارن\n",
    "# بیست و شش نفر واقعا بیمارن و ماشین به درستی پیش بینی کرده که بیمارن\n",
    "# درایه های روی قطراصلی به درستی پیش بینی شده اند\n",
    "\n",
    "# N: healthy       P: parkinson\n",
    "\n",
    "# [TN   FP]\n",
    "# [FN   TP]"
   ]
  },
  {
   "cell_type": "code",
   "execution_count": 170,
   "id": "c7721ffb",
   "metadata": {},
   "outputs": [
    {
     "name": "stdout",
     "output_type": "stream",
     "text": [
      "confusion_matrix\n",
      "[[10  1]\n",
      " [ 2 26]]\n",
      "\n",
      "accuracy: 0.9230769230769231\n",
      "\n",
      "recall: [0.90909091 0.92857143]\n",
      "\n",
      "precision: [0.83333333 0.96296296]\n"
     ]
    }
   ],
   "source": [
    "from sklearn.metrics import confusion_matrix, accuracy_score, recall_score, precision_score\n",
    "print (\"confusion_matrix\")\n",
    "print(confusion_matrix(Y_test,Y_predmod7))\n",
    "print(\"\\naccuracy:\",accuracy_score(Y_test,Y_predmod7))\n",
    "print(\"\\nrecall:\",recall_score(Y_test,Y_predmod7, average = None))\n",
    "print(\"\\nprecision:\",precision_score(Y_test,Y_predmod7, average = None))"
   ]
  },
  {
   "cell_type": "markdown",
   "id": "767e38df",
   "metadata": {},
   "source": [
    "# K-Nearest Neighbor Model"
   ]
  },
  {
   "cell_type": "code",
   "execution_count": 171,
   "id": "82ca2070",
   "metadata": {},
   "outputs": [],
   "source": [
    "from sklearn.metrics import accuracy_score\n",
    "from sklearn.model_selection import GridSearchCV\n",
    "from sklearn.model_selection import cross_val_score\n",
    "from sklearn.neighbors import KNeighborsClassifier"
   ]
  },
  {
   "cell_type": "code",
   "execution_count": 172,
   "id": "00e42c97",
   "metadata": {},
   "outputs": [
    {
     "data": {
      "text/plain": [
       "KNeighborsClassifier()"
      ]
     },
     "execution_count": 172,
     "metadata": {},
     "output_type": "execute_result"
    }
   ],
   "source": [
    "model8 = KNeighborsClassifier()\n",
    "model8.fit(X_train, Y_train)"
   ]
  },
  {
   "cell_type": "code",
   "execution_count": 173,
   "id": "f7d8b486",
   "metadata": {},
   "outputs": [
    {
     "name": "stdout",
     "output_type": "stream",
     "text": [
      "K-Nearest Neighbor Model Accuracy : \n"
     ]
    },
    {
     "data": {
      "text/plain": [
       "0.9230769230769231"
      ]
     },
     "execution_count": 173,
     "metadata": {},
     "output_type": "execute_result"
    }
   ],
   "source": [
    "print(\"K-Nearest Neighbor Model Accuracy : \")\n",
    "model8.score(X_test,Y_test)"
   ]
  },
  {
   "cell_type": "code",
   "execution_count": 174,
   "id": "97a4212a",
   "metadata": {},
   "outputs": [],
   "source": [
    "#KNN Grid search\n",
    "\n",
    "params_dict = {'n_neighbors':[3, 5, 7, 9], 'p':[1, 2, 3], 'algorithm':['auto', 'ball_tree', 'kd_tree', 'brute']}\n",
    "gs = GridSearchCV(model8, param_grid=params_dict, verbose=10, cv=10)"
   ]
  },
  {
   "cell_type": "code",
   "execution_count": 175,
   "id": "32f0e67f",
   "metadata": {},
   "outputs": [
    {
     "name": "stdout",
     "output_type": "stream",
     "text": [
      "Fitting 10 folds for each of 48 candidates, totalling 480 fits\n",
      "[CV 1/10; 1/48] START algorithm=auto, n_neighbors=3, p=1........................\n",
      "[CV 1/10; 1/48] END algorithm=auto, n_neighbors=3, p=1;, score=0.812 total time=   0.0s\n",
      "[CV 2/10; 1/48] START algorithm=auto, n_neighbors=3, p=1........................\n",
      "[CV 2/10; 1/48] END algorithm=auto, n_neighbors=3, p=1;, score=1.000 total time=   0.0s\n",
      "[CV 3/10; 1/48] START algorithm=auto, n_neighbors=3, p=1........................\n",
      "[CV 3/10; 1/48] END algorithm=auto, n_neighbors=3, p=1;, score=0.812 total time=   0.0s\n",
      "[CV 4/10; 1/48] START algorithm=auto, n_neighbors=3, p=1........................\n",
      "[CV 4/10; 1/48] END algorithm=auto, n_neighbors=3, p=1;, score=0.875 total time=   0.0s\n",
      "[CV 5/10; 1/48] START algorithm=auto, n_neighbors=3, p=1........................\n",
      "[CV 5/10; 1/48] END algorithm=auto, n_neighbors=3, p=1;, score=0.938 total time=   0.0s\n",
      "[CV 6/10; 1/48] START algorithm=auto, n_neighbors=3, p=1........................\n",
      "[CV 6/10; 1/48] END algorithm=auto, n_neighbors=3, p=1;, score=0.812 total time=   0.0s\n",
      "[CV 7/10; 1/48] START algorithm=auto, n_neighbors=3, p=1........................\n",
      "[CV 7/10; 1/48] END algorithm=auto, n_neighbors=3, p=1;, score=1.000 total time=   0.0s\n",
      "[CV 8/10; 1/48] START algorithm=auto, n_neighbors=3, p=1........................\n",
      "[CV 8/10; 1/48] END algorithm=auto, n_neighbors=3, p=1;, score=0.933 total time=   0.0s\n",
      "[CV 9/10; 1/48] START algorithm=auto, n_neighbors=3, p=1........................\n",
      "[CV 9/10; 1/48] END algorithm=auto, n_neighbors=3, p=1;, score=0.867 total time=   0.0s\n",
      "[CV 10/10; 1/48] START algorithm=auto, n_neighbors=3, p=1.......................\n",
      "[CV 10/10; 1/48] END algorithm=auto, n_neighbors=3, p=1;, score=0.933 total time=   0.0s\n",
      "[CV 1/10; 2/48] START algorithm=auto, n_neighbors=3, p=2........................\n",
      "[CV 1/10; 2/48] END algorithm=auto, n_neighbors=3, p=2;, score=0.750 total time=   0.0s\n",
      "[CV 2/10; 2/48] START algorithm=auto, n_neighbors=3, p=2........................\n",
      "[CV 2/10; 2/48] END algorithm=auto, n_neighbors=3, p=2;, score=1.000 total time=   0.0s\n",
      "[CV 3/10; 2/48] START algorithm=auto, n_neighbors=3, p=2........................\n",
      "[CV 3/10; 2/48] END algorithm=auto, n_neighbors=3, p=2;, score=0.812 total time=   0.0s\n",
      "[CV 4/10; 2/48] START algorithm=auto, n_neighbors=3, p=2........................\n",
      "[CV 4/10; 2/48] END algorithm=auto, n_neighbors=3, p=2;, score=0.875 total time=   0.0s\n",
      "[CV 5/10; 2/48] START algorithm=auto, n_neighbors=3, p=2........................\n",
      "[CV 5/10; 2/48] END algorithm=auto, n_neighbors=3, p=2;, score=0.875 total time=   0.0s\n",
      "[CV 6/10; 2/48] START algorithm=auto, n_neighbors=3, p=2........................\n",
      "[CV 6/10; 2/48] END algorithm=auto, n_neighbors=3, p=2;, score=0.938 total time=   0.0s\n",
      "[CV 7/10; 2/48] START algorithm=auto, n_neighbors=3, p=2........................\n",
      "[CV 7/10; 2/48] END algorithm=auto, n_neighbors=3, p=2;, score=1.000 total time=   0.0s\n",
      "[CV 8/10; 2/48] START algorithm=auto, n_neighbors=3, p=2........................\n",
      "[CV 8/10; 2/48] END algorithm=auto, n_neighbors=3, p=2;, score=0.933 total time=   0.0s\n",
      "[CV 9/10; 2/48] START algorithm=auto, n_neighbors=3, p=2........................\n",
      "[CV 9/10; 2/48] END algorithm=auto, n_neighbors=3, p=2;, score=0.933 total time=   0.0s\n",
      "[CV 10/10; 2/48] START algorithm=auto, n_neighbors=3, p=2.......................\n",
      "[CV 10/10; 2/48] END algorithm=auto, n_neighbors=3, p=2;, score=0.867 total time=   0.0s\n",
      "[CV 1/10; 3/48] START algorithm=auto, n_neighbors=3, p=3........................\n",
      "[CV 1/10; 3/48] END algorithm=auto, n_neighbors=3, p=3;, score=0.688 total time=   0.0s\n",
      "[CV 2/10; 3/48] START algorithm=auto, n_neighbors=3, p=3........................\n",
      "[CV 2/10; 3/48] END algorithm=auto, n_neighbors=3, p=3;, score=1.000 total time=   0.0s\n",
      "[CV 3/10; 3/48] START algorithm=auto, n_neighbors=3, p=3........................\n",
      "[CV 3/10; 3/48] END algorithm=auto, n_neighbors=3, p=3;, score=0.812 total time=   0.0s\n",
      "[CV 4/10; 3/48] START algorithm=auto, n_neighbors=3, p=3........................\n",
      "[CV 4/10; 3/48] END algorithm=auto, n_neighbors=3, p=3;, score=0.875 total time=   0.0s\n",
      "[CV 5/10; 3/48] START algorithm=auto, n_neighbors=3, p=3........................\n",
      "[CV 5/10; 3/48] END algorithm=auto, n_neighbors=3, p=3;, score=0.875 total time=   0.0s\n",
      "[CV 6/10; 3/48] START algorithm=auto, n_neighbors=3, p=3........................\n",
      "[CV 6/10; 3/48] END algorithm=auto, n_neighbors=3, p=3;, score=0.938 total time=   0.0s\n",
      "[CV 7/10; 3/48] START algorithm=auto, n_neighbors=3, p=3........................\n",
      "[CV 7/10; 3/48] END algorithm=auto, n_neighbors=3, p=3;, score=0.933 total time=   0.0s\n",
      "[CV 8/10; 3/48] START algorithm=auto, n_neighbors=3, p=3........................\n",
      "[CV 8/10; 3/48] END algorithm=auto, n_neighbors=3, p=3;, score=0.933 total time=   0.0s\n",
      "[CV 9/10; 3/48] START algorithm=auto, n_neighbors=3, p=3........................\n",
      "[CV 9/10; 3/48] END algorithm=auto, n_neighbors=3, p=3;, score=0.867 total time=   0.0s\n",
      "[CV 10/10; 3/48] START algorithm=auto, n_neighbors=3, p=3.......................\n",
      "[CV 10/10; 3/48] END algorithm=auto, n_neighbors=3, p=3;, score=0.867 total time=   0.0s\n",
      "[CV 1/10; 4/48] START algorithm=auto, n_neighbors=5, p=1........................\n",
      "[CV 1/10; 4/48] END algorithm=auto, n_neighbors=5, p=1;, score=0.812 total time=   0.0s\n",
      "[CV 2/10; 4/48] START algorithm=auto, n_neighbors=5, p=1........................\n",
      "[CV 2/10; 4/48] END algorithm=auto, n_neighbors=5, p=1;, score=1.000 total time=   0.0s\n",
      "[CV 3/10; 4/48] START algorithm=auto, n_neighbors=5, p=1........................\n",
      "[CV 3/10; 4/48] END algorithm=auto, n_neighbors=5, p=1;, score=0.750 total time=   0.0s\n",
      "[CV 4/10; 4/48] START algorithm=auto, n_neighbors=5, p=1........................\n",
      "[CV 4/10; 4/48] END algorithm=auto, n_neighbors=5, p=1;, score=0.750 total time=   0.0s\n",
      "[CV 5/10; 4/48] START algorithm=auto, n_neighbors=5, p=1........................\n",
      "[CV 5/10; 4/48] END algorithm=auto, n_neighbors=5, p=1;, score=0.938 total time=   0.0s\n",
      "[CV 6/10; 4/48] START algorithm=auto, n_neighbors=5, p=1........................\n",
      "[CV 6/10; 4/48] END algorithm=auto, n_neighbors=5, p=1;, score=0.750 total time=   0.0s\n",
      "[CV 7/10; 4/48] START algorithm=auto, n_neighbors=5, p=1........................\n",
      "[CV 7/10; 4/48] END algorithm=auto, n_neighbors=5, p=1;, score=1.000 total time=   0.0s\n",
      "[CV 8/10; 4/48] START algorithm=auto, n_neighbors=5, p=1........................\n",
      "[CV 8/10; 4/48] END algorithm=auto, n_neighbors=5, p=1;, score=0.933 total time=   0.0s\n",
      "[CV 9/10; 4/48] START algorithm=auto, n_neighbors=5, p=1........................\n",
      "[CV 9/10; 4/48] END algorithm=auto, n_neighbors=5, p=1;, score=0.933 total time=   0.0s\n",
      "[CV 10/10; 4/48] START algorithm=auto, n_neighbors=5, p=1.......................\n",
      "[CV 10/10; 4/48] END algorithm=auto, n_neighbors=5, p=1;, score=0.933 total time=   0.0s\n",
      "[CV 1/10; 5/48] START algorithm=auto, n_neighbors=5, p=2........................\n",
      "[CV 1/10; 5/48] END algorithm=auto, n_neighbors=5, p=2;, score=0.812 total time=   0.0s\n",
      "[CV 2/10; 5/48] START algorithm=auto, n_neighbors=5, p=2........................\n",
      "[CV 2/10; 5/48] END algorithm=auto, n_neighbors=5, p=2;, score=1.000 total time=   0.0s\n",
      "[CV 3/10; 5/48] START algorithm=auto, n_neighbors=5, p=2........................\n",
      "[CV 3/10; 5/48] END algorithm=auto, n_neighbors=5, p=2;, score=0.812 total time=   0.0s\n",
      "[CV 4/10; 5/48] START algorithm=auto, n_neighbors=5, p=2........................\n",
      "[CV 4/10; 5/48] END algorithm=auto, n_neighbors=5, p=2;, score=0.875 total time=   0.0s\n",
      "[CV 5/10; 5/48] START algorithm=auto, n_neighbors=5, p=2........................\n",
      "[CV 5/10; 5/48] END algorithm=auto, n_neighbors=5, p=2;, score=0.875 total time=   0.0s\n",
      "[CV 6/10; 5/48] START algorithm=auto, n_neighbors=5, p=2........................\n",
      "[CV 6/10; 5/48] END algorithm=auto, n_neighbors=5, p=2;, score=0.938 total time=   0.0s\n",
      "[CV 7/10; 5/48] START algorithm=auto, n_neighbors=5, p=2........................\n",
      "[CV 7/10; 5/48] END algorithm=auto, n_neighbors=5, p=2;, score=1.000 total time=   0.0s\n",
      "[CV 8/10; 5/48] START algorithm=auto, n_neighbors=5, p=2........................\n",
      "[CV 8/10; 5/48] END algorithm=auto, n_neighbors=5, p=2;, score=0.933 total time=   0.0s\n",
      "[CV 9/10; 5/48] START algorithm=auto, n_neighbors=5, p=2........................\n",
      "[CV 9/10; 5/48] END algorithm=auto, n_neighbors=5, p=2;, score=0.933 total time=   0.0s\n",
      "[CV 10/10; 5/48] START algorithm=auto, n_neighbors=5, p=2.......................\n",
      "[CV 10/10; 5/48] END algorithm=auto, n_neighbors=5, p=2;, score=0.867 total time=   0.0s\n",
      "[CV 1/10; 6/48] START algorithm=auto, n_neighbors=5, p=3........................\n",
      "[CV 1/10; 6/48] END algorithm=auto, n_neighbors=5, p=3;, score=0.750 total time=   0.0s\n",
      "[CV 2/10; 6/48] START algorithm=auto, n_neighbors=5, p=3........................\n",
      "[CV 2/10; 6/48] END algorithm=auto, n_neighbors=5, p=3;, score=1.000 total time=   0.0s\n",
      "[CV 3/10; 6/48] START algorithm=auto, n_neighbors=5, p=3........................\n"
     ]
    },
    {
     "name": "stdout",
     "output_type": "stream",
     "text": [
      "[CV 3/10; 6/48] END algorithm=auto, n_neighbors=5, p=3;, score=0.812 total time=   0.0s\n",
      "[CV 4/10; 6/48] START algorithm=auto, n_neighbors=5, p=3........................\n",
      "[CV 4/10; 6/48] END algorithm=auto, n_neighbors=5, p=3;, score=0.750 total time=   0.0s\n",
      "[CV 5/10; 6/48] START algorithm=auto, n_neighbors=5, p=3........................\n",
      "[CV 5/10; 6/48] END algorithm=auto, n_neighbors=5, p=3;, score=0.875 total time=   0.0s\n",
      "[CV 6/10; 6/48] START algorithm=auto, n_neighbors=5, p=3........................\n",
      "[CV 6/10; 6/48] END algorithm=auto, n_neighbors=5, p=3;, score=0.938 total time=   0.0s\n",
      "[CV 7/10; 6/48] START algorithm=auto, n_neighbors=5, p=3........................\n",
      "[CV 7/10; 6/48] END algorithm=auto, n_neighbors=5, p=3;, score=1.000 total time=   0.0s\n",
      "[CV 8/10; 6/48] START algorithm=auto, n_neighbors=5, p=3........................\n",
      "[CV 8/10; 6/48] END algorithm=auto, n_neighbors=5, p=3;, score=0.867 total time=   0.0s\n",
      "[CV 9/10; 6/48] START algorithm=auto, n_neighbors=5, p=3........................\n",
      "[CV 9/10; 6/48] END algorithm=auto, n_neighbors=5, p=3;, score=0.800 total time=   0.0s\n",
      "[CV 10/10; 6/48] START algorithm=auto, n_neighbors=5, p=3.......................\n",
      "[CV 10/10; 6/48] END algorithm=auto, n_neighbors=5, p=3;, score=0.867 total time=   0.0s\n",
      "[CV 1/10; 7/48] START algorithm=auto, n_neighbors=7, p=1........................\n",
      "[CV 1/10; 7/48] END algorithm=auto, n_neighbors=7, p=1;, score=0.750 total time=   0.0s\n",
      "[CV 2/10; 7/48] START algorithm=auto, n_neighbors=7, p=1........................\n",
      "[CV 2/10; 7/48] END algorithm=auto, n_neighbors=7, p=1;, score=0.938 total time=   0.0s\n",
      "[CV 3/10; 7/48] START algorithm=auto, n_neighbors=7, p=1........................\n",
      "[CV 3/10; 7/48] END algorithm=auto, n_neighbors=7, p=1;, score=0.812 total time=   0.0s\n",
      "[CV 4/10; 7/48] START algorithm=auto, n_neighbors=7, p=1........................\n",
      "[CV 4/10; 7/48] END algorithm=auto, n_neighbors=7, p=1;, score=0.750 total time=   0.0s\n",
      "[CV 5/10; 7/48] START algorithm=auto, n_neighbors=7, p=1........................\n",
      "[CV 5/10; 7/48] END algorithm=auto, n_neighbors=7, p=1;, score=0.938 total time=   0.0s\n",
      "[CV 6/10; 7/48] START algorithm=auto, n_neighbors=7, p=1........................\n",
      "[CV 6/10; 7/48] END algorithm=auto, n_neighbors=7, p=1;, score=0.750 total time=   0.0s\n",
      "[CV 7/10; 7/48] START algorithm=auto, n_neighbors=7, p=1........................\n",
      "[CV 7/10; 7/48] END algorithm=auto, n_neighbors=7, p=1;, score=1.000 total time=   0.0s\n",
      "[CV 8/10; 7/48] START algorithm=auto, n_neighbors=7, p=1........................\n",
      "[CV 8/10; 7/48] END algorithm=auto, n_neighbors=7, p=1;, score=0.867 total time=   0.0s\n",
      "[CV 9/10; 7/48] START algorithm=auto, n_neighbors=7, p=1........................\n",
      "[CV 9/10; 7/48] END algorithm=auto, n_neighbors=7, p=1;, score=0.933 total time=   0.0s\n",
      "[CV 10/10; 7/48] START algorithm=auto, n_neighbors=7, p=1.......................\n",
      "[CV 10/10; 7/48] END algorithm=auto, n_neighbors=7, p=1;, score=0.933 total time=   0.0s\n",
      "[CV 1/10; 8/48] START algorithm=auto, n_neighbors=7, p=2........................\n",
      "[CV 1/10; 8/48] END algorithm=auto, n_neighbors=7, p=2;, score=0.750 total time=   0.0s\n",
      "[CV 2/10; 8/48] START algorithm=auto, n_neighbors=7, p=2........................\n",
      "[CV 2/10; 8/48] END algorithm=auto, n_neighbors=7, p=2;, score=0.938 total time=   0.0s\n",
      "[CV 3/10; 8/48] START algorithm=auto, n_neighbors=7, p=2........................\n",
      "[CV 3/10; 8/48] END algorithm=auto, n_neighbors=7, p=2;, score=0.812 total time=   0.0s\n",
      "[CV 4/10; 8/48] START algorithm=auto, n_neighbors=7, p=2........................\n",
      "[CV 4/10; 8/48] END algorithm=auto, n_neighbors=7, p=2;, score=0.750 total time=   0.0s\n",
      "[CV 5/10; 8/48] START algorithm=auto, n_neighbors=7, p=2........................\n",
      "[CV 5/10; 8/48] END algorithm=auto, n_neighbors=7, p=2;, score=0.812 total time=   0.0s\n",
      "[CV 6/10; 8/48] START algorithm=auto, n_neighbors=7, p=2........................\n",
      "[CV 6/10; 8/48] END algorithm=auto, n_neighbors=7, p=2;, score=0.875 total time=   0.0s\n",
      "[CV 7/10; 8/48] START algorithm=auto, n_neighbors=7, p=2........................\n",
      "[CV 7/10; 8/48] END algorithm=auto, n_neighbors=7, p=2;, score=0.867 total time=   0.0s\n",
      "[CV 8/10; 8/48] START algorithm=auto, n_neighbors=7, p=2........................\n",
      "[CV 8/10; 8/48] END algorithm=auto, n_neighbors=7, p=2;, score=0.867 total time=   0.0s\n",
      "[CV 9/10; 8/48] START algorithm=auto, n_neighbors=7, p=2........................\n",
      "[CV 9/10; 8/48] END algorithm=auto, n_neighbors=7, p=2;, score=0.933 total time=   0.0s\n",
      "[CV 10/10; 8/48] START algorithm=auto, n_neighbors=7, p=2.......................\n",
      "[CV 10/10; 8/48] END algorithm=auto, n_neighbors=7, p=2;, score=0.933 total time=   0.0s\n",
      "[CV 1/10; 9/48] START algorithm=auto, n_neighbors=7, p=3........................\n",
      "[CV 1/10; 9/48] END algorithm=auto, n_neighbors=7, p=3;, score=0.688 total time=   0.0s\n",
      "[CV 2/10; 9/48] START algorithm=auto, n_neighbors=7, p=3........................\n",
      "[CV 2/10; 9/48] END algorithm=auto, n_neighbors=7, p=3;, score=0.875 total time=   0.0s\n",
      "[CV 3/10; 9/48] START algorithm=auto, n_neighbors=7, p=3........................\n",
      "[CV 3/10; 9/48] END algorithm=auto, n_neighbors=7, p=3;, score=0.750 total time=   0.0s\n",
      "[CV 4/10; 9/48] START algorithm=auto, n_neighbors=7, p=3........................\n",
      "[CV 4/10; 9/48] END algorithm=auto, n_neighbors=7, p=3;, score=0.750 total time=   0.0s\n",
      "[CV 5/10; 9/48] START algorithm=auto, n_neighbors=7, p=3........................\n",
      "[CV 5/10; 9/48] END algorithm=auto, n_neighbors=7, p=3;, score=0.875 total time=   0.0s\n",
      "[CV 6/10; 9/48] START algorithm=auto, n_neighbors=7, p=3........................\n",
      "[CV 6/10; 9/48] END algorithm=auto, n_neighbors=7, p=3;, score=0.938 total time=   0.0s\n",
      "[CV 7/10; 9/48] START algorithm=auto, n_neighbors=7, p=3........................\n",
      "[CV 7/10; 9/48] END algorithm=auto, n_neighbors=7, p=3;, score=0.933 total time=   0.0s\n",
      "[CV 8/10; 9/48] START algorithm=auto, n_neighbors=7, p=3........................\n",
      "[CV 8/10; 9/48] END algorithm=auto, n_neighbors=7, p=3;, score=0.867 total time=   0.0s\n",
      "[CV 9/10; 9/48] START algorithm=auto, n_neighbors=7, p=3........................\n",
      "[CV 9/10; 9/48] END algorithm=auto, n_neighbors=7, p=3;, score=0.867 total time=   0.0s\n",
      "[CV 10/10; 9/48] START algorithm=auto, n_neighbors=7, p=3.......................\n",
      "[CV 10/10; 9/48] END algorithm=auto, n_neighbors=7, p=3;, score=0.933 total time=   0.0s\n",
      "[CV 1/10; 10/48] START algorithm=auto, n_neighbors=9, p=1.......................\n",
      "[CV 1/10; 10/48] END algorithm=auto, n_neighbors=9, p=1;, score=0.750 total time=   0.0s\n",
      "[CV 2/10; 10/48] START algorithm=auto, n_neighbors=9, p=1.......................\n",
      "[CV 2/10; 10/48] END algorithm=auto, n_neighbors=9, p=1;, score=0.938 total time=   0.0s\n",
      "[CV 3/10; 10/48] START algorithm=auto, n_neighbors=9, p=1.......................\n",
      "[CV 3/10; 10/48] END algorithm=auto, n_neighbors=9, p=1;, score=0.812 total time=   0.0s\n",
      "[CV 4/10; 10/48] START algorithm=auto, n_neighbors=9, p=1.......................\n",
      "[CV 4/10; 10/48] END algorithm=auto, n_neighbors=9, p=1;, score=0.750 total time=   0.0s\n",
      "[CV 5/10; 10/48] START algorithm=auto, n_neighbors=9, p=1.......................\n",
      "[CV 5/10; 10/48] END algorithm=auto, n_neighbors=9, p=1;, score=0.875 total time=   0.0s\n",
      "[CV 6/10; 10/48] START algorithm=auto, n_neighbors=9, p=1.......................\n",
      "[CV 6/10; 10/48] END algorithm=auto, n_neighbors=9, p=1;, score=0.750 total time=   0.0s\n",
      "[CV 7/10; 10/48] START algorithm=auto, n_neighbors=9, p=1.......................\n",
      "[CV 7/10; 10/48] END algorithm=auto, n_neighbors=9, p=1;, score=0.867 total time=   0.0s\n",
      "[CV 8/10; 10/48] START algorithm=auto, n_neighbors=9, p=1.......................\n",
      "[CV 8/10; 10/48] END algorithm=auto, n_neighbors=9, p=1;, score=0.800 total time=   0.0s\n",
      "[CV 9/10; 10/48] START algorithm=auto, n_neighbors=9, p=1.......................\n",
      "[CV 9/10; 10/48] END algorithm=auto, n_neighbors=9, p=1;, score=0.933 total time=   0.0s\n",
      "[CV 10/10; 10/48] START algorithm=auto, n_neighbors=9, p=1......................\n",
      "[CV 10/10; 10/48] END algorithm=auto, n_neighbors=9, p=1;, score=0.933 total time=   0.0s\n",
      "[CV 1/10; 11/48] START algorithm=auto, n_neighbors=9, p=2.......................\n",
      "[CV 1/10; 11/48] END algorithm=auto, n_neighbors=9, p=2;, score=0.688 total time=   0.0s\n",
      "[CV 2/10; 11/48] START algorithm=auto, n_neighbors=9, p=2.......................\n",
      "[CV 2/10; 11/48] END algorithm=auto, n_neighbors=9, p=2;, score=0.875 total time=   0.0s\n",
      "[CV 3/10; 11/48] START algorithm=auto, n_neighbors=9, p=2.......................\n",
      "[CV 3/10; 11/48] END algorithm=auto, n_neighbors=9, p=2;, score=0.875 total time=   0.0s\n",
      "[CV 4/10; 11/48] START algorithm=auto, n_neighbors=9, p=2.......................\n",
      "[CV 4/10; 11/48] END algorithm=auto, n_neighbors=9, p=2;, score=0.750 total time=   0.0s\n",
      "[CV 5/10; 11/48] START algorithm=auto, n_neighbors=9, p=2.......................\n",
      "[CV 5/10; 11/48] END algorithm=auto, n_neighbors=9, p=2;, score=0.875 total time=   0.0s\n",
      "[CV 6/10; 11/48] START algorithm=auto, n_neighbors=9, p=2.......................\n",
      "[CV 6/10; 11/48] END algorithm=auto, n_neighbors=9, p=2;, score=0.875 total time=   0.0s\n",
      "[CV 7/10; 11/48] START algorithm=auto, n_neighbors=9, p=2.......................\n",
      "[CV 7/10; 11/48] END algorithm=auto, n_neighbors=9, p=2;, score=0.933 total time=   0.0s\n",
      "[CV 8/10; 11/48] START algorithm=auto, n_neighbors=9, p=2.......................\n"
     ]
    },
    {
     "name": "stdout",
     "output_type": "stream",
     "text": [
      "[CV 8/10; 11/48] END algorithm=auto, n_neighbors=9, p=2;, score=0.867 total time=   0.0s\n",
      "[CV 9/10; 11/48] START algorithm=auto, n_neighbors=9, p=2.......................\n",
      "[CV 9/10; 11/48] END algorithm=auto, n_neighbors=9, p=2;, score=0.933 total time=   0.0s\n",
      "[CV 10/10; 11/48] START algorithm=auto, n_neighbors=9, p=2......................\n",
      "[CV 10/10; 11/48] END algorithm=auto, n_neighbors=9, p=2;, score=0.933 total time=   0.0s\n",
      "[CV 1/10; 12/48] START algorithm=auto, n_neighbors=9, p=3.......................\n",
      "[CV 1/10; 12/48] END algorithm=auto, n_neighbors=9, p=3;, score=0.688 total time=   0.0s\n",
      "[CV 2/10; 12/48] START algorithm=auto, n_neighbors=9, p=3.......................\n",
      "[CV 2/10; 12/48] END algorithm=auto, n_neighbors=9, p=3;, score=0.875 total time=   0.0s\n",
      "[CV 3/10; 12/48] START algorithm=auto, n_neighbors=9, p=3.......................\n",
      "[CV 3/10; 12/48] END algorithm=auto, n_neighbors=9, p=3;, score=0.875 total time=   0.0s\n",
      "[CV 4/10; 12/48] START algorithm=auto, n_neighbors=9, p=3.......................\n",
      "[CV 4/10; 12/48] END algorithm=auto, n_neighbors=9, p=3;, score=0.688 total time=   0.0s\n",
      "[CV 5/10; 12/48] START algorithm=auto, n_neighbors=9, p=3.......................\n",
      "[CV 5/10; 12/48] END algorithm=auto, n_neighbors=9, p=3;, score=0.875 total time=   0.0s\n",
      "[CV 6/10; 12/48] START algorithm=auto, n_neighbors=9, p=3.......................\n",
      "[CV 6/10; 12/48] END algorithm=auto, n_neighbors=9, p=3;, score=0.938 total time=   0.0s\n",
      "[CV 7/10; 12/48] START algorithm=auto, n_neighbors=9, p=3.......................\n",
      "[CV 7/10; 12/48] END algorithm=auto, n_neighbors=9, p=3;, score=0.933 total time=   0.0s\n",
      "[CV 8/10; 12/48] START algorithm=auto, n_neighbors=9, p=3.......................\n",
      "[CV 8/10; 12/48] END algorithm=auto, n_neighbors=9, p=3;, score=0.867 total time=   0.0s\n",
      "[CV 9/10; 12/48] START algorithm=auto, n_neighbors=9, p=3.......................\n",
      "[CV 9/10; 12/48] END algorithm=auto, n_neighbors=9, p=3;, score=0.867 total time=   0.0s\n",
      "[CV 10/10; 12/48] START algorithm=auto, n_neighbors=9, p=3......................\n",
      "[CV 10/10; 12/48] END algorithm=auto, n_neighbors=9, p=3;, score=0.867 total time=   0.0s\n",
      "[CV 1/10; 13/48] START algorithm=ball_tree, n_neighbors=3, p=1..................\n",
      "[CV 1/10; 13/48] END algorithm=ball_tree, n_neighbors=3, p=1;, score=0.812 total time=   0.0s\n",
      "[CV 2/10; 13/48] START algorithm=ball_tree, n_neighbors=3, p=1..................\n",
      "[CV 2/10; 13/48] END algorithm=ball_tree, n_neighbors=3, p=1;, score=1.000 total time=   0.0s\n",
      "[CV 3/10; 13/48] START algorithm=ball_tree, n_neighbors=3, p=1..................\n",
      "[CV 3/10; 13/48] END algorithm=ball_tree, n_neighbors=3, p=1;, score=0.812 total time=   0.0s\n",
      "[CV 4/10; 13/48] START algorithm=ball_tree, n_neighbors=3, p=1..................\n",
      "[CV 4/10; 13/48] END algorithm=ball_tree, n_neighbors=3, p=1;, score=0.875 total time=   0.0s\n",
      "[CV 5/10; 13/48] START algorithm=ball_tree, n_neighbors=3, p=1..................\n",
      "[CV 5/10; 13/48] END algorithm=ball_tree, n_neighbors=3, p=1;, score=0.938 total time=   0.0s\n",
      "[CV 6/10; 13/48] START algorithm=ball_tree, n_neighbors=3, p=1..................\n",
      "[CV 6/10; 13/48] END algorithm=ball_tree, n_neighbors=3, p=1;, score=0.812 total time=   0.0s\n",
      "[CV 7/10; 13/48] START algorithm=ball_tree, n_neighbors=3, p=1..................\n",
      "[CV 7/10; 13/48] END algorithm=ball_tree, n_neighbors=3, p=1;, score=1.000 total time=   0.0s\n",
      "[CV 8/10; 13/48] START algorithm=ball_tree, n_neighbors=3, p=1..................\n",
      "[CV 8/10; 13/48] END algorithm=ball_tree, n_neighbors=3, p=1;, score=0.933 total time=   0.0s\n",
      "[CV 9/10; 13/48] START algorithm=ball_tree, n_neighbors=3, p=1..................\n",
      "[CV 9/10; 13/48] END algorithm=ball_tree, n_neighbors=3, p=1;, score=0.867 total time=   0.0s\n",
      "[CV 10/10; 13/48] START algorithm=ball_tree, n_neighbors=3, p=1.................\n",
      "[CV 10/10; 13/48] END algorithm=ball_tree, n_neighbors=3, p=1;, score=0.933 total time=   0.0s\n",
      "[CV 1/10; 14/48] START algorithm=ball_tree, n_neighbors=3, p=2..................\n",
      "[CV 1/10; 14/48] END algorithm=ball_tree, n_neighbors=3, p=2;, score=0.750 total time=   0.0s\n",
      "[CV 2/10; 14/48] START algorithm=ball_tree, n_neighbors=3, p=2..................\n",
      "[CV 2/10; 14/48] END algorithm=ball_tree, n_neighbors=3, p=2;, score=1.000 total time=   0.0s\n",
      "[CV 3/10; 14/48] START algorithm=ball_tree, n_neighbors=3, p=2..................\n",
      "[CV 3/10; 14/48] END algorithm=ball_tree, n_neighbors=3, p=2;, score=0.812 total time=   0.0s\n",
      "[CV 4/10; 14/48] START algorithm=ball_tree, n_neighbors=3, p=2..................\n",
      "[CV 4/10; 14/48] END algorithm=ball_tree, n_neighbors=3, p=2;, score=0.875 total time=   0.0s\n",
      "[CV 5/10; 14/48] START algorithm=ball_tree, n_neighbors=3, p=2..................\n",
      "[CV 5/10; 14/48] END algorithm=ball_tree, n_neighbors=3, p=2;, score=0.875 total time=   0.0s\n",
      "[CV 6/10; 14/48] START algorithm=ball_tree, n_neighbors=3, p=2..................\n",
      "[CV 6/10; 14/48] END algorithm=ball_tree, n_neighbors=3, p=2;, score=0.938 total time=   0.0s\n",
      "[CV 7/10; 14/48] START algorithm=ball_tree, n_neighbors=3, p=2..................\n",
      "[CV 7/10; 14/48] END algorithm=ball_tree, n_neighbors=3, p=2;, score=1.000 total time=   0.0s\n",
      "[CV 8/10; 14/48] START algorithm=ball_tree, n_neighbors=3, p=2..................\n",
      "[CV 8/10; 14/48] END algorithm=ball_tree, n_neighbors=3, p=2;, score=0.933 total time=   0.0s\n",
      "[CV 9/10; 14/48] START algorithm=ball_tree, n_neighbors=3, p=2..................\n",
      "[CV 9/10; 14/48] END algorithm=ball_tree, n_neighbors=3, p=2;, score=0.933 total time=   0.0s\n",
      "[CV 10/10; 14/48] START algorithm=ball_tree, n_neighbors=3, p=2.................\n",
      "[CV 10/10; 14/48] END algorithm=ball_tree, n_neighbors=3, p=2;, score=0.867 total time=   0.0s\n",
      "[CV 1/10; 15/48] START algorithm=ball_tree, n_neighbors=3, p=3..................\n",
      "[CV 1/10; 15/48] END algorithm=ball_tree, n_neighbors=3, p=3;, score=0.688 total time=   0.0s\n",
      "[CV 2/10; 15/48] START algorithm=ball_tree, n_neighbors=3, p=3..................\n",
      "[CV 2/10; 15/48] END algorithm=ball_tree, n_neighbors=3, p=3;, score=1.000 total time=   0.0s\n",
      "[CV 3/10; 15/48] START algorithm=ball_tree, n_neighbors=3, p=3..................\n",
      "[CV 3/10; 15/48] END algorithm=ball_tree, n_neighbors=3, p=3;, score=0.812 total time=   0.0s\n",
      "[CV 4/10; 15/48] START algorithm=ball_tree, n_neighbors=3, p=3..................\n",
      "[CV 4/10; 15/48] END algorithm=ball_tree, n_neighbors=3, p=3;, score=0.875 total time=   0.0s\n",
      "[CV 5/10; 15/48] START algorithm=ball_tree, n_neighbors=3, p=3..................\n",
      "[CV 5/10; 15/48] END algorithm=ball_tree, n_neighbors=3, p=3;, score=0.875 total time=   0.0s\n",
      "[CV 6/10; 15/48] START algorithm=ball_tree, n_neighbors=3, p=3..................\n",
      "[CV 6/10; 15/48] END algorithm=ball_tree, n_neighbors=3, p=3;, score=0.938 total time=   0.0s\n",
      "[CV 7/10; 15/48] START algorithm=ball_tree, n_neighbors=3, p=3..................\n",
      "[CV 7/10; 15/48] END algorithm=ball_tree, n_neighbors=3, p=3;, score=0.933 total time=   0.0s\n",
      "[CV 8/10; 15/48] START algorithm=ball_tree, n_neighbors=3, p=3..................\n",
      "[CV 8/10; 15/48] END algorithm=ball_tree, n_neighbors=3, p=3;, score=0.933 total time=   0.0s\n",
      "[CV 9/10; 15/48] START algorithm=ball_tree, n_neighbors=3, p=3..................\n",
      "[CV 9/10; 15/48] END algorithm=ball_tree, n_neighbors=3, p=3;, score=0.867 total time=   0.0s\n",
      "[CV 10/10; 15/48] START algorithm=ball_tree, n_neighbors=3, p=3.................\n",
      "[CV 10/10; 15/48] END algorithm=ball_tree, n_neighbors=3, p=3;, score=0.867 total time=   0.0s\n",
      "[CV 1/10; 16/48] START algorithm=ball_tree, n_neighbors=5, p=1..................\n",
      "[CV 1/10; 16/48] END algorithm=ball_tree, n_neighbors=5, p=1;, score=0.812 total time=   0.0s\n",
      "[CV 2/10; 16/48] START algorithm=ball_tree, n_neighbors=5, p=1..................\n",
      "[CV 2/10; 16/48] END algorithm=ball_tree, n_neighbors=5, p=1;, score=1.000 total time=   0.0s\n",
      "[CV 3/10; 16/48] START algorithm=ball_tree, n_neighbors=5, p=1..................\n",
      "[CV 3/10; 16/48] END algorithm=ball_tree, n_neighbors=5, p=1;, score=0.750 total time=   0.0s\n",
      "[CV 4/10; 16/48] START algorithm=ball_tree, n_neighbors=5, p=1..................\n",
      "[CV 4/10; 16/48] END algorithm=ball_tree, n_neighbors=5, p=1;, score=0.750 total time=   0.0s\n",
      "[CV 5/10; 16/48] START algorithm=ball_tree, n_neighbors=5, p=1..................\n",
      "[CV 5/10; 16/48] END algorithm=ball_tree, n_neighbors=5, p=1;, score=0.938 total time=   0.0s\n",
      "[CV 6/10; 16/48] START algorithm=ball_tree, n_neighbors=5, p=1..................\n",
      "[CV 6/10; 16/48] END algorithm=ball_tree, n_neighbors=5, p=1;, score=0.750 total time=   0.0s\n",
      "[CV 7/10; 16/48] START algorithm=ball_tree, n_neighbors=5, p=1..................\n",
      "[CV 7/10; 16/48] END algorithm=ball_tree, n_neighbors=5, p=1;, score=1.000 total time=   0.0s\n",
      "[CV 8/10; 16/48] START algorithm=ball_tree, n_neighbors=5, p=1..................\n",
      "[CV 8/10; 16/48] END algorithm=ball_tree, n_neighbors=5, p=1;, score=0.933 total time=   0.0s\n",
      "[CV 9/10; 16/48] START algorithm=ball_tree, n_neighbors=5, p=1..................\n",
      "[CV 9/10; 16/48] END algorithm=ball_tree, n_neighbors=5, p=1;, score=0.933 total time=   0.0s\n",
      "[CV 10/10; 16/48] START algorithm=ball_tree, n_neighbors=5, p=1.................\n",
      "[CV 10/10; 16/48] END algorithm=ball_tree, n_neighbors=5, p=1;, score=0.933 total time=   0.0s\n",
      "[CV 1/10; 17/48] START algorithm=ball_tree, n_neighbors=5, p=2..................\n",
      "[CV 1/10; 17/48] END algorithm=ball_tree, n_neighbors=5, p=2;, score=0.812 total time=   0.0s\n",
      "[CV 2/10; 17/48] START algorithm=ball_tree, n_neighbors=5, p=2..................\n",
      "[CV 2/10; 17/48] END algorithm=ball_tree, n_neighbors=5, p=2;, score=1.000 total time=   0.0s\n",
      "[CV 3/10; 17/48] START algorithm=ball_tree, n_neighbors=5, p=2..................\n",
      "[CV 3/10; 17/48] END algorithm=ball_tree, n_neighbors=5, p=2;, score=0.812 total time=   0.0s\n",
      "[CV 4/10; 17/48] START algorithm=ball_tree, n_neighbors=5, p=2..................\n",
      "[CV 4/10; 17/48] END algorithm=ball_tree, n_neighbors=5, p=2;, score=0.875 total time=   0.0s\n",
      "[CV 5/10; 17/48] START algorithm=ball_tree, n_neighbors=5, p=2..................\n",
      "[CV 5/10; 17/48] END algorithm=ball_tree, n_neighbors=5, p=2;, score=0.875 total time=   0.0s\n",
      "[CV 6/10; 17/48] START algorithm=ball_tree, n_neighbors=5, p=2..................\n",
      "[CV 6/10; 17/48] END algorithm=ball_tree, n_neighbors=5, p=2;, score=0.938 total time=   0.0s\n",
      "[CV 7/10; 17/48] START algorithm=ball_tree, n_neighbors=5, p=2..................\n",
      "[CV 7/10; 17/48] END algorithm=ball_tree, n_neighbors=5, p=2;, score=1.000 total time=   0.0s\n",
      "[CV 8/10; 17/48] START algorithm=ball_tree, n_neighbors=5, p=2..................\n"
     ]
    },
    {
     "name": "stdout",
     "output_type": "stream",
     "text": [
      "[CV 8/10; 17/48] END algorithm=ball_tree, n_neighbors=5, p=2;, score=0.933 total time=   0.0s\n",
      "[CV 9/10; 17/48] START algorithm=ball_tree, n_neighbors=5, p=2..................\n",
      "[CV 9/10; 17/48] END algorithm=ball_tree, n_neighbors=5, p=2;, score=0.933 total time=   0.0s\n",
      "[CV 10/10; 17/48] START algorithm=ball_tree, n_neighbors=5, p=2.................\n",
      "[CV 10/10; 17/48] END algorithm=ball_tree, n_neighbors=5, p=2;, score=0.867 total time=   0.0s\n",
      "[CV 1/10; 18/48] START algorithm=ball_tree, n_neighbors=5, p=3..................\n",
      "[CV 1/10; 18/48] END algorithm=ball_tree, n_neighbors=5, p=3;, score=0.750 total time=   0.0s\n",
      "[CV 2/10; 18/48] START algorithm=ball_tree, n_neighbors=5, p=3..................\n",
      "[CV 2/10; 18/48] END algorithm=ball_tree, n_neighbors=5, p=3;, score=1.000 total time=   0.0s\n",
      "[CV 3/10; 18/48] START algorithm=ball_tree, n_neighbors=5, p=3..................\n",
      "[CV 3/10; 18/48] END algorithm=ball_tree, n_neighbors=5, p=3;, score=0.812 total time=   0.0s\n",
      "[CV 4/10; 18/48] START algorithm=ball_tree, n_neighbors=5, p=3..................\n",
      "[CV 4/10; 18/48] END algorithm=ball_tree, n_neighbors=5, p=3;, score=0.750 total time=   0.0s\n",
      "[CV 5/10; 18/48] START algorithm=ball_tree, n_neighbors=5, p=3..................\n",
      "[CV 5/10; 18/48] END algorithm=ball_tree, n_neighbors=5, p=3;, score=0.875 total time=   0.0s\n",
      "[CV 6/10; 18/48] START algorithm=ball_tree, n_neighbors=5, p=3..................\n",
      "[CV 6/10; 18/48] END algorithm=ball_tree, n_neighbors=5, p=3;, score=0.938 total time=   0.0s\n",
      "[CV 7/10; 18/48] START algorithm=ball_tree, n_neighbors=5, p=3..................\n",
      "[CV 7/10; 18/48] END algorithm=ball_tree, n_neighbors=5, p=3;, score=1.000 total time=   0.0s\n",
      "[CV 8/10; 18/48] START algorithm=ball_tree, n_neighbors=5, p=3..................\n",
      "[CV 8/10; 18/48] END algorithm=ball_tree, n_neighbors=5, p=3;, score=0.867 total time=   0.0s\n",
      "[CV 9/10; 18/48] START algorithm=ball_tree, n_neighbors=5, p=3..................\n",
      "[CV 9/10; 18/48] END algorithm=ball_tree, n_neighbors=5, p=3;, score=0.800 total time=   0.0s\n",
      "[CV 10/10; 18/48] START algorithm=ball_tree, n_neighbors=5, p=3.................\n",
      "[CV 10/10; 18/48] END algorithm=ball_tree, n_neighbors=5, p=3;, score=0.867 total time=   0.0s\n",
      "[CV 1/10; 19/48] START algorithm=ball_tree, n_neighbors=7, p=1..................\n",
      "[CV 1/10; 19/48] END algorithm=ball_tree, n_neighbors=7, p=1;, score=0.750 total time=   0.0s\n",
      "[CV 2/10; 19/48] START algorithm=ball_tree, n_neighbors=7, p=1..................\n",
      "[CV 2/10; 19/48] END algorithm=ball_tree, n_neighbors=7, p=1;, score=0.938 total time=   0.0s\n",
      "[CV 3/10; 19/48] START algorithm=ball_tree, n_neighbors=7, p=1..................\n",
      "[CV 3/10; 19/48] END algorithm=ball_tree, n_neighbors=7, p=1;, score=0.812 total time=   0.0s\n",
      "[CV 4/10; 19/48] START algorithm=ball_tree, n_neighbors=7, p=1..................\n",
      "[CV 4/10; 19/48] END algorithm=ball_tree, n_neighbors=7, p=1;, score=0.750 total time=   0.0s\n",
      "[CV 5/10; 19/48] START algorithm=ball_tree, n_neighbors=7, p=1..................\n",
      "[CV 5/10; 19/48] END algorithm=ball_tree, n_neighbors=7, p=1;, score=0.938 total time=   0.0s\n",
      "[CV 6/10; 19/48] START algorithm=ball_tree, n_neighbors=7, p=1..................\n",
      "[CV 6/10; 19/48] END algorithm=ball_tree, n_neighbors=7, p=1;, score=0.750 total time=   0.0s\n",
      "[CV 7/10; 19/48] START algorithm=ball_tree, n_neighbors=7, p=1..................\n",
      "[CV 7/10; 19/48] END algorithm=ball_tree, n_neighbors=7, p=1;, score=1.000 total time=   0.0s\n",
      "[CV 8/10; 19/48] START algorithm=ball_tree, n_neighbors=7, p=1..................\n",
      "[CV 8/10; 19/48] END algorithm=ball_tree, n_neighbors=7, p=1;, score=0.867 total time=   0.0s\n",
      "[CV 9/10; 19/48] START algorithm=ball_tree, n_neighbors=7, p=1..................\n",
      "[CV 9/10; 19/48] END algorithm=ball_tree, n_neighbors=7, p=1;, score=0.933 total time=   0.0s\n",
      "[CV 10/10; 19/48] START algorithm=ball_tree, n_neighbors=7, p=1.................\n",
      "[CV 10/10; 19/48] END algorithm=ball_tree, n_neighbors=7, p=1;, score=0.933 total time=   0.0s\n",
      "[CV 1/10; 20/48] START algorithm=ball_tree, n_neighbors=7, p=2..................\n",
      "[CV 1/10; 20/48] END algorithm=ball_tree, n_neighbors=7, p=2;, score=0.750 total time=   0.0s\n",
      "[CV 2/10; 20/48] START algorithm=ball_tree, n_neighbors=7, p=2..................\n",
      "[CV 2/10; 20/48] END algorithm=ball_tree, n_neighbors=7, p=2;, score=0.938 total time=   0.0s\n",
      "[CV 3/10; 20/48] START algorithm=ball_tree, n_neighbors=7, p=2..................\n",
      "[CV 3/10; 20/48] END algorithm=ball_tree, n_neighbors=7, p=2;, score=0.812 total time=   0.0s\n",
      "[CV 4/10; 20/48] START algorithm=ball_tree, n_neighbors=7, p=2..................\n",
      "[CV 4/10; 20/48] END algorithm=ball_tree, n_neighbors=7, p=2;, score=0.750 total time=   0.0s\n",
      "[CV 5/10; 20/48] START algorithm=ball_tree, n_neighbors=7, p=2..................\n",
      "[CV 5/10; 20/48] END algorithm=ball_tree, n_neighbors=7, p=2;, score=0.812 total time=   0.0s\n",
      "[CV 6/10; 20/48] START algorithm=ball_tree, n_neighbors=7, p=2..................\n",
      "[CV 6/10; 20/48] END algorithm=ball_tree, n_neighbors=7, p=2;, score=0.875 total time=   0.0s\n",
      "[CV 7/10; 20/48] START algorithm=ball_tree, n_neighbors=7, p=2..................\n",
      "[CV 7/10; 20/48] END algorithm=ball_tree, n_neighbors=7, p=2;, score=0.867 total time=   0.0s\n",
      "[CV 8/10; 20/48] START algorithm=ball_tree, n_neighbors=7, p=2..................\n",
      "[CV 8/10; 20/48] END algorithm=ball_tree, n_neighbors=7, p=2;, score=0.867 total time=   0.0s\n",
      "[CV 9/10; 20/48] START algorithm=ball_tree, n_neighbors=7, p=2..................\n",
      "[CV 9/10; 20/48] END algorithm=ball_tree, n_neighbors=7, p=2;, score=0.933 total time=   0.0s\n",
      "[CV 10/10; 20/48] START algorithm=ball_tree, n_neighbors=7, p=2.................\n",
      "[CV 10/10; 20/48] END algorithm=ball_tree, n_neighbors=7, p=2;, score=0.933 total time=   0.0s\n",
      "[CV 1/10; 21/48] START algorithm=ball_tree, n_neighbors=7, p=3..................\n",
      "[CV 1/10; 21/48] END algorithm=ball_tree, n_neighbors=7, p=3;, score=0.688 total time=   0.0s\n",
      "[CV 2/10; 21/48] START algorithm=ball_tree, n_neighbors=7, p=3..................\n",
      "[CV 2/10; 21/48] END algorithm=ball_tree, n_neighbors=7, p=3;, score=0.875 total time=   0.0s\n",
      "[CV 3/10; 21/48] START algorithm=ball_tree, n_neighbors=7, p=3..................\n",
      "[CV 3/10; 21/48] END algorithm=ball_tree, n_neighbors=7, p=3;, score=0.750 total time=   0.0s\n",
      "[CV 4/10; 21/48] START algorithm=ball_tree, n_neighbors=7, p=3..................\n",
      "[CV 4/10; 21/48] END algorithm=ball_tree, n_neighbors=7, p=3;, score=0.750 total time=   0.0s\n",
      "[CV 5/10; 21/48] START algorithm=ball_tree, n_neighbors=7, p=3..................\n",
      "[CV 5/10; 21/48] END algorithm=ball_tree, n_neighbors=7, p=3;, score=0.875 total time=   0.0s\n",
      "[CV 6/10; 21/48] START algorithm=ball_tree, n_neighbors=7, p=3..................\n",
      "[CV 6/10; 21/48] END algorithm=ball_tree, n_neighbors=7, p=3;, score=0.938 total time=   0.0s\n",
      "[CV 7/10; 21/48] START algorithm=ball_tree, n_neighbors=7, p=3..................\n",
      "[CV 7/10; 21/48] END algorithm=ball_tree, n_neighbors=7, p=3;, score=0.933 total time=   0.0s\n",
      "[CV 8/10; 21/48] START algorithm=ball_tree, n_neighbors=7, p=3..................\n",
      "[CV 8/10; 21/48] END algorithm=ball_tree, n_neighbors=7, p=3;, score=0.867 total time=   0.0s\n",
      "[CV 9/10; 21/48] START algorithm=ball_tree, n_neighbors=7, p=3..................\n",
      "[CV 9/10; 21/48] END algorithm=ball_tree, n_neighbors=7, p=3;, score=0.867 total time=   0.0s\n",
      "[CV 10/10; 21/48] START algorithm=ball_tree, n_neighbors=7, p=3.................\n",
      "[CV 10/10; 21/48] END algorithm=ball_tree, n_neighbors=7, p=3;, score=0.933 total time=   0.0s\n",
      "[CV 1/10; 22/48] START algorithm=ball_tree, n_neighbors=9, p=1..................\n",
      "[CV 1/10; 22/48] END algorithm=ball_tree, n_neighbors=9, p=1;, score=0.750 total time=   0.0s\n",
      "[CV 2/10; 22/48] START algorithm=ball_tree, n_neighbors=9, p=1..................\n",
      "[CV 2/10; 22/48] END algorithm=ball_tree, n_neighbors=9, p=1;, score=0.938 total time=   0.0s\n",
      "[CV 3/10; 22/48] START algorithm=ball_tree, n_neighbors=9, p=1..................\n",
      "[CV 3/10; 22/48] END algorithm=ball_tree, n_neighbors=9, p=1;, score=0.812 total time=   0.0s\n",
      "[CV 4/10; 22/48] START algorithm=ball_tree, n_neighbors=9, p=1..................\n",
      "[CV 4/10; 22/48] END algorithm=ball_tree, n_neighbors=9, p=1;, score=0.750 total time=   0.0s\n",
      "[CV 5/10; 22/48] START algorithm=ball_tree, n_neighbors=9, p=1..................\n",
      "[CV 5/10; 22/48] END algorithm=ball_tree, n_neighbors=9, p=1;, score=0.875 total time=   0.0s\n",
      "[CV 6/10; 22/48] START algorithm=ball_tree, n_neighbors=9, p=1..................\n",
      "[CV 6/10; 22/48] END algorithm=ball_tree, n_neighbors=9, p=1;, score=0.750 total time=   0.0s\n",
      "[CV 7/10; 22/48] START algorithm=ball_tree, n_neighbors=9, p=1..................\n",
      "[CV 7/10; 22/48] END algorithm=ball_tree, n_neighbors=9, p=1;, score=0.867 total time=   0.0s\n",
      "[CV 8/10; 22/48] START algorithm=ball_tree, n_neighbors=9, p=1..................\n",
      "[CV 8/10; 22/48] END algorithm=ball_tree, n_neighbors=9, p=1;, score=0.800 total time=   0.0s\n",
      "[CV 9/10; 22/48] START algorithm=ball_tree, n_neighbors=9, p=1..................\n",
      "[CV 9/10; 22/48] END algorithm=ball_tree, n_neighbors=9, p=1;, score=0.933 total time=   0.0s\n",
      "[CV 10/10; 22/48] START algorithm=ball_tree, n_neighbors=9, p=1.................\n",
      "[CV 10/10; 22/48] END algorithm=ball_tree, n_neighbors=9, p=1;, score=0.933 total time=   0.0s\n",
      "[CV 1/10; 23/48] START algorithm=ball_tree, n_neighbors=9, p=2..................\n",
      "[CV 1/10; 23/48] END algorithm=ball_tree, n_neighbors=9, p=2;, score=0.688 total time=   0.0s\n",
      "[CV 2/10; 23/48] START algorithm=ball_tree, n_neighbors=9, p=2..................\n",
      "[CV 2/10; 23/48] END algorithm=ball_tree, n_neighbors=9, p=2;, score=0.875 total time=   0.0s\n",
      "[CV 3/10; 23/48] START algorithm=ball_tree, n_neighbors=9, p=2..................\n",
      "[CV 3/10; 23/48] END algorithm=ball_tree, n_neighbors=9, p=2;, score=0.875 total time=   0.0s\n",
      "[CV 4/10; 23/48] START algorithm=ball_tree, n_neighbors=9, p=2..................\n",
      "[CV 4/10; 23/48] END algorithm=ball_tree, n_neighbors=9, p=2;, score=0.750 total time=   0.0s\n",
      "[CV 5/10; 23/48] START algorithm=ball_tree, n_neighbors=9, p=2..................\n",
      "[CV 5/10; 23/48] END algorithm=ball_tree, n_neighbors=9, p=2;, score=0.875 total time=   0.0s\n",
      "[CV 6/10; 23/48] START algorithm=ball_tree, n_neighbors=9, p=2..................\n",
      "[CV 6/10; 23/48] END algorithm=ball_tree, n_neighbors=9, p=2;, score=0.875 total time=   0.0s\n",
      "[CV 7/10; 23/48] START algorithm=ball_tree, n_neighbors=9, p=2..................\n",
      "[CV 7/10; 23/48] END algorithm=ball_tree, n_neighbors=9, p=2;, score=0.933 total time=   0.0s\n",
      "[CV 8/10; 23/48] START algorithm=ball_tree, n_neighbors=9, p=2..................\n",
      "[CV 8/10; 23/48] END algorithm=ball_tree, n_neighbors=9, p=2;, score=0.867 total time=   0.0s\n",
      "[CV 9/10; 23/48] START algorithm=ball_tree, n_neighbors=9, p=2..................\n",
      "[CV 9/10; 23/48] END algorithm=ball_tree, n_neighbors=9, p=2;, score=0.933 total time=   0.0s\n",
      "[CV 10/10; 23/48] START algorithm=ball_tree, n_neighbors=9, p=2.................\n",
      "[CV 10/10; 23/48] END algorithm=ball_tree, n_neighbors=9, p=2;, score=0.933 total time=   0.0s\n",
      "[CV 1/10; 24/48] START algorithm=ball_tree, n_neighbors=9, p=3..................\n",
      "[CV 1/10; 24/48] END algorithm=ball_tree, n_neighbors=9, p=3;, score=0.688 total time=   0.0s\n",
      "[CV 2/10; 24/48] START algorithm=ball_tree, n_neighbors=9, p=3..................\n"
     ]
    },
    {
     "name": "stdout",
     "output_type": "stream",
     "text": [
      "[CV 2/10; 24/48] END algorithm=ball_tree, n_neighbors=9, p=3;, score=0.875 total time=   0.0s\n",
      "[CV 3/10; 24/48] START algorithm=ball_tree, n_neighbors=9, p=3..................\n",
      "[CV 3/10; 24/48] END algorithm=ball_tree, n_neighbors=9, p=3;, score=0.875 total time=   0.0s\n",
      "[CV 4/10; 24/48] START algorithm=ball_tree, n_neighbors=9, p=3..................\n",
      "[CV 4/10; 24/48] END algorithm=ball_tree, n_neighbors=9, p=3;, score=0.688 total time=   0.0s\n",
      "[CV 5/10; 24/48] START algorithm=ball_tree, n_neighbors=9, p=3..................\n",
      "[CV 5/10; 24/48] END algorithm=ball_tree, n_neighbors=9, p=3;, score=0.875 total time=   0.0s\n",
      "[CV 6/10; 24/48] START algorithm=ball_tree, n_neighbors=9, p=3..................\n",
      "[CV 6/10; 24/48] END algorithm=ball_tree, n_neighbors=9, p=3;, score=0.938 total time=   0.0s\n",
      "[CV 7/10; 24/48] START algorithm=ball_tree, n_neighbors=9, p=3..................\n",
      "[CV 7/10; 24/48] END algorithm=ball_tree, n_neighbors=9, p=3;, score=0.933 total time=   0.0s\n",
      "[CV 8/10; 24/48] START algorithm=ball_tree, n_neighbors=9, p=3..................\n",
      "[CV 8/10; 24/48] END algorithm=ball_tree, n_neighbors=9, p=3;, score=0.867 total time=   0.0s\n",
      "[CV 9/10; 24/48] START algorithm=ball_tree, n_neighbors=9, p=3..................\n",
      "[CV 9/10; 24/48] END algorithm=ball_tree, n_neighbors=9, p=3;, score=0.867 total time=   0.0s\n",
      "[CV 10/10; 24/48] START algorithm=ball_tree, n_neighbors=9, p=3.................\n",
      "[CV 10/10; 24/48] END algorithm=ball_tree, n_neighbors=9, p=3;, score=0.867 total time=   0.0s\n",
      "[CV 1/10; 25/48] START algorithm=kd_tree, n_neighbors=3, p=1....................\n",
      "[CV 1/10; 25/48] END algorithm=kd_tree, n_neighbors=3, p=1;, score=0.812 total time=   0.0s\n",
      "[CV 2/10; 25/48] START algorithm=kd_tree, n_neighbors=3, p=1....................\n",
      "[CV 2/10; 25/48] END algorithm=kd_tree, n_neighbors=3, p=1;, score=1.000 total time=   0.0s\n",
      "[CV 3/10; 25/48] START algorithm=kd_tree, n_neighbors=3, p=1....................\n",
      "[CV 3/10; 25/48] END algorithm=kd_tree, n_neighbors=3, p=1;, score=0.812 total time=   0.0s\n",
      "[CV 4/10; 25/48] START algorithm=kd_tree, n_neighbors=3, p=1....................\n",
      "[CV 4/10; 25/48] END algorithm=kd_tree, n_neighbors=3, p=1;, score=0.875 total time=   0.0s\n",
      "[CV 5/10; 25/48] START algorithm=kd_tree, n_neighbors=3, p=1....................\n",
      "[CV 5/10; 25/48] END algorithm=kd_tree, n_neighbors=3, p=1;, score=0.938 total time=   0.0s\n",
      "[CV 6/10; 25/48] START algorithm=kd_tree, n_neighbors=3, p=1....................\n",
      "[CV 6/10; 25/48] END algorithm=kd_tree, n_neighbors=3, p=1;, score=0.812 total time=   0.0s\n",
      "[CV 7/10; 25/48] START algorithm=kd_tree, n_neighbors=3, p=1....................\n",
      "[CV 7/10; 25/48] END algorithm=kd_tree, n_neighbors=3, p=1;, score=1.000 total time=   0.0s\n",
      "[CV 8/10; 25/48] START algorithm=kd_tree, n_neighbors=3, p=1....................\n",
      "[CV 8/10; 25/48] END algorithm=kd_tree, n_neighbors=3, p=1;, score=0.933 total time=   0.0s\n",
      "[CV 9/10; 25/48] START algorithm=kd_tree, n_neighbors=3, p=1....................\n",
      "[CV 9/10; 25/48] END algorithm=kd_tree, n_neighbors=3, p=1;, score=0.867 total time=   0.0s\n",
      "[CV 10/10; 25/48] START algorithm=kd_tree, n_neighbors=3, p=1...................\n",
      "[CV 10/10; 25/48] END algorithm=kd_tree, n_neighbors=3, p=1;, score=0.933 total time=   0.0s\n",
      "[CV 1/10; 26/48] START algorithm=kd_tree, n_neighbors=3, p=2....................\n",
      "[CV 1/10; 26/48] END algorithm=kd_tree, n_neighbors=3, p=2;, score=0.750 total time=   0.0s\n",
      "[CV 2/10; 26/48] START algorithm=kd_tree, n_neighbors=3, p=2....................\n",
      "[CV 2/10; 26/48] END algorithm=kd_tree, n_neighbors=3, p=2;, score=1.000 total time=   0.0s\n",
      "[CV 3/10; 26/48] START algorithm=kd_tree, n_neighbors=3, p=2....................\n",
      "[CV 3/10; 26/48] END algorithm=kd_tree, n_neighbors=3, p=2;, score=0.812 total time=   0.0s\n",
      "[CV 4/10; 26/48] START algorithm=kd_tree, n_neighbors=3, p=2....................\n",
      "[CV 4/10; 26/48] END algorithm=kd_tree, n_neighbors=3, p=2;, score=0.875 total time=   0.0s\n",
      "[CV 5/10; 26/48] START algorithm=kd_tree, n_neighbors=3, p=2....................\n",
      "[CV 5/10; 26/48] END algorithm=kd_tree, n_neighbors=3, p=2;, score=0.875 total time=   0.0s\n",
      "[CV 6/10; 26/48] START algorithm=kd_tree, n_neighbors=3, p=2....................\n",
      "[CV 6/10; 26/48] END algorithm=kd_tree, n_neighbors=3, p=2;, score=0.938 total time=   0.0s\n",
      "[CV 7/10; 26/48] START algorithm=kd_tree, n_neighbors=3, p=2....................\n",
      "[CV 7/10; 26/48] END algorithm=kd_tree, n_neighbors=3, p=2;, score=1.000 total time=   0.0s\n",
      "[CV 8/10; 26/48] START algorithm=kd_tree, n_neighbors=3, p=2....................\n",
      "[CV 8/10; 26/48] END algorithm=kd_tree, n_neighbors=3, p=2;, score=0.933 total time=   0.0s\n",
      "[CV 9/10; 26/48] START algorithm=kd_tree, n_neighbors=3, p=2....................\n",
      "[CV 9/10; 26/48] END algorithm=kd_tree, n_neighbors=3, p=2;, score=0.933 total time=   0.0s\n",
      "[CV 10/10; 26/48] START algorithm=kd_tree, n_neighbors=3, p=2...................\n",
      "[CV 10/10; 26/48] END algorithm=kd_tree, n_neighbors=3, p=2;, score=0.867 total time=   0.0s\n",
      "[CV 1/10; 27/48] START algorithm=kd_tree, n_neighbors=3, p=3....................\n",
      "[CV 1/10; 27/48] END algorithm=kd_tree, n_neighbors=3, p=3;, score=0.688 total time=   0.0s\n",
      "[CV 2/10; 27/48] START algorithm=kd_tree, n_neighbors=3, p=3....................\n",
      "[CV 2/10; 27/48] END algorithm=kd_tree, n_neighbors=3, p=3;, score=1.000 total time=   0.0s\n",
      "[CV 3/10; 27/48] START algorithm=kd_tree, n_neighbors=3, p=3....................\n",
      "[CV 3/10; 27/48] END algorithm=kd_tree, n_neighbors=3, p=3;, score=0.812 total time=   0.0s\n",
      "[CV 4/10; 27/48] START algorithm=kd_tree, n_neighbors=3, p=3....................\n",
      "[CV 4/10; 27/48] END algorithm=kd_tree, n_neighbors=3, p=3;, score=0.875 total time=   0.0s\n",
      "[CV 5/10; 27/48] START algorithm=kd_tree, n_neighbors=3, p=3....................\n",
      "[CV 5/10; 27/48] END algorithm=kd_tree, n_neighbors=3, p=3;, score=0.875 total time=   0.0s\n",
      "[CV 6/10; 27/48] START algorithm=kd_tree, n_neighbors=3, p=3....................\n",
      "[CV 6/10; 27/48] END algorithm=kd_tree, n_neighbors=3, p=3;, score=0.938 total time=   0.0s\n",
      "[CV 7/10; 27/48] START algorithm=kd_tree, n_neighbors=3, p=3....................\n",
      "[CV 7/10; 27/48] END algorithm=kd_tree, n_neighbors=3, p=3;, score=0.933 total time=   0.0s\n",
      "[CV 8/10; 27/48] START algorithm=kd_tree, n_neighbors=3, p=3....................\n",
      "[CV 8/10; 27/48] END algorithm=kd_tree, n_neighbors=3, p=3;, score=0.933 total time=   0.0s\n",
      "[CV 9/10; 27/48] START algorithm=kd_tree, n_neighbors=3, p=3....................\n",
      "[CV 9/10; 27/48] END algorithm=kd_tree, n_neighbors=3, p=3;, score=0.867 total time=   0.0s\n",
      "[CV 10/10; 27/48] START algorithm=kd_tree, n_neighbors=3, p=3...................\n",
      "[CV 10/10; 27/48] END algorithm=kd_tree, n_neighbors=3, p=3;, score=0.867 total time=   0.0s\n",
      "[CV 1/10; 28/48] START algorithm=kd_tree, n_neighbors=5, p=1....................\n",
      "[CV 1/10; 28/48] END algorithm=kd_tree, n_neighbors=5, p=1;, score=0.812 total time=   0.0s\n",
      "[CV 2/10; 28/48] START algorithm=kd_tree, n_neighbors=5, p=1....................\n",
      "[CV 2/10; 28/48] END algorithm=kd_tree, n_neighbors=5, p=1;, score=1.000 total time=   0.0s\n",
      "[CV 3/10; 28/48] START algorithm=kd_tree, n_neighbors=5, p=1....................\n",
      "[CV 3/10; 28/48] END algorithm=kd_tree, n_neighbors=5, p=1;, score=0.750 total time=   0.0s\n",
      "[CV 4/10; 28/48] START algorithm=kd_tree, n_neighbors=5, p=1....................\n",
      "[CV 4/10; 28/48] END algorithm=kd_tree, n_neighbors=5, p=1;, score=0.750 total time=   0.0s\n",
      "[CV 5/10; 28/48] START algorithm=kd_tree, n_neighbors=5, p=1....................\n",
      "[CV 5/10; 28/48] END algorithm=kd_tree, n_neighbors=5, p=1;, score=0.938 total time=   0.0s\n",
      "[CV 6/10; 28/48] START algorithm=kd_tree, n_neighbors=5, p=1....................\n",
      "[CV 6/10; 28/48] END algorithm=kd_tree, n_neighbors=5, p=1;, score=0.750 total time=   0.0s\n",
      "[CV 7/10; 28/48] START algorithm=kd_tree, n_neighbors=5, p=1....................\n",
      "[CV 7/10; 28/48] END algorithm=kd_tree, n_neighbors=5, p=1;, score=1.000 total time=   0.0s\n",
      "[CV 8/10; 28/48] START algorithm=kd_tree, n_neighbors=5, p=1....................\n",
      "[CV 8/10; 28/48] END algorithm=kd_tree, n_neighbors=5, p=1;, score=0.933 total time=   0.0s\n",
      "[CV 9/10; 28/48] START algorithm=kd_tree, n_neighbors=5, p=1....................\n",
      "[CV 9/10; 28/48] END algorithm=kd_tree, n_neighbors=5, p=1;, score=0.933 total time=   0.0s\n",
      "[CV 10/10; 28/48] START algorithm=kd_tree, n_neighbors=5, p=1...................\n",
      "[CV 10/10; 28/48] END algorithm=kd_tree, n_neighbors=5, p=1;, score=0.933 total time=   0.0s\n",
      "[CV 1/10; 29/48] START algorithm=kd_tree, n_neighbors=5, p=2....................\n",
      "[CV 1/10; 29/48] END algorithm=kd_tree, n_neighbors=5, p=2;, score=0.812 total time=   0.0s\n",
      "[CV 2/10; 29/48] START algorithm=kd_tree, n_neighbors=5, p=2....................\n",
      "[CV 2/10; 29/48] END algorithm=kd_tree, n_neighbors=5, p=2;, score=1.000 total time=   0.0s\n",
      "[CV 3/10; 29/48] START algorithm=kd_tree, n_neighbors=5, p=2....................\n",
      "[CV 3/10; 29/48] END algorithm=kd_tree, n_neighbors=5, p=2;, score=0.812 total time=   0.0s\n",
      "[CV 4/10; 29/48] START algorithm=kd_tree, n_neighbors=5, p=2....................\n",
      "[CV 4/10; 29/48] END algorithm=kd_tree, n_neighbors=5, p=2;, score=0.875 total time=   0.0s\n",
      "[CV 5/10; 29/48] START algorithm=kd_tree, n_neighbors=5, p=2....................\n",
      "[CV 5/10; 29/48] END algorithm=kd_tree, n_neighbors=5, p=2;, score=0.875 total time=   0.0s\n",
      "[CV 6/10; 29/48] START algorithm=kd_tree, n_neighbors=5, p=2....................\n",
      "[CV 6/10; 29/48] END algorithm=kd_tree, n_neighbors=5, p=2;, score=0.938 total time=   0.0s\n",
      "[CV 7/10; 29/48] START algorithm=kd_tree, n_neighbors=5, p=2....................\n",
      "[CV 7/10; 29/48] END algorithm=kd_tree, n_neighbors=5, p=2;, score=1.000 total time=   0.0s\n",
      "[CV 8/10; 29/48] START algorithm=kd_tree, n_neighbors=5, p=2....................\n",
      "[CV 8/10; 29/48] END algorithm=kd_tree, n_neighbors=5, p=2;, score=0.933 total time=   0.0s\n",
      "[CV 9/10; 29/48] START algorithm=kd_tree, n_neighbors=5, p=2....................\n",
      "[CV 9/10; 29/48] END algorithm=kd_tree, n_neighbors=5, p=2;, score=0.933 total time=   0.0s\n",
      "[CV 10/10; 29/48] START algorithm=kd_tree, n_neighbors=5, p=2...................\n",
      "[CV 10/10; 29/48] END algorithm=kd_tree, n_neighbors=5, p=2;, score=0.867 total time=   0.0s\n",
      "[CV 1/10; 30/48] START algorithm=kd_tree, n_neighbors=5, p=3....................\n",
      "[CV 1/10; 30/48] END algorithm=kd_tree, n_neighbors=5, p=3;, score=0.750 total time=   0.0s\n",
      "[CV 2/10; 30/48] START algorithm=kd_tree, n_neighbors=5, p=3....................\n"
     ]
    },
    {
     "name": "stdout",
     "output_type": "stream",
     "text": [
      "[CV 2/10; 30/48] END algorithm=kd_tree, n_neighbors=5, p=3;, score=1.000 total time=   0.0s\n",
      "[CV 3/10; 30/48] START algorithm=kd_tree, n_neighbors=5, p=3....................\n",
      "[CV 3/10; 30/48] END algorithm=kd_tree, n_neighbors=5, p=3;, score=0.812 total time=   0.0s\n",
      "[CV 4/10; 30/48] START algorithm=kd_tree, n_neighbors=5, p=3....................\n",
      "[CV 4/10; 30/48] END algorithm=kd_tree, n_neighbors=5, p=3;, score=0.750 total time=   0.0s\n",
      "[CV 5/10; 30/48] START algorithm=kd_tree, n_neighbors=5, p=3....................\n",
      "[CV 5/10; 30/48] END algorithm=kd_tree, n_neighbors=5, p=3;, score=0.875 total time=   0.0s\n",
      "[CV 6/10; 30/48] START algorithm=kd_tree, n_neighbors=5, p=3....................\n",
      "[CV 6/10; 30/48] END algorithm=kd_tree, n_neighbors=5, p=3;, score=0.938 total time=   0.0s\n",
      "[CV 7/10; 30/48] START algorithm=kd_tree, n_neighbors=5, p=3....................\n",
      "[CV 7/10; 30/48] END algorithm=kd_tree, n_neighbors=5, p=3;, score=1.000 total time=   0.0s\n",
      "[CV 8/10; 30/48] START algorithm=kd_tree, n_neighbors=5, p=3....................\n",
      "[CV 8/10; 30/48] END algorithm=kd_tree, n_neighbors=5, p=3;, score=0.867 total time=   0.0s\n",
      "[CV 9/10; 30/48] START algorithm=kd_tree, n_neighbors=5, p=3....................\n",
      "[CV 9/10; 30/48] END algorithm=kd_tree, n_neighbors=5, p=3;, score=0.800 total time=   0.0s\n",
      "[CV 10/10; 30/48] START algorithm=kd_tree, n_neighbors=5, p=3...................\n",
      "[CV 10/10; 30/48] END algorithm=kd_tree, n_neighbors=5, p=3;, score=0.867 total time=   0.0s\n",
      "[CV 1/10; 31/48] START algorithm=kd_tree, n_neighbors=7, p=1....................\n",
      "[CV 1/10; 31/48] END algorithm=kd_tree, n_neighbors=7, p=1;, score=0.750 total time=   0.0s\n",
      "[CV 2/10; 31/48] START algorithm=kd_tree, n_neighbors=7, p=1....................\n",
      "[CV 2/10; 31/48] END algorithm=kd_tree, n_neighbors=7, p=1;, score=0.938 total time=   0.0s\n",
      "[CV 3/10; 31/48] START algorithm=kd_tree, n_neighbors=7, p=1....................\n",
      "[CV 3/10; 31/48] END algorithm=kd_tree, n_neighbors=7, p=1;, score=0.812 total time=   0.0s\n",
      "[CV 4/10; 31/48] START algorithm=kd_tree, n_neighbors=7, p=1....................\n",
      "[CV 4/10; 31/48] END algorithm=kd_tree, n_neighbors=7, p=1;, score=0.750 total time=   0.0s\n",
      "[CV 5/10; 31/48] START algorithm=kd_tree, n_neighbors=7, p=1....................\n",
      "[CV 5/10; 31/48] END algorithm=kd_tree, n_neighbors=7, p=1;, score=0.938 total time=   0.0s\n",
      "[CV 6/10; 31/48] START algorithm=kd_tree, n_neighbors=7, p=1....................\n",
      "[CV 6/10; 31/48] END algorithm=kd_tree, n_neighbors=7, p=1;, score=0.750 total time=   0.0s\n",
      "[CV 7/10; 31/48] START algorithm=kd_tree, n_neighbors=7, p=1....................\n",
      "[CV 7/10; 31/48] END algorithm=kd_tree, n_neighbors=7, p=1;, score=1.000 total time=   0.0s\n",
      "[CV 8/10; 31/48] START algorithm=kd_tree, n_neighbors=7, p=1....................\n",
      "[CV 8/10; 31/48] END algorithm=kd_tree, n_neighbors=7, p=1;, score=0.867 total time=   0.0s\n",
      "[CV 9/10; 31/48] START algorithm=kd_tree, n_neighbors=7, p=1....................\n",
      "[CV 9/10; 31/48] END algorithm=kd_tree, n_neighbors=7, p=1;, score=0.933 total time=   0.0s\n",
      "[CV 10/10; 31/48] START algorithm=kd_tree, n_neighbors=7, p=1...................\n",
      "[CV 10/10; 31/48] END algorithm=kd_tree, n_neighbors=7, p=1;, score=0.933 total time=   0.0s\n",
      "[CV 1/10; 32/48] START algorithm=kd_tree, n_neighbors=7, p=2....................\n",
      "[CV 1/10; 32/48] END algorithm=kd_tree, n_neighbors=7, p=2;, score=0.750 total time=   0.0s\n",
      "[CV 2/10; 32/48] START algorithm=kd_tree, n_neighbors=7, p=2....................\n",
      "[CV 2/10; 32/48] END algorithm=kd_tree, n_neighbors=7, p=2;, score=0.938 total time=   0.0s\n",
      "[CV 3/10; 32/48] START algorithm=kd_tree, n_neighbors=7, p=2....................\n",
      "[CV 3/10; 32/48] END algorithm=kd_tree, n_neighbors=7, p=2;, score=0.812 total time=   0.0s\n",
      "[CV 4/10; 32/48] START algorithm=kd_tree, n_neighbors=7, p=2....................\n",
      "[CV 4/10; 32/48] END algorithm=kd_tree, n_neighbors=7, p=2;, score=0.750 total time=   0.0s\n",
      "[CV 5/10; 32/48] START algorithm=kd_tree, n_neighbors=7, p=2....................\n",
      "[CV 5/10; 32/48] END algorithm=kd_tree, n_neighbors=7, p=2;, score=0.812 total time=   0.0s\n",
      "[CV 6/10; 32/48] START algorithm=kd_tree, n_neighbors=7, p=2....................\n",
      "[CV 6/10; 32/48] END algorithm=kd_tree, n_neighbors=7, p=2;, score=0.875 total time=   0.0s\n",
      "[CV 7/10; 32/48] START algorithm=kd_tree, n_neighbors=7, p=2....................\n",
      "[CV 7/10; 32/48] END algorithm=kd_tree, n_neighbors=7, p=2;, score=0.867 total time=   0.0s\n",
      "[CV 8/10; 32/48] START algorithm=kd_tree, n_neighbors=7, p=2....................\n",
      "[CV 8/10; 32/48] END algorithm=kd_tree, n_neighbors=7, p=2;, score=0.867 total time=   0.0s\n",
      "[CV 9/10; 32/48] START algorithm=kd_tree, n_neighbors=7, p=2....................\n",
      "[CV 9/10; 32/48] END algorithm=kd_tree, n_neighbors=7, p=2;, score=0.933 total time=   0.0s\n",
      "[CV 10/10; 32/48] START algorithm=kd_tree, n_neighbors=7, p=2...................\n",
      "[CV 10/10; 32/48] END algorithm=kd_tree, n_neighbors=7, p=2;, score=0.933 total time=   0.0s\n",
      "[CV 1/10; 33/48] START algorithm=kd_tree, n_neighbors=7, p=3....................\n",
      "[CV 1/10; 33/48] END algorithm=kd_tree, n_neighbors=7, p=3;, score=0.688 total time=   0.0s\n",
      "[CV 2/10; 33/48] START algorithm=kd_tree, n_neighbors=7, p=3....................\n",
      "[CV 2/10; 33/48] END algorithm=kd_tree, n_neighbors=7, p=3;, score=0.875 total time=   0.0s\n",
      "[CV 3/10; 33/48] START algorithm=kd_tree, n_neighbors=7, p=3....................\n",
      "[CV 3/10; 33/48] END algorithm=kd_tree, n_neighbors=7, p=3;, score=0.750 total time=   0.0s\n",
      "[CV 4/10; 33/48] START algorithm=kd_tree, n_neighbors=7, p=3....................\n",
      "[CV 4/10; 33/48] END algorithm=kd_tree, n_neighbors=7, p=3;, score=0.750 total time=   0.0s\n",
      "[CV 5/10; 33/48] START algorithm=kd_tree, n_neighbors=7, p=3....................\n",
      "[CV 5/10; 33/48] END algorithm=kd_tree, n_neighbors=7, p=3;, score=0.875 total time=   0.0s\n",
      "[CV 6/10; 33/48] START algorithm=kd_tree, n_neighbors=7, p=3....................\n",
      "[CV 6/10; 33/48] END algorithm=kd_tree, n_neighbors=7, p=3;, score=0.938 total time=   0.0s\n",
      "[CV 7/10; 33/48] START algorithm=kd_tree, n_neighbors=7, p=3....................\n",
      "[CV 7/10; 33/48] END algorithm=kd_tree, n_neighbors=7, p=3;, score=0.933 total time=   0.0s\n",
      "[CV 8/10; 33/48] START algorithm=kd_tree, n_neighbors=7, p=3....................\n",
      "[CV 8/10; 33/48] END algorithm=kd_tree, n_neighbors=7, p=3;, score=0.867 total time=   0.0s\n",
      "[CV 9/10; 33/48] START algorithm=kd_tree, n_neighbors=7, p=3....................\n",
      "[CV 9/10; 33/48] END algorithm=kd_tree, n_neighbors=7, p=3;, score=0.867 total time=   0.0s\n",
      "[CV 10/10; 33/48] START algorithm=kd_tree, n_neighbors=7, p=3...................\n",
      "[CV 10/10; 33/48] END algorithm=kd_tree, n_neighbors=7, p=3;, score=0.933 total time=   0.0s\n",
      "[CV 1/10; 34/48] START algorithm=kd_tree, n_neighbors=9, p=1....................\n",
      "[CV 1/10; 34/48] END algorithm=kd_tree, n_neighbors=9, p=1;, score=0.750 total time=   0.0s\n",
      "[CV 2/10; 34/48] START algorithm=kd_tree, n_neighbors=9, p=1....................\n",
      "[CV 2/10; 34/48] END algorithm=kd_tree, n_neighbors=9, p=1;, score=0.938 total time=   0.0s\n",
      "[CV 3/10; 34/48] START algorithm=kd_tree, n_neighbors=9, p=1....................\n",
      "[CV 3/10; 34/48] END algorithm=kd_tree, n_neighbors=9, p=1;, score=0.812 total time=   0.0s\n",
      "[CV 4/10; 34/48] START algorithm=kd_tree, n_neighbors=9, p=1....................\n",
      "[CV 4/10; 34/48] END algorithm=kd_tree, n_neighbors=9, p=1;, score=0.750 total time=   0.0s\n",
      "[CV 5/10; 34/48] START algorithm=kd_tree, n_neighbors=9, p=1....................\n",
      "[CV 5/10; 34/48] END algorithm=kd_tree, n_neighbors=9, p=1;, score=0.875 total time=   0.0s\n",
      "[CV 6/10; 34/48] START algorithm=kd_tree, n_neighbors=9, p=1....................\n",
      "[CV 6/10; 34/48] END algorithm=kd_tree, n_neighbors=9, p=1;, score=0.750 total time=   0.0s\n",
      "[CV 7/10; 34/48] START algorithm=kd_tree, n_neighbors=9, p=1....................\n",
      "[CV 7/10; 34/48] END algorithm=kd_tree, n_neighbors=9, p=1;, score=0.867 total time=   0.0s\n",
      "[CV 8/10; 34/48] START algorithm=kd_tree, n_neighbors=9, p=1....................\n",
      "[CV 8/10; 34/48] END algorithm=kd_tree, n_neighbors=9, p=1;, score=0.800 total time=   0.0s\n",
      "[CV 9/10; 34/48] START algorithm=kd_tree, n_neighbors=9, p=1....................\n",
      "[CV 9/10; 34/48] END algorithm=kd_tree, n_neighbors=9, p=1;, score=0.933 total time=   0.0s\n",
      "[CV 10/10; 34/48] START algorithm=kd_tree, n_neighbors=9, p=1...................\n"
     ]
    },
    {
     "name": "stdout",
     "output_type": "stream",
     "text": [
      "[CV 10/10; 34/48] END algorithm=kd_tree, n_neighbors=9, p=1;, score=0.933 total time=   0.0s\n",
      "[CV 1/10; 35/48] START algorithm=kd_tree, n_neighbors=9, p=2....................\n",
      "[CV 1/10; 35/48] END algorithm=kd_tree, n_neighbors=9, p=2;, score=0.688 total time=   0.0s\n",
      "[CV 2/10; 35/48] START algorithm=kd_tree, n_neighbors=9, p=2....................\n",
      "[CV 2/10; 35/48] END algorithm=kd_tree, n_neighbors=9, p=2;, score=0.875 total time=   0.0s\n",
      "[CV 3/10; 35/48] START algorithm=kd_tree, n_neighbors=9, p=2....................\n",
      "[CV 3/10; 35/48] END algorithm=kd_tree, n_neighbors=9, p=2;, score=0.875 total time=   0.0s\n",
      "[CV 4/10; 35/48] START algorithm=kd_tree, n_neighbors=9, p=2....................\n",
      "[CV 4/10; 35/48] END algorithm=kd_tree, n_neighbors=9, p=2;, score=0.750 total time=   0.0s\n",
      "[CV 5/10; 35/48] START algorithm=kd_tree, n_neighbors=9, p=2....................\n",
      "[CV 5/10; 35/48] END algorithm=kd_tree, n_neighbors=9, p=2;, score=0.875 total time=   0.0s\n",
      "[CV 6/10; 35/48] START algorithm=kd_tree, n_neighbors=9, p=2....................\n",
      "[CV 6/10; 35/48] END algorithm=kd_tree, n_neighbors=9, p=2;, score=0.875 total time=   0.0s\n",
      "[CV 7/10; 35/48] START algorithm=kd_tree, n_neighbors=9, p=2....................\n",
      "[CV 7/10; 35/48] END algorithm=kd_tree, n_neighbors=9, p=2;, score=0.933 total time=   0.0s\n",
      "[CV 8/10; 35/48] START algorithm=kd_tree, n_neighbors=9, p=2....................\n",
      "[CV 8/10; 35/48] END algorithm=kd_tree, n_neighbors=9, p=2;, score=0.867 total time=   0.0s\n",
      "[CV 9/10; 35/48] START algorithm=kd_tree, n_neighbors=9, p=2....................\n",
      "[CV 9/10; 35/48] END algorithm=kd_tree, n_neighbors=9, p=2;, score=0.933 total time=   0.0s\n",
      "[CV 10/10; 35/48] START algorithm=kd_tree, n_neighbors=9, p=2...................\n",
      "[CV 10/10; 35/48] END algorithm=kd_tree, n_neighbors=9, p=2;, score=0.933 total time=   0.0s\n",
      "[CV 1/10; 36/48] START algorithm=kd_tree, n_neighbors=9, p=3....................\n",
      "[CV 1/10; 36/48] END algorithm=kd_tree, n_neighbors=9, p=3;, score=0.688 total time=   0.0s\n",
      "[CV 2/10; 36/48] START algorithm=kd_tree, n_neighbors=9, p=3....................\n",
      "[CV 2/10; 36/48] END algorithm=kd_tree, n_neighbors=9, p=3;, score=0.875 total time=   0.0s\n",
      "[CV 3/10; 36/48] START algorithm=kd_tree, n_neighbors=9, p=3....................\n",
      "[CV 3/10; 36/48] END algorithm=kd_tree, n_neighbors=9, p=3;, score=0.875 total time=   0.0s\n",
      "[CV 4/10; 36/48] START algorithm=kd_tree, n_neighbors=9, p=3....................\n",
      "[CV 4/10; 36/48] END algorithm=kd_tree, n_neighbors=9, p=3;, score=0.688 total time=   0.0s\n",
      "[CV 5/10; 36/48] START algorithm=kd_tree, n_neighbors=9, p=3....................\n",
      "[CV 5/10; 36/48] END algorithm=kd_tree, n_neighbors=9, p=3;, score=0.875 total time=   0.0s\n",
      "[CV 6/10; 36/48] START algorithm=kd_tree, n_neighbors=9, p=3....................\n",
      "[CV 6/10; 36/48] END algorithm=kd_tree, n_neighbors=9, p=3;, score=0.938 total time=   0.0s\n",
      "[CV 7/10; 36/48] START algorithm=kd_tree, n_neighbors=9, p=3....................\n",
      "[CV 7/10; 36/48] END algorithm=kd_tree, n_neighbors=9, p=3;, score=0.933 total time=   0.0s\n",
      "[CV 8/10; 36/48] START algorithm=kd_tree, n_neighbors=9, p=3....................\n",
      "[CV 8/10; 36/48] END algorithm=kd_tree, n_neighbors=9, p=3;, score=0.867 total time=   0.0s\n",
      "[CV 9/10; 36/48] START algorithm=kd_tree, n_neighbors=9, p=3....................\n",
      "[CV 9/10; 36/48] END algorithm=kd_tree, n_neighbors=9, p=3;, score=0.867 total time=   0.0s\n",
      "[CV 10/10; 36/48] START algorithm=kd_tree, n_neighbors=9, p=3...................\n",
      "[CV 10/10; 36/48] END algorithm=kd_tree, n_neighbors=9, p=3;, score=0.867 total time=   0.0s\n",
      "[CV 1/10; 37/48] START algorithm=brute, n_neighbors=3, p=1......................\n",
      "[CV 1/10; 37/48] END algorithm=brute, n_neighbors=3, p=1;, score=0.812 total time=   0.0s\n",
      "[CV 2/10; 37/48] START algorithm=brute, n_neighbors=3, p=1......................\n",
      "[CV 2/10; 37/48] END algorithm=brute, n_neighbors=3, p=1;, score=1.000 total time=   0.0s\n",
      "[CV 3/10; 37/48] START algorithm=brute, n_neighbors=3, p=1......................\n",
      "[CV 3/10; 37/48] END algorithm=brute, n_neighbors=3, p=1;, score=0.812 total time=   0.0s\n",
      "[CV 4/10; 37/48] START algorithm=brute, n_neighbors=3, p=1......................\n",
      "[CV 4/10; 37/48] END algorithm=brute, n_neighbors=3, p=1;, score=0.875 total time=   0.0s\n",
      "[CV 5/10; 37/48] START algorithm=brute, n_neighbors=3, p=1......................\n",
      "[CV 5/10; 37/48] END algorithm=brute, n_neighbors=3, p=1;, score=0.938 total time=   0.0s\n",
      "[CV 6/10; 37/48] START algorithm=brute, n_neighbors=3, p=1......................\n",
      "[CV 6/10; 37/48] END algorithm=brute, n_neighbors=3, p=1;, score=0.812 total time=   0.0s\n",
      "[CV 7/10; 37/48] START algorithm=brute, n_neighbors=3, p=1......................\n",
      "[CV 7/10; 37/48] END algorithm=brute, n_neighbors=3, p=1;, score=1.000 total time=   0.0s\n",
      "[CV 8/10; 37/48] START algorithm=brute, n_neighbors=3, p=1......................\n",
      "[CV 8/10; 37/48] END algorithm=brute, n_neighbors=3, p=1;, score=0.933 total time=   0.0s\n",
      "[CV 9/10; 37/48] START algorithm=brute, n_neighbors=3, p=1......................\n",
      "[CV 9/10; 37/48] END algorithm=brute, n_neighbors=3, p=1;, score=0.867 total time=   0.0s\n",
      "[CV 10/10; 37/48] START algorithm=brute, n_neighbors=3, p=1.....................\n",
      "[CV 10/10; 37/48] END algorithm=brute, n_neighbors=3, p=1;, score=0.933 total time=   0.0s\n",
      "[CV 1/10; 38/48] START algorithm=brute, n_neighbors=3, p=2......................\n",
      "[CV 1/10; 38/48] END algorithm=brute, n_neighbors=3, p=2;, score=0.750 total time=   0.0s\n",
      "[CV 2/10; 38/48] START algorithm=brute, n_neighbors=3, p=2......................\n",
      "[CV 2/10; 38/48] END algorithm=brute, n_neighbors=3, p=2;, score=1.000 total time=   0.0s\n",
      "[CV 3/10; 38/48] START algorithm=brute, n_neighbors=3, p=2......................\n",
      "[CV 3/10; 38/48] END algorithm=brute, n_neighbors=3, p=2;, score=0.812 total time=   0.0s\n",
      "[CV 4/10; 38/48] START algorithm=brute, n_neighbors=3, p=2......................\n",
      "[CV 4/10; 38/48] END algorithm=brute, n_neighbors=3, p=2;, score=0.875 total time=   0.0s\n",
      "[CV 5/10; 38/48] START algorithm=brute, n_neighbors=3, p=2......................\n",
      "[CV 5/10; 38/48] END algorithm=brute, n_neighbors=3, p=2;, score=0.875 total time=   0.0s\n",
      "[CV 6/10; 38/48] START algorithm=brute, n_neighbors=3, p=2......................\n",
      "[CV 6/10; 38/48] END algorithm=brute, n_neighbors=3, p=2;, score=0.938 total time=   0.0s\n",
      "[CV 7/10; 38/48] START algorithm=brute, n_neighbors=3, p=2......................\n",
      "[CV 7/10; 38/48] END algorithm=brute, n_neighbors=3, p=2;, score=1.000 total time=   0.0s\n",
      "[CV 8/10; 38/48] START algorithm=brute, n_neighbors=3, p=2......................\n",
      "[CV 8/10; 38/48] END algorithm=brute, n_neighbors=3, p=2;, score=0.933 total time=   0.0s\n",
      "[CV 9/10; 38/48] START algorithm=brute, n_neighbors=3, p=2......................\n",
      "[CV 9/10; 38/48] END algorithm=brute, n_neighbors=3, p=2;, score=0.933 total time=   0.0s\n",
      "[CV 10/10; 38/48] START algorithm=brute, n_neighbors=3, p=2.....................\n",
      "[CV 10/10; 38/48] END algorithm=brute, n_neighbors=3, p=2;, score=0.867 total time=   0.0s\n",
      "[CV 1/10; 39/48] START algorithm=brute, n_neighbors=3, p=3......................\n",
      "[CV 1/10; 39/48] END algorithm=brute, n_neighbors=3, p=3;, score=0.688 total time=   0.0s\n",
      "[CV 2/10; 39/48] START algorithm=brute, n_neighbors=3, p=3......................\n",
      "[CV 2/10; 39/48] END algorithm=brute, n_neighbors=3, p=3;, score=1.000 total time=   0.0s\n",
      "[CV 3/10; 39/48] START algorithm=brute, n_neighbors=3, p=3......................\n",
      "[CV 3/10; 39/48] END algorithm=brute, n_neighbors=3, p=3;, score=0.812 total time=   0.0s\n",
      "[CV 4/10; 39/48] START algorithm=brute, n_neighbors=3, p=3......................\n",
      "[CV 4/10; 39/48] END algorithm=brute, n_neighbors=3, p=3;, score=0.875 total time=   0.0s\n",
      "[CV 5/10; 39/48] START algorithm=brute, n_neighbors=3, p=3......................\n",
      "[CV 5/10; 39/48] END algorithm=brute, n_neighbors=3, p=3;, score=0.875 total time=   0.0s\n",
      "[CV 6/10; 39/48] START algorithm=brute, n_neighbors=3, p=3......................\n",
      "[CV 6/10; 39/48] END algorithm=brute, n_neighbors=3, p=3;, score=0.938 total time=   0.0s\n",
      "[CV 7/10; 39/48] START algorithm=brute, n_neighbors=3, p=3......................\n",
      "[CV 7/10; 39/48] END algorithm=brute, n_neighbors=3, p=3;, score=0.933 total time=   0.0s\n",
      "[CV 8/10; 39/48] START algorithm=brute, n_neighbors=3, p=3......................\n",
      "[CV 8/10; 39/48] END algorithm=brute, n_neighbors=3, p=3;, score=0.933 total time=   0.0s\n",
      "[CV 9/10; 39/48] START algorithm=brute, n_neighbors=3, p=3......................\n",
      "[CV 9/10; 39/48] END algorithm=brute, n_neighbors=3, p=3;, score=0.867 total time=   0.0s\n",
      "[CV 10/10; 39/48] START algorithm=brute, n_neighbors=3, p=3.....................\n",
      "[CV 10/10; 39/48] END algorithm=brute, n_neighbors=3, p=3;, score=0.867 total time=   0.0s\n",
      "[CV 1/10; 40/48] START algorithm=brute, n_neighbors=5, p=1......................\n"
     ]
    },
    {
     "name": "stdout",
     "output_type": "stream",
     "text": [
      "[CV 1/10; 40/48] END algorithm=brute, n_neighbors=5, p=1;, score=0.812 total time=   0.0s\n",
      "[CV 2/10; 40/48] START algorithm=brute, n_neighbors=5, p=1......................\n",
      "[CV 2/10; 40/48] END algorithm=brute, n_neighbors=5, p=1;, score=1.000 total time=   0.0s\n",
      "[CV 3/10; 40/48] START algorithm=brute, n_neighbors=5, p=1......................\n",
      "[CV 3/10; 40/48] END algorithm=brute, n_neighbors=5, p=1;, score=0.750 total time=   0.0s\n",
      "[CV 4/10; 40/48] START algorithm=brute, n_neighbors=5, p=1......................\n",
      "[CV 4/10; 40/48] END algorithm=brute, n_neighbors=5, p=1;, score=0.750 total time=   0.0s\n",
      "[CV 5/10; 40/48] START algorithm=brute, n_neighbors=5, p=1......................\n",
      "[CV 5/10; 40/48] END algorithm=brute, n_neighbors=5, p=1;, score=0.938 total time=   0.0s\n",
      "[CV 6/10; 40/48] START algorithm=brute, n_neighbors=5, p=1......................\n",
      "[CV 6/10; 40/48] END algorithm=brute, n_neighbors=5, p=1;, score=0.750 total time=   0.0s\n",
      "[CV 7/10; 40/48] START algorithm=brute, n_neighbors=5, p=1......................\n",
      "[CV 7/10; 40/48] END algorithm=brute, n_neighbors=5, p=1;, score=1.000 total time=   0.0s\n",
      "[CV 8/10; 40/48] START algorithm=brute, n_neighbors=5, p=1......................\n",
      "[CV 8/10; 40/48] END algorithm=brute, n_neighbors=5, p=1;, score=0.933 total time=   0.0s\n",
      "[CV 9/10; 40/48] START algorithm=brute, n_neighbors=5, p=1......................\n",
      "[CV 9/10; 40/48] END algorithm=brute, n_neighbors=5, p=1;, score=0.933 total time=   0.0s\n",
      "[CV 10/10; 40/48] START algorithm=brute, n_neighbors=5, p=1.....................\n",
      "[CV 10/10; 40/48] END algorithm=brute, n_neighbors=5, p=1;, score=0.933 total time=   0.0s\n",
      "[CV 1/10; 41/48] START algorithm=brute, n_neighbors=5, p=2......................\n",
      "[CV 1/10; 41/48] END algorithm=brute, n_neighbors=5, p=2;, score=0.812 total time=   0.0s\n",
      "[CV 2/10; 41/48] START algorithm=brute, n_neighbors=5, p=2......................\n",
      "[CV 2/10; 41/48] END algorithm=brute, n_neighbors=5, p=2;, score=1.000 total time=   0.0s\n",
      "[CV 3/10; 41/48] START algorithm=brute, n_neighbors=5, p=2......................\n",
      "[CV 3/10; 41/48] END algorithm=brute, n_neighbors=5, p=2;, score=0.812 total time=   0.0s\n",
      "[CV 4/10; 41/48] START algorithm=brute, n_neighbors=5, p=2......................\n",
      "[CV 4/10; 41/48] END algorithm=brute, n_neighbors=5, p=2;, score=0.875 total time=   0.0s\n",
      "[CV 5/10; 41/48] START algorithm=brute, n_neighbors=5, p=2......................\n",
      "[CV 5/10; 41/48] END algorithm=brute, n_neighbors=5, p=2;, score=0.875 total time=   0.0s\n",
      "[CV 6/10; 41/48] START algorithm=brute, n_neighbors=5, p=2......................\n",
      "[CV 6/10; 41/48] END algorithm=brute, n_neighbors=5, p=2;, score=0.938 total time=   0.0s\n",
      "[CV 7/10; 41/48] START algorithm=brute, n_neighbors=5, p=2......................\n",
      "[CV 7/10; 41/48] END algorithm=brute, n_neighbors=5, p=2;, score=1.000 total time=   0.0s\n",
      "[CV 8/10; 41/48] START algorithm=brute, n_neighbors=5, p=2......................\n",
      "[CV 8/10; 41/48] END algorithm=brute, n_neighbors=5, p=2;, score=0.933 total time=   0.0s\n",
      "[CV 9/10; 41/48] START algorithm=brute, n_neighbors=5, p=2......................\n",
      "[CV 9/10; 41/48] END algorithm=brute, n_neighbors=5, p=2;, score=0.933 total time=   0.0s\n",
      "[CV 10/10; 41/48] START algorithm=brute, n_neighbors=5, p=2.....................\n",
      "[CV 10/10; 41/48] END algorithm=brute, n_neighbors=5, p=2;, score=0.867 total time=   0.0s\n",
      "[CV 1/10; 42/48] START algorithm=brute, n_neighbors=5, p=3......................\n",
      "[CV 1/10; 42/48] END algorithm=brute, n_neighbors=5, p=3;, score=0.750 total time=   0.0s\n",
      "[CV 2/10; 42/48] START algorithm=brute, n_neighbors=5, p=3......................\n",
      "[CV 2/10; 42/48] END algorithm=brute, n_neighbors=5, p=3;, score=1.000 total time=   0.0s\n",
      "[CV 3/10; 42/48] START algorithm=brute, n_neighbors=5, p=3......................\n",
      "[CV 3/10; 42/48] END algorithm=brute, n_neighbors=5, p=3;, score=0.812 total time=   0.0s\n",
      "[CV 4/10; 42/48] START algorithm=brute, n_neighbors=5, p=3......................\n",
      "[CV 4/10; 42/48] END algorithm=brute, n_neighbors=5, p=3;, score=0.750 total time=   0.0s\n",
      "[CV 5/10; 42/48] START algorithm=brute, n_neighbors=5, p=3......................\n",
      "[CV 5/10; 42/48] END algorithm=brute, n_neighbors=5, p=3;, score=0.875 total time=   0.0s\n",
      "[CV 6/10; 42/48] START algorithm=brute, n_neighbors=5, p=3......................\n",
      "[CV 6/10; 42/48] END algorithm=brute, n_neighbors=5, p=3;, score=0.938 total time=   0.0s\n",
      "[CV 7/10; 42/48] START algorithm=brute, n_neighbors=5, p=3......................\n",
      "[CV 7/10; 42/48] END algorithm=brute, n_neighbors=5, p=3;, score=1.000 total time=   0.0s\n",
      "[CV 8/10; 42/48] START algorithm=brute, n_neighbors=5, p=3......................\n",
      "[CV 8/10; 42/48] END algorithm=brute, n_neighbors=5, p=3;, score=0.867 total time=   0.0s\n",
      "[CV 9/10; 42/48] START algorithm=brute, n_neighbors=5, p=3......................\n",
      "[CV 9/10; 42/48] END algorithm=brute, n_neighbors=5, p=3;, score=0.800 total time=   0.0s\n",
      "[CV 10/10; 42/48] START algorithm=brute, n_neighbors=5, p=3.....................\n",
      "[CV 10/10; 42/48] END algorithm=brute, n_neighbors=5, p=3;, score=0.867 total time=   0.0s\n",
      "[CV 1/10; 43/48] START algorithm=brute, n_neighbors=7, p=1......................\n",
      "[CV 1/10; 43/48] END algorithm=brute, n_neighbors=7, p=1;, score=0.750 total time=   0.0s\n",
      "[CV 2/10; 43/48] START algorithm=brute, n_neighbors=7, p=1......................\n",
      "[CV 2/10; 43/48] END algorithm=brute, n_neighbors=7, p=1;, score=0.938 total time=   0.0s\n",
      "[CV 3/10; 43/48] START algorithm=brute, n_neighbors=7, p=1......................\n",
      "[CV 3/10; 43/48] END algorithm=brute, n_neighbors=7, p=1;, score=0.812 total time=   0.0s\n",
      "[CV 4/10; 43/48] START algorithm=brute, n_neighbors=7, p=1......................\n",
      "[CV 4/10; 43/48] END algorithm=brute, n_neighbors=7, p=1;, score=0.750 total time=   0.0s\n",
      "[CV 5/10; 43/48] START algorithm=brute, n_neighbors=7, p=1......................\n",
      "[CV 5/10; 43/48] END algorithm=brute, n_neighbors=7, p=1;, score=0.938 total time=   0.0s\n",
      "[CV 6/10; 43/48] START algorithm=brute, n_neighbors=7, p=1......................\n",
      "[CV 6/10; 43/48] END algorithm=brute, n_neighbors=7, p=1;, score=0.750 total time=   0.0s\n",
      "[CV 7/10; 43/48] START algorithm=brute, n_neighbors=7, p=1......................\n",
      "[CV 7/10; 43/48] END algorithm=brute, n_neighbors=7, p=1;, score=1.000 total time=   0.0s\n",
      "[CV 8/10; 43/48] START algorithm=brute, n_neighbors=7, p=1......................\n",
      "[CV 8/10; 43/48] END algorithm=brute, n_neighbors=7, p=1;, score=0.867 total time=   0.0s\n",
      "[CV 9/10; 43/48] START algorithm=brute, n_neighbors=7, p=1......................\n",
      "[CV 9/10; 43/48] END algorithm=brute, n_neighbors=7, p=1;, score=0.933 total time=   0.0s\n",
      "[CV 10/10; 43/48] START algorithm=brute, n_neighbors=7, p=1.....................\n",
      "[CV 10/10; 43/48] END algorithm=brute, n_neighbors=7, p=1;, score=0.933 total time=   0.0s\n",
      "[CV 1/10; 44/48] START algorithm=brute, n_neighbors=7, p=2......................\n",
      "[CV 1/10; 44/48] END algorithm=brute, n_neighbors=7, p=2;, score=0.750 total time=   0.0s\n",
      "[CV 2/10; 44/48] START algorithm=brute, n_neighbors=7, p=2......................\n",
      "[CV 2/10; 44/48] END algorithm=brute, n_neighbors=7, p=2;, score=0.938 total time=   0.0s\n",
      "[CV 3/10; 44/48] START algorithm=brute, n_neighbors=7, p=2......................\n",
      "[CV 3/10; 44/48] END algorithm=brute, n_neighbors=7, p=2;, score=0.812 total time=   0.0s\n",
      "[CV 4/10; 44/48] START algorithm=brute, n_neighbors=7, p=2......................\n",
      "[CV 4/10; 44/48] END algorithm=brute, n_neighbors=7, p=2;, score=0.750 total time=   0.0s\n",
      "[CV 5/10; 44/48] START algorithm=brute, n_neighbors=7, p=2......................\n",
      "[CV 5/10; 44/48] END algorithm=brute, n_neighbors=7, p=2;, score=0.812 total time=   0.0s\n",
      "[CV 6/10; 44/48] START algorithm=brute, n_neighbors=7, p=2......................\n",
      "[CV 6/10; 44/48] END algorithm=brute, n_neighbors=7, p=2;, score=0.875 total time=   0.0s\n",
      "[CV 7/10; 44/48] START algorithm=brute, n_neighbors=7, p=2......................\n",
      "[CV 7/10; 44/48] END algorithm=brute, n_neighbors=7, p=2;, score=0.867 total time=   0.0s\n",
      "[CV 8/10; 44/48] START algorithm=brute, n_neighbors=7, p=2......................\n",
      "[CV 8/10; 44/48] END algorithm=brute, n_neighbors=7, p=2;, score=0.867 total time=   0.0s\n",
      "[CV 9/10; 44/48] START algorithm=brute, n_neighbors=7, p=2......................\n",
      "[CV 9/10; 44/48] END algorithm=brute, n_neighbors=7, p=2;, score=0.933 total time=   0.0s\n",
      "[CV 10/10; 44/48] START algorithm=brute, n_neighbors=7, p=2.....................\n",
      "[CV 10/10; 44/48] END algorithm=brute, n_neighbors=7, p=2;, score=0.933 total time=   0.0s\n",
      "[CV 1/10; 45/48] START algorithm=brute, n_neighbors=7, p=3......................\n",
      "[CV 1/10; 45/48] END algorithm=brute, n_neighbors=7, p=3;, score=0.688 total time=   0.0s\n",
      "[CV 2/10; 45/48] START algorithm=brute, n_neighbors=7, p=3......................\n",
      "[CV 2/10; 45/48] END algorithm=brute, n_neighbors=7, p=3;, score=0.875 total time=   0.0s\n",
      "[CV 3/10; 45/48] START algorithm=brute, n_neighbors=7, p=3......................\n",
      "[CV 3/10; 45/48] END algorithm=brute, n_neighbors=7, p=3;, score=0.750 total time=   0.0s\n",
      "[CV 4/10; 45/48] START algorithm=brute, n_neighbors=7, p=3......................\n",
      "[CV 4/10; 45/48] END algorithm=brute, n_neighbors=7, p=3;, score=0.750 total time=   0.0s\n",
      "[CV 5/10; 45/48] START algorithm=brute, n_neighbors=7, p=3......................\n",
      "[CV 5/10; 45/48] END algorithm=brute, n_neighbors=7, p=3;, score=0.875 total time=   0.0s\n",
      "[CV 6/10; 45/48] START algorithm=brute, n_neighbors=7, p=3......................\n"
     ]
    },
    {
     "name": "stdout",
     "output_type": "stream",
     "text": [
      "[CV 6/10; 45/48] END algorithm=brute, n_neighbors=7, p=3;, score=0.938 total time=   0.0s\n",
      "[CV 7/10; 45/48] START algorithm=brute, n_neighbors=7, p=3......................\n",
      "[CV 7/10; 45/48] END algorithm=brute, n_neighbors=7, p=3;, score=0.933 total time=   0.0s\n",
      "[CV 8/10; 45/48] START algorithm=brute, n_neighbors=7, p=3......................\n",
      "[CV 8/10; 45/48] END algorithm=brute, n_neighbors=7, p=3;, score=0.867 total time=   0.0s\n",
      "[CV 9/10; 45/48] START algorithm=brute, n_neighbors=7, p=3......................\n",
      "[CV 9/10; 45/48] END algorithm=brute, n_neighbors=7, p=3;, score=0.867 total time=   0.0s\n",
      "[CV 10/10; 45/48] START algorithm=brute, n_neighbors=7, p=3.....................\n",
      "[CV 10/10; 45/48] END algorithm=brute, n_neighbors=7, p=3;, score=0.933 total time=   0.0s\n",
      "[CV 1/10; 46/48] START algorithm=brute, n_neighbors=9, p=1......................\n",
      "[CV 1/10; 46/48] END algorithm=brute, n_neighbors=9, p=1;, score=0.750 total time=   0.0s\n",
      "[CV 2/10; 46/48] START algorithm=brute, n_neighbors=9, p=1......................\n",
      "[CV 2/10; 46/48] END algorithm=brute, n_neighbors=9, p=1;, score=0.938 total time=   0.0s\n",
      "[CV 3/10; 46/48] START algorithm=brute, n_neighbors=9, p=1......................\n",
      "[CV 3/10; 46/48] END algorithm=brute, n_neighbors=9, p=1;, score=0.812 total time=   0.0s\n",
      "[CV 4/10; 46/48] START algorithm=brute, n_neighbors=9, p=1......................\n",
      "[CV 4/10; 46/48] END algorithm=brute, n_neighbors=9, p=1;, score=0.750 total time=   0.0s\n",
      "[CV 5/10; 46/48] START algorithm=brute, n_neighbors=9, p=1......................\n",
      "[CV 5/10; 46/48] END algorithm=brute, n_neighbors=9, p=1;, score=0.875 total time=   0.0s\n",
      "[CV 6/10; 46/48] START algorithm=brute, n_neighbors=9, p=1......................\n",
      "[CV 6/10; 46/48] END algorithm=brute, n_neighbors=9, p=1;, score=0.750 total time=   0.0s\n",
      "[CV 7/10; 46/48] START algorithm=brute, n_neighbors=9, p=1......................\n",
      "[CV 7/10; 46/48] END algorithm=brute, n_neighbors=9, p=1;, score=0.867 total time=   0.0s\n",
      "[CV 8/10; 46/48] START algorithm=brute, n_neighbors=9, p=1......................\n",
      "[CV 8/10; 46/48] END algorithm=brute, n_neighbors=9, p=1;, score=0.800 total time=   0.0s\n",
      "[CV 9/10; 46/48] START algorithm=brute, n_neighbors=9, p=1......................\n",
      "[CV 9/10; 46/48] END algorithm=brute, n_neighbors=9, p=1;, score=0.933 total time=   0.0s\n",
      "[CV 10/10; 46/48] START algorithm=brute, n_neighbors=9, p=1.....................\n",
      "[CV 10/10; 46/48] END algorithm=brute, n_neighbors=9, p=1;, score=0.933 total time=   0.0s\n",
      "[CV 1/10; 47/48] START algorithm=brute, n_neighbors=9, p=2......................\n",
      "[CV 1/10; 47/48] END algorithm=brute, n_neighbors=9, p=2;, score=0.688 total time=   0.0s\n",
      "[CV 2/10; 47/48] START algorithm=brute, n_neighbors=9, p=2......................\n",
      "[CV 2/10; 47/48] END algorithm=brute, n_neighbors=9, p=2;, score=0.875 total time=   0.0s\n",
      "[CV 3/10; 47/48] START algorithm=brute, n_neighbors=9, p=2......................\n",
      "[CV 3/10; 47/48] END algorithm=brute, n_neighbors=9, p=2;, score=0.875 total time=   0.0s\n",
      "[CV 4/10; 47/48] START algorithm=brute, n_neighbors=9, p=2......................\n",
      "[CV 4/10; 47/48] END algorithm=brute, n_neighbors=9, p=2;, score=0.750 total time=   0.0s\n",
      "[CV 5/10; 47/48] START algorithm=brute, n_neighbors=9, p=2......................\n",
      "[CV 5/10; 47/48] END algorithm=brute, n_neighbors=9, p=2;, score=0.875 total time=   0.0s\n",
      "[CV 6/10; 47/48] START algorithm=brute, n_neighbors=9, p=2......................\n",
      "[CV 6/10; 47/48] END algorithm=brute, n_neighbors=9, p=2;, score=0.875 total time=   0.0s\n",
      "[CV 7/10; 47/48] START algorithm=brute, n_neighbors=9, p=2......................\n",
      "[CV 7/10; 47/48] END algorithm=brute, n_neighbors=9, p=2;, score=0.933 total time=   0.0s\n",
      "[CV 8/10; 47/48] START algorithm=brute, n_neighbors=9, p=2......................\n",
      "[CV 8/10; 47/48] END algorithm=brute, n_neighbors=9, p=2;, score=0.867 total time=   0.0s\n",
      "[CV 9/10; 47/48] START algorithm=brute, n_neighbors=9, p=2......................\n",
      "[CV 9/10; 47/48] END algorithm=brute, n_neighbors=9, p=2;, score=0.933 total time=   0.0s\n",
      "[CV 10/10; 47/48] START algorithm=brute, n_neighbors=9, p=2.....................\n",
      "[CV 10/10; 47/48] END algorithm=brute, n_neighbors=9, p=2;, score=0.933 total time=   0.0s\n",
      "[CV 1/10; 48/48] START algorithm=brute, n_neighbors=9, p=3......................\n",
      "[CV 1/10; 48/48] END algorithm=brute, n_neighbors=9, p=3;, score=0.688 total time=   0.0s\n",
      "[CV 2/10; 48/48] START algorithm=brute, n_neighbors=9, p=3......................\n",
      "[CV 2/10; 48/48] END algorithm=brute, n_neighbors=9, p=3;, score=0.875 total time=   0.0s\n",
      "[CV 3/10; 48/48] START algorithm=brute, n_neighbors=9, p=3......................\n",
      "[CV 3/10; 48/48] END algorithm=brute, n_neighbors=9, p=3;, score=0.875 total time=   0.0s\n",
      "[CV 4/10; 48/48] START algorithm=brute, n_neighbors=9, p=3......................\n",
      "[CV 4/10; 48/48] END algorithm=brute, n_neighbors=9, p=3;, score=0.688 total time=   0.0s\n",
      "[CV 5/10; 48/48] START algorithm=brute, n_neighbors=9, p=3......................\n",
      "[CV 5/10; 48/48] END algorithm=brute, n_neighbors=9, p=3;, score=0.875 total time=   0.0s\n",
      "[CV 6/10; 48/48] START algorithm=brute, n_neighbors=9, p=3......................\n",
      "[CV 6/10; 48/48] END algorithm=brute, n_neighbors=9, p=3;, score=0.938 total time=   0.0s\n",
      "[CV 7/10; 48/48] START algorithm=brute, n_neighbors=9, p=3......................\n",
      "[CV 7/10; 48/48] END algorithm=brute, n_neighbors=9, p=3;, score=0.933 total time=   0.0s\n",
      "[CV 8/10; 48/48] START algorithm=brute, n_neighbors=9, p=3......................\n",
      "[CV 8/10; 48/48] END algorithm=brute, n_neighbors=9, p=3;, score=0.867 total time=   0.0s\n",
      "[CV 9/10; 48/48] START algorithm=brute, n_neighbors=9, p=3......................\n",
      "[CV 9/10; 48/48] END algorithm=brute, n_neighbors=9, p=3;, score=0.867 total time=   0.0s\n",
      "[CV 10/10; 48/48] START algorithm=brute, n_neighbors=9, p=3.....................\n",
      "[CV 10/10; 48/48] END algorithm=brute, n_neighbors=9, p=3;, score=0.867 total time=   0.0s\n"
     ]
    },
    {
     "data": {
      "text/plain": [
       "GridSearchCV(cv=10, estimator=KNeighborsClassifier(),\n",
       "             param_grid={'algorithm': ['auto', 'ball_tree', 'kd_tree', 'brute'],\n",
       "                         'n_neighbors': [3, 5, 7, 9], 'p': [1, 2, 3]},\n",
       "             verbose=10)"
      ]
     },
     "execution_count": 175,
     "metadata": {},
     "output_type": "execute_result"
    }
   ],
   "source": [
    "gs.fit(X_train, Y_train)"
   ]
  },
  {
   "cell_type": "code",
   "execution_count": 176,
   "id": "2cce651d",
   "metadata": {},
   "outputs": [
    {
     "name": "stdout",
     "output_type": "stream",
     "text": [
      "{'algorithm': 'auto', 'n_neighbors': 5, 'p': 2}\n"
     ]
    }
   ],
   "source": [
    "print(gs.best_params_)"
   ]
  },
  {
   "cell_type": "code",
   "execution_count": 177,
   "id": "6f0776e7",
   "metadata": {},
   "outputs": [
    {
     "data": {
      "text/plain": [
       "array([1, 1, 1, 1, 0, 1, 1, 1, 1, 1, 1, 1, 1, 1, 1, 0, 1, 1, 1, 1, 1, 1,\n",
       "       0, 1, 1, 1, 1, 1, 0, 0, 1, 1, 1, 0, 1, 1, 0, 1, 0], dtype=int64)"
      ]
     },
     "execution_count": 177,
     "metadata": {},
     "output_type": "execute_result"
    }
   ],
   "source": [
    "Y_predmod8 = model8.predict(X_test)\n",
    "Y_predmod8"
   ]
  },
  {
   "cell_type": "code",
   "execution_count": 178,
   "id": "8182ac92",
   "metadata": {},
   "outputs": [
    {
     "data": {
      "text/plain": [
       "array([1, 1, 1, 1, 0, 1, 0, 1, 1, 1, 1, 1, 1, 1, 1, 0, 1, 1, 1, 1, 1, 0,\n",
       "       0, 1, 1, 1, 1, 1, 0, 0, 1, 1, 1, 0, 0, 1, 0, 1, 0], dtype=int64)"
      ]
     },
     "execution_count": 178,
     "metadata": {},
     "output_type": "execute_result"
    }
   ],
   "source": [
    "Y_test"
   ]
  },
  {
   "cell_type": "code",
   "execution_count": 179,
   "id": "ff1b24ef",
   "metadata": {},
   "outputs": [
    {
     "name": "stdout",
     "output_type": "stream",
     "text": [
      "Y_Pred          Y_test\n",
      "1               1\n",
      "1               1\n",
      "1               1\n",
      "1               1\n",
      "0               0\n",
      "1               1\n",
      "1               0\n",
      "1               1\n",
      "1               1\n",
      "1               1\n",
      "1               1\n",
      "1               1\n",
      "1               1\n",
      "1               1\n",
      "1               1\n",
      "0               0\n",
      "1               1\n",
      "1               1\n",
      "1               1\n",
      "1               1\n",
      "1               1\n",
      "1               0\n",
      "0               0\n",
      "1               1\n",
      "1               1\n",
      "1               1\n",
      "1               1\n",
      "1               1\n",
      "0               0\n",
      "0               0\n",
      "1               1\n",
      "1               1\n",
      "1               1\n",
      "0               0\n",
      "1               0\n",
      "1               1\n",
      "0               0\n",
      "1               1\n",
      "0               0\n"
     ]
    }
   ],
   "source": [
    "print('Y_Pred          Y_test')\n",
    "for i,j in zip(Y_predmod8,Y_test):\n",
    "    print(i,\"             \",j)"
   ]
  },
  {
   "cell_type": "code",
   "execution_count": 180,
   "id": "ba4f0ff2",
   "metadata": {},
   "outputs": [
    {
     "name": "stdout",
     "output_type": "stream",
     "text": [
      "KNeighborsClassifier()\n"
     ]
    }
   ],
   "source": [
    "print(gs.best_estimator_)"
   ]
  },
  {
   "cell_type": "code",
   "execution_count": 182,
   "id": "23fd283c",
   "metadata": {},
   "outputs": [
    {
     "data": {
      "text/plain": [
       "KNeighborsClassifier(n_neighbors=7, p=1)"
      ]
     },
     "execution_count": 182,
     "metadata": {},
     "output_type": "execute_result"
    }
   ],
   "source": [
    "new_model8 = KNeighborsClassifier(algorithm='auto', leaf_size=30, metric='minkowski',\n",
    "             n_neighbors=7, p=1,\n",
    "             weights='uniform')\n",
    "new_model8.fit(X_train, Y_train)"
   ]
  },
  {
   "cell_type": "code",
   "execution_count": 183,
   "id": "4a32ee16",
   "metadata": {},
   "outputs": [
    {
     "name": "stdout",
     "output_type": "stream",
     "text": [
      "KNN - k=7, got 92.3076923076923% accuracy on the test set.\n"
     ]
    }
   ],
   "source": [
    "print(\"KNN - k=7, got {}% accuracy on the test set.\".format(accuracy_score(Y_test, new_model8.predict(X_test))*100))"
   ]
  },
  {
   "cell_type": "code",
   "execution_count": 184,
   "id": "d266ceb6",
   "metadata": {},
   "outputs": [
    {
     "data": {
      "text/plain": [
       "0.9305210918114144"
      ]
     },
     "execution_count": 184,
     "metadata": {},
     "output_type": "execute_result"
    }
   ],
   "source": [
    "# precision score on test and train\n",
    "\n",
    "from sklearn.metrics import precision_score\n",
    "\n",
    "model8_precision_test = precision_score(Y_test,Y_predmod8,average='weighted')\n",
    "model8_precision_test"
   ]
  },
  {
   "cell_type": "code",
   "execution_count": 185,
   "id": "e58f49fa",
   "metadata": {},
   "outputs": [
    {
     "data": {
      "image/png": "[encoded data removed]",
      "text/plain": [
       "<Figure size 576x432 with 2 Axes>"
      ]
     },
     "metadata": {},
     "output_type": "display_data"
    }
   ],
   "source": [
    "# Confusion Matrix\n",
    "from sklearn.metrics import confusion_matrix\n",
    "import matplotlib.pyplot as plt\n",
    "\n",
    "cm = confusion_matrix(Y_test,Y_predmod8)\n",
    "import seaborn as sn                               #to made heat map\n",
    "plt.figure(figsize=(8,6))\n",
    "fg = sn.heatmap(cm, annot=True,cmap=\"YlGnBu\")\n",
    "figure =fg.get_figure()\n",
    "figure.savefig('KNN.jpg',dpi=400)\n",
    "plt.xlabel(\"Predicted\")\n",
    "plt.ylabel('Truth')\n",
    "plt.show()\n",
    "\n",
    "# از بین 39 مورد تست شده:\n",
    "# هشت نفر واقعا سالم هستن و ماشین هم پیش بینی کرده واقعا سالمن\n",
    "#صفر نفر واقعا بیماره ولی ماشین اشتباها پیش بینی کرده که سالم\n",
    "# سه نفر واقعا سالمن اما ماشین اشتباها پیش بینی کرده که بیمارن\n",
    "# بیست و هشت نفر واقعا بیمارن و ماشین به درستی پیش بینی کرده که بیمارن\n",
    "# درایه های روی قطراصلی به درستی پیش بینی شده اند\n",
    "\n",
    "# N: healthy       P: parkinson\n",
    "\n",
    "# [TN   FP]\n",
    "# [FN   TP]"
   ]
  },
  {
   "cell_type": "code",
   "execution_count": 186,
   "id": "9e837b6c",
   "metadata": {},
   "outputs": [
    {
     "name": "stdout",
     "output_type": "stream",
     "text": [
      "confusion_matrix\n",
      "[[ 8  3]\n",
      " [ 0 28]]\n",
      "\n",
      "accuracy: 0.9230769230769231\n",
      "\n",
      "recall: [0.72727273 1.        ]\n",
      "\n",
      "precision: [1.         0.90322581]\n"
     ]
    }
   ],
   "source": [
    "from sklearn.metrics import confusion_matrix, accuracy_score, recall_score, precision_score\n",
    "print (\"confusion_matrix\")\n",
    "print(confusion_matrix(Y_test,Y_predmod8))\n",
    "print(\"\\naccuracy:\",accuracy_score(Y_test,Y_predmod8))\n",
    "print(\"\\nrecall:\",recall_score(Y_test,Y_predmod8, average = None))\n",
    "print(\"\\nprecision:\",precision_score(Y_test,Y_predmod8, average = None))"
   ]
  },
  {
   "cell_type": "markdown",
   "id": "6838358a",
   "metadata": {},
   "source": [
    "## Naive Bayes Model"
   ]
  },
  {
   "cell_type": "code",
   "execution_count": 187,
   "id": "9fe0f66d",
   "metadata": {},
   "outputs": [
    {
     "data": {
      "text/plain": [
       "GaussianNB()"
      ]
     },
     "execution_count": 187,
     "metadata": {},
     "output_type": "execute_result"
    }
   ],
   "source": [
    "from sklearn.naive_bayes import GaussianNB\n",
    "\n",
    "model9 = GaussianNB()\n",
    "model9.fit(X_train,Y_train)"
   ]
  },
  {
   "cell_type": "code",
   "execution_count": 188,
   "id": "ba49d70a",
   "metadata": {},
   "outputs": [
    {
     "name": "stdout",
     "output_type": "stream",
     "text": [
      "[1 1 1 0 0 1 0 1 1 1 0 1 0 0 0 0 0 1 0 1 1 0 0 0 1 1 1 1 0 0 1 0 1 0 0 0 0\n",
      " 1 0]\n"
     ]
    }
   ],
   "source": [
    "Y_predmod9 = model9.predict(X_test)\n",
    "print(Y_predmod9)"
   ]
  },
  {
   "cell_type": "code",
   "execution_count": 189,
   "id": "6122d613",
   "metadata": {},
   "outputs": [
    {
     "data": {
      "text/plain": [
       "array([1, 1, 1, 1, 0, 1, 0, 1, 1, 1, 1, 1, 1, 1, 1, 0, 1, 1, 1, 1, 1, 0,\n",
       "       0, 1, 1, 1, 1, 1, 0, 0, 1, 1, 1, 0, 0, 1, 0, 1, 0], dtype=int64)"
      ]
     },
     "execution_count": 189,
     "metadata": {},
     "output_type": "execute_result"
    }
   ],
   "source": [
    "Y_test"
   ]
  },
  {
   "cell_type": "code",
   "execution_count": 190,
   "id": "2061bd96",
   "metadata": {},
   "outputs": [
    {
     "name": "stdout",
     "output_type": "stream",
     "text": [
      "Y_Pred          Y_test\n",
      "1               1\n",
      "1               1\n",
      "1               1\n",
      "0               1\n",
      "0               0\n",
      "1               1\n",
      "0               0\n",
      "1               1\n",
      "1               1\n",
      "1               1\n",
      "0               1\n",
      "1               1\n",
      "0               1\n",
      "0               1\n",
      "0               1\n",
      "0               0\n",
      "0               1\n",
      "1               1\n",
      "0               1\n",
      "1               1\n",
      "1               1\n",
      "0               0\n",
      "0               0\n",
      "0               1\n",
      "1               1\n",
      "1               1\n",
      "1               1\n",
      "1               1\n",
      "0               0\n",
      "0               0\n",
      "1               1\n",
      "0               1\n",
      "1               1\n",
      "0               0\n",
      "0               0\n",
      "0               1\n",
      "0               0\n",
      "1               1\n",
      "0               0\n"
     ]
    }
   ],
   "source": [
    "print('Y_Pred          Y_test')\n",
    "for i,j in zip(Y_predmod9,Y_test):\n",
    "    print(i,\"             \",j)"
   ]
  },
  {
   "cell_type": "code",
   "execution_count": 191,
   "id": "1202d6d2",
   "metadata": {},
   "outputs": [
    {
     "name": "stdout",
     "output_type": "stream",
     "text": [
      "Naive Bayes Model Accuracy : \n"
     ]
    },
    {
     "data": {
      "text/plain": [
       "0.7435897435897436"
      ]
     },
     "execution_count": 191,
     "metadata": {},
     "output_type": "execute_result"
    }
   ],
   "source": [
    "print(\"Naive Bayes Model Accuracy : \")\n",
    "model9.score(X_test,Y_test)"
   ]
  },
  {
   "cell_type": "code",
   "execution_count": 192,
   "id": "7c5c5db2",
   "metadata": {},
   "outputs": [
    {
     "data": {
      "image/png": "[encoded data removed]",
      "text/plain": [
       "<Figure size 576x432 with 2 Axes>"
      ]
     },
     "metadata": {},
     "output_type": "display_data"
    }
   ],
   "source": [
    "# Confusion Matrix\n",
    "from sklearn.metrics import confusion_matrix\n",
    "import matplotlib.pyplot as plt\n",
    "\n",
    "cm = confusion_matrix(Y_test,Y_predmod9)\n",
    "import seaborn as sn                               #to made heat map\n",
    "plt.figure(figsize=(8,6))\n",
    "fg = sn.heatmap(cm, annot=True,cmap=\"Oranges\")\n",
    "figure =fg.get_figure()\n",
    "figure.savefig('Naive_Bayes.jpg',dpi=400)\n",
    "plt.xlabel(\"Predicted\")\n",
    "plt.ylabel('Truth')\n",
    "plt.show()\n",
    "\n",
    "# از بین 39 مورد تست شده:\n",
    "#یازده نفر واقعا سالم هستن و ماشین هم پیش بینی کرده واقعا سالمن\n",
    "#ده نفر واقعا بیماره ولی ماشین اشتباها پیش بینی کرده که سالم\n",
    "# صفر نفر واقعا سالمن اما ماشین اشتباها پیش بینی کرده که بیمارن\n",
    "# هجده نفر واقعا بیمارن و ماشین به درستی پیش بینی کرده که بیمارن\n",
    "# درایه های روی قطراصلی به درستی پیش بینی شده اند\n",
    "\n",
    "# N: healthy       P: parkinson\n",
    "\n",
    "# [TN   FP]\n",
    "# [FN   TP]"
   ]
  },
  {
   "cell_type": "code",
   "execution_count": 193,
   "id": "5164779c",
   "metadata": {},
   "outputs": [
    {
     "name": "stdout",
     "output_type": "stream",
     "text": [
      "confusion_matrix\n",
      "[[11  0]\n",
      " [10 18]]\n",
      "\n",
      "accuracy: 0.7435897435897436\n",
      "\n",
      "recall: [1.         0.64285714]\n",
      "\n",
      "precision: [0.52380952 1.        ]\n"
     ]
    }
   ],
   "source": [
    "# precision score on test and train\n",
    "from sklearn.metrics import confusion_matrix, accuracy_score, recall_score, precision_score\n",
    "print (\"confusion_matrix\")\n",
    "print(confusion_matrix(Y_test,Y_predmod9))\n",
    "print(\"\\naccuracy:\",accuracy_score(Y_test,Y_predmod9))\n",
    "print(\"\\nrecall:\",recall_score(Y_test,Y_predmod9, average = None))\n",
    "print(\"\\nprecision:\",precision_score(Y_test,Y_predmod9, average = None))\n",
    "\n",
    "#model9_precision_test = precision_score(Y_test,Y_predmod9,average= 'weighted')"
   ]
  },
  {
   "cell_type": "markdown",
   "id": "642deab1",
   "metadata": {},
   "source": [
    "# All Models Accuracy"
   ]
  },
  {
   "cell_type": "code",
   "execution_count": 194,
   "id": "4075b5f3",
   "metadata": {
    "scrolled": true
   },
   "outputs": [
    {
     "name": "stdout",
     "output_type": "stream",
     "text": [
      "\n",
      " Linear Regression accuracy: 0.9230769230769231\n",
      "\n",
      " Logistic Regression accuracy: 0.9743589743589743\n",
      "\n",
      " Decision Tree accuracy: 0.9230769230769231\n",
      "\n",
      " Support Vector Machine accuracy: 0.9487179487179487\n",
      "\n",
      " Random Forrest accuracy: 0.9487179487179487\n",
      "\n",
      " XGBClassifier accuracy: 1.0\n",
      "\n",
      " Neural Network accuracy: 0.9230769230769231\n",
      "\n",
      " k-nearest Neighbor accuracy: 0.9230769230769231\n",
      "\n",
      " Naive Bayes accuracy: 0.7435897435897436\n"
     ]
    }
   ],
   "source": [
    "from sklearn.metrics import accuracy_score\n",
    "\n",
    "print(\"\\n Linear Regression accuracy:\",accuracy_score(Y_test,Y_predmod1))\n",
    "print(\"\\n Logistic Regression accuracy:\",accuracy_score(Y_test,Y_predmod2))\n",
    "print(\"\\n Decision Tree accuracy:\",accuracy_score(Y_test,Y_predmod3))\n",
    "print(\"\\n Support Vector Machine accuracy:\",accuracy_score(Y_test,Y_predmod4))\n",
    "print(\"\\n Random Forrest accuracy:\",accuracy_score(Y_test,Y_predmod5))\n",
    "print(\"\\n XGBClassifier accuracy:\",accuracy_score(Y_test,Y_predmod6))\n",
    "print(\"\\n Neural Network accuracy:\",accuracy_score(Y_test,Y_predmod7))\n",
    "print(\"\\n k-nearest Neighbor accuracy:\",accuracy_score(Y_test,Y_predmod8))\n",
    "print(\"\\n Naive Bayes accuracy:\",accuracy_score(Y_test,Y_predmod9))"
   ]
  },
  {
   "cell_type": "code",
   "execution_count": 195,
   "id": "1252f71b",
   "metadata": {},
   "outputs": [
    {
     "name": "stdout",
     "output_type": "stream",
     "text": [
      "\n",
      " Linear Regression accuracy:\n",
      " [[ 8  3]\n",
      " [ 0 28]]\n",
      "\n",
      " Logistic Regression accuracy:\n",
      " [[11  0]\n",
      " [ 1 27]]\n",
      "\n",
      " Decision Tree accuracy:\n",
      " [[ 9  2]\n",
      " [ 1 27]]\n",
      "\n",
      " Support Vector Machine accuracy:\n",
      " [[ 9  2]\n",
      " [ 0 28]]\n",
      "\n",
      " Random Forrest accuracy:\n",
      " [[10  1]\n",
      " [ 1 27]]\n",
      "\n",
      " XGBClassifier accuracy:\n",
      " [[11  0]\n",
      " [ 0 28]]\n",
      "\n",
      " Neural Network accuracy:\n",
      " [[10  1]\n",
      " [ 2 26]]\n",
      "\n",
      " k-nearest Neighbor accuracy:\n",
      " [[ 8  3]\n",
      " [ 0 28]]\n",
      "\n",
      " Naive Bayes accuracy:\n",
      " [[11  0]\n",
      " [10 18]]\n"
     ]
    }
   ],
   "source": [
    "from sklearn.metrics import confusion_matrix, recall_score, precision_score\n",
    "\n",
    "print(\"\\n Linear Regression accuracy:\\n\",confusion_matrix(Y_test,Y_predmod1))\n",
    "print(\"\\n Logistic Regression accuracy:\\n\",confusion_matrix(Y_test,Y_predmod2))\n",
    "print(\"\\n Decision Tree accuracy:\\n\",confusion_matrix(Y_test,Y_predmod3))\n",
    "print(\"\\n Support Vector Machine accuracy:\\n\",confusion_matrix(Y_test,Y_predmod4))\n",
    "print(\"\\n Random Forrest accuracy:\\n\",confusion_matrix(Y_test,Y_predmod5))\n",
    "print(\"\\n XGBClassifier accuracy:\\n\",confusion_matrix(Y_test,Y_predmod6))\n",
    "print(\"\\n Neural Network accuracy:\\n\",confusion_matrix(Y_test,Y_predmod7))\n",
    "print(\"\\n k-nearest Neighbor accuracy:\\n\",confusion_matrix(Y_test,Y_predmod8))\n",
    "print(\"\\n Naive Bayes accuracy:\\n\",confusion_matrix(Y_test,Y_predmod9))"
   ]
  },
  {
   "cell_type": "code",
   "execution_count": 196,
   "id": "63337bfa",
   "metadata": {},
   "outputs": [
    {
     "name": "stdout",
     "output_type": "stream",
     "text": [
      "\n",
      " Linear Regression accuracy:\n",
      " 1.0\n",
      "\n",
      " Logistic Regression accuracy:\n",
      " 0.9642857142857143\n",
      "\n",
      " Decision Tree accuracy:\n",
      " 0.9642857142857143\n",
      "\n",
      " Support Vector Machine accuracy:\n",
      " 1.0\n",
      "\n",
      " Random Forrest accuracy:\n",
      " 0.9642857142857143\n",
      "\n",
      " XGBClassifier accuracy:\n",
      " 1.0\n",
      "\n",
      " Neural Network accuracy:\n",
      " 0.9285714285714286\n",
      "\n",
      " k-nearest Neighbor accuracy:\n",
      " 1.0\n",
      "\n",
      " Naive Bayes accuracy:\n",
      " 0.6428571428571429\n"
     ]
    }
   ],
   "source": [
    "from sklearn.metrics import recall_score, precision_score\n",
    "\n",
    "print(\"\\n Linear Regression accuracy:\\n\",recall_score(Y_test,Y_predmod1))\n",
    "print(\"\\n Logistic Regression accuracy:\\n\",recall_score(Y_test,Y_predmod2))\n",
    "print(\"\\n Decision Tree accuracy:\\n\",recall_score(Y_test,Y_predmod3))\n",
    "print(\"\\n Support Vector Machine accuracy:\\n\",recall_score(Y_test,Y_predmod4))\n",
    "print(\"\\n Random Forrest accuracy:\\n\",recall_score(Y_test,Y_predmod5))\n",
    "print(\"\\n XGBClassifier accuracy:\\n\",recall_score(Y_test,Y_predmod6))\n",
    "print(\"\\n Neural Network accuracy:\\n\",recall_score(Y_test,Y_predmod7))\n",
    "print(\"\\n k-nearest Neighbor accuracy:\\n\",recall_score(Y_test,Y_predmod8))\n",
    "print(\"\\n Naive Bayes accuracy:\\n\",recall_score(Y_test,Y_predmod9))"
   ]
  },
  {
   "cell_type": "code",
   "execution_count": 197,
   "id": "7f195d91",
   "metadata": {},
   "outputs": [
    {
     "name": "stdout",
     "output_type": "stream",
     "text": [
      "\n",
      " Linear Regression accuracy:\n",
      " 0.9032258064516129\n",
      "\n",
      " Logistic Regression accuracy:\n",
      " 1.0\n",
      "\n",
      " Decision Tree accuracy:\n",
      " 0.9310344827586207\n",
      "\n",
      " Support Vector Machine accuracy:\n",
      " 0.9333333333333333\n",
      "\n",
      " Random Forrest accuracy:\n",
      " 0.9642857142857143\n",
      "\n",
      " XGBClassifier accuracy:\n",
      " 1.0\n",
      "\n",
      " Neural Network accuracy:\n",
      " 0.9629629629629629\n",
      "\n",
      " k-nearest Neighbor accuracy:\n",
      " 0.9032258064516129\n",
      "\n",
      " Naive Bayes accuracy:\n",
      " 1.0\n"
     ]
    }
   ],
   "source": [
    "from sklearn.metrics import precision_score\n",
    "\n",
    "print(\"\\n Linear Regression accuracy:\\n\", precision_score(Y_test,Y_predmod1))\n",
    "print(\"\\n Logistic Regression accuracy:\\n\", precision_score(Y_test,Y_predmod2))\n",
    "print(\"\\n Decision Tree accuracy:\\n\", precision_score(Y_test,Y_predmod3))\n",
    "print(\"\\n Support Vector Machine accuracy:\\n\", precision_score(Y_test,Y_predmod4))\n",
    "print(\"\\n Random Forrest accuracy:\\n\", precision_score(Y_test,Y_predmod5))\n",
    "print(\"\\n XGBClassifier accuracy:\\n\", precision_score(Y_test,Y_predmod6))\n",
    "print(\"\\n Neural Network accuracy:\\n\", precision_score(Y_test,Y_predmod7))\n",
    "print(\"\\n k-nearest Neighbor accuracy:\\n\", precision_score(Y_test,Y_predmod8))\n",
    "print(\"\\n Naive Bayes accuracy:\\n\", precision_score(Y_test,Y_predmod9))"
   ]
  }
 ],
 "metadata": {
  "kernelspec": {
   "display_name": "Python 3 (ipykernel)",
   "language": "python",
   "name": "python3"
  },
  "language_info": {
   "codemirror_mode": {
    "name": "ipython",
    "version": 3
   },
   "file_extension": ".py",
   "mimetype": "text/x-python",
   "name": "python",
   "nbconvert_exporter": "python",
   "pygments_lexer": "ipython3",
   "version": "3.9.0"
  },
  "varInspector": {
   "cols": {
    "lenName": 16,
    "lenType": 16,
    "lenVar": 40
   },
   "kernels_config": {
    "python": {
     "delete_cmd_postfix": "",
     "delete_cmd_prefix": "del ",
     "library": "var_list.py",
     "varRefreshCmd": "print(var_dic_list())"
    },
    "r": {
     "delete_cmd_postfix": ") ",
     "delete_cmd_prefix": "rm(",
     "library": "var_list.r",
     "varRefreshCmd": "cat(var_dic_list()) "
    }
   },
   "types_to_exclude": [
    "module",
    "function",
    "builtin_function_or_method",
    "instance",
    "_Feature"
   ],
   "window_display": false
  }
 },
 "nbformat": 4,
 "nbformat_minor": 5
}
